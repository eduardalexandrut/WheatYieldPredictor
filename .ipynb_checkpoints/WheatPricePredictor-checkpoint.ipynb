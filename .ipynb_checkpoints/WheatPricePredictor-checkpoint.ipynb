{
 "cells": [
  {
   "cell_type": "markdown",
   "id": "e461fa43-a4bd-427a-9218-405fed1a7380",
   "metadata": {},
   "source": [
    "# Descrizione del problema\n",
    "Il nostro obiettivo è quello di creare un modello di regressione in grado di predire la quantità di grano prodotto da un determinato paese, conoscendo i seguenti fattori, ambientiali e non:\n",
    "- Paese.\n",
    "- Quantità media di pioggia caduta.\n",
    "- Temperatura.\n",
    "- Quantità di pesticidi.\n",
    "\n",
    "Cercando online, siamo riusciti a trovare i dataset necessari. I dataset sono stati presi dal sito online della FAO(Food and Agricolture Organization of the United Nations)."
   ]
  },
  {
   "cell_type": "markdown",
   "id": "05916b9e-a376-4f35-bdae-f5f2487ddc05",
   "metadata": {
    "tags": []
   },
   "source": [
    "# Descrizione dei dati\n",
    "I dataset sono 4:\n",
    "- `yield`, che contiene i dati relativi alla quantità raccolta di diversi frumenti, tra cui il grano.\n",
    "- `rainfall`, che contiene i dati relativi alla pioggia.\n",
    "- `temp`, che contiene i dati relativi alla temperatura.\n",
    "- `pesticides`, che contiene i dati relativi ai pesticidi."
   ]
  },
  {
   "cell_type": "markdown",
   "id": "22081e25-ed52-494f-a7a5-839da52b9bb5",
   "metadata": {},
   "source": [
    "Importiamo le librerie necessarie:"
   ]
  },
  {
   "cell_type": "code",
   "execution_count": 376,
   "id": "d0fdbe60-91c7-496e-9d63-6c35040c2885",
   "metadata": {
    "tags": []
   },
   "outputs": [],
   "source": [
    "import numpy as np\n",
    "import pandas as pd\n",
    "import matplotlib.pyplot as plt\n",
    "import sklearn\n",
    "import seaborn as sns\n",
    "%matplotlib inline"
   ]
  },
  {
   "cell_type": "markdown",
   "id": "b4c34e40-92d8-4c4d-b5c2-2d449a32120f",
   "metadata": {},
   "source": [
    "### Rain"
   ]
  },
  {
   "cell_type": "code",
   "execution_count": 377,
   "id": "8a7871fe-4569-4f3f-b6db-3b268da5106d",
   "metadata": {
    "tags": []
   },
   "outputs": [
    {
     "name": "stdout",
     "output_type": "stream",
     "text": [
      "<class 'pandas.core.frame.DataFrame'>\n",
      "RangeIndex: 6727 entries, 0 to 6726\n",
      "Data columns (total 3 columns):\n",
      " #   Column                         Non-Null Count  Dtype \n",
      "---  ------                         --------------  ----- \n",
      " 0    Area                          6727 non-null   object\n",
      " 1   Year                           6727 non-null   int64 \n",
      " 2   average_rain_fall_mm_per_year  5953 non-null   object\n",
      "dtypes: int64(1), object(2)\n",
      "memory usage: 157.8+ KB\n"
     ]
    }
   ],
   "source": [
    "rain = pd.read_csv('rainfall.csv')\n",
    "rain.info()"
   ]
  },
  {
   "cell_type": "code",
   "execution_count": 378,
   "id": "9981a2f4-bb42-4de1-9524-e57dd3bddc22",
   "metadata": {
    "tags": []
   },
   "outputs": [
    {
     "data": {
      "text/plain": [
       "(6727, 3)"
      ]
     },
     "execution_count": 378,
     "metadata": {},
     "output_type": "execute_result"
    }
   ],
   "source": [
    "rain.shape"
   ]
  },
  {
   "cell_type": "code",
   "execution_count": 379,
   "id": "0d45e313-44c0-47a9-90b0-b80328e4cb57",
   "metadata": {
    "tags": []
   },
   "outputs": [
    {
     "data": {
      "text/html": [
       "<div>\n",
       "<style scoped>\n",
       "    .dataframe tbody tr th:only-of-type {\n",
       "        vertical-align: middle;\n",
       "    }\n",
       "\n",
       "    .dataframe tbody tr th {\n",
       "        vertical-align: top;\n",
       "    }\n",
       "\n",
       "    .dataframe thead th {\n",
       "        text-align: right;\n",
       "    }\n",
       "</style>\n",
       "<table border=\"1\" class=\"dataframe\">\n",
       "  <thead>\n",
       "    <tr style=\"text-align: right;\">\n",
       "      <th></th>\n",
       "      <th>Area</th>\n",
       "      <th>Year</th>\n",
       "      <th>average_rain_fall_mm_per_year</th>\n",
       "    </tr>\n",
       "  </thead>\n",
       "  <tbody>\n",
       "    <tr>\n",
       "      <th>0</th>\n",
       "      <td>Afghanistan</td>\n",
       "      <td>1985</td>\n",
       "      <td>327</td>\n",
       "    </tr>\n",
       "    <tr>\n",
       "      <th>1</th>\n",
       "      <td>Afghanistan</td>\n",
       "      <td>1986</td>\n",
       "      <td>327</td>\n",
       "    </tr>\n",
       "    <tr>\n",
       "      <th>2</th>\n",
       "      <td>Afghanistan</td>\n",
       "      <td>1987</td>\n",
       "      <td>327</td>\n",
       "    </tr>\n",
       "    <tr>\n",
       "      <th>3</th>\n",
       "      <td>Afghanistan</td>\n",
       "      <td>1989</td>\n",
       "      <td>327</td>\n",
       "    </tr>\n",
       "    <tr>\n",
       "      <th>4</th>\n",
       "      <td>Afghanistan</td>\n",
       "      <td>1990</td>\n",
       "      <td>327</td>\n",
       "    </tr>\n",
       "  </tbody>\n",
       "</table>\n",
       "</div>"
      ],
      "text/plain": [
       "          Area  Year average_rain_fall_mm_per_year\n",
       "0  Afghanistan  1985                           327\n",
       "1  Afghanistan  1986                           327\n",
       "2  Afghanistan  1987                           327\n",
       "3  Afghanistan  1989                           327\n",
       "4  Afghanistan  1990                           327"
      ]
     },
     "execution_count": 379,
     "metadata": {},
     "output_type": "execute_result"
    }
   ],
   "source": [
    "rain.head()"
   ]
  },
  {
   "cell_type": "markdown",
   "id": "fe05bbfb-71d0-4049-93d6-28c07fede933",
   "metadata": {},
   "source": [
    "Come possiamo vedere, il dataset `rain` ha 3 feature:\n",
    "- `Area`, che contiene il nome dello stato.\n",
    "- `Year`, che indica l'anno in cui sono stati raccolti i dati.\n",
    "- `average_rain_fall_mm_per_year`, che indica la quantità media di pioggia caduta in millimetri, in un determinato anno e in un determinato paese.\n",
    "\n",
    "Inoltre, le feature `Area` e `average_rain_fall_mm_per_year` vengono memorizzate come `object`. Questo succede poichè nel leggere i dati, Pandas converte di deafult in object tutti i tipi che non sono interi.Dunque, cambiamo il tipo di `Area` in `String`, ed il tipo di `average_rain_fall_mm_per_year` in `Float`."
   ]
  },
  {
   "cell_type": "code",
   "execution_count": 380,
   "id": "c111ce7b-e3cc-43d6-8509-be6290cf9ab6",
   "metadata": {
    "tags": []
   },
   "outputs": [
    {
     "data": {
      "text/html": [
       "<div>\n",
       "<style scoped>\n",
       "    .dataframe tbody tr th:only-of-type {\n",
       "        vertical-align: middle;\n",
       "    }\n",
       "\n",
       "    .dataframe tbody tr th {\n",
       "        vertical-align: top;\n",
       "    }\n",
       "\n",
       "    .dataframe thead th {\n",
       "        text-align: right;\n",
       "    }\n",
       "</style>\n",
       "<table border=\"1\" class=\"dataframe\">\n",
       "  <thead>\n",
       "    <tr style=\"text-align: right;\">\n",
       "      <th></th>\n",
       "      <th>Year</th>\n",
       "    </tr>\n",
       "  </thead>\n",
       "  <tbody>\n",
       "    <tr>\n",
       "      <th>count</th>\n",
       "      <td>6727.000000</td>\n",
       "    </tr>\n",
       "    <tr>\n",
       "      <th>mean</th>\n",
       "      <td>2001.354839</td>\n",
       "    </tr>\n",
       "    <tr>\n",
       "      <th>std</th>\n",
       "      <td>9.530114</td>\n",
       "    </tr>\n",
       "    <tr>\n",
       "      <th>min</th>\n",
       "      <td>1985.000000</td>\n",
       "    </tr>\n",
       "    <tr>\n",
       "      <th>25%</th>\n",
       "      <td>1993.000000</td>\n",
       "    </tr>\n",
       "    <tr>\n",
       "      <th>50%</th>\n",
       "      <td>2001.000000</td>\n",
       "    </tr>\n",
       "    <tr>\n",
       "      <th>75%</th>\n",
       "      <td>2010.000000</td>\n",
       "    </tr>\n",
       "    <tr>\n",
       "      <th>max</th>\n",
       "      <td>2017.000000</td>\n",
       "    </tr>\n",
       "  </tbody>\n",
       "</table>\n",
       "</div>"
      ],
      "text/plain": [
       "              Year\n",
       "count  6727.000000\n",
       "mean   2001.354839\n",
       "std       9.530114\n",
       "min    1985.000000\n",
       "25%    1993.000000\n",
       "50%    2001.000000\n",
       "75%    2010.000000\n",
       "max    2017.000000"
      ]
     },
     "execution_count": 380,
     "metadata": {},
     "output_type": "execute_result"
    }
   ],
   "source": [
    "rain.describe()"
   ]
  },
  {
   "cell_type": "markdown",
   "id": "c10f1fae-893a-4da3-8ec3-e3177e4ae684",
   "metadata": {},
   "source": [
    "Notiamo che il dataset, per ogni `Area`, contiene dati dal 1985 al 2017."
   ]
  },
  {
   "cell_type": "code",
   "execution_count": 381,
   "id": "e79a7d9b-97ff-4850-841a-5e2fe9c189e8",
   "metadata": {
    "tags": []
   },
   "outputs": [
    {
     "name": "stdout",
     "output_type": "stream",
     "text": [
      "<class 'pandas.core.frame.DataFrame'>\n",
      "RangeIndex: 6727 entries, 0 to 6726\n",
      "Data columns (total 3 columns):\n",
      " #   Column                         Non-Null Count  Dtype  \n",
      "---  ------                         --------------  -----  \n",
      " 0   Area                           6727 non-null   string \n",
      " 1   Year                           6727 non-null   int64  \n",
      " 2   average_rain_fall_mm_per_year  5947 non-null   float64\n",
      "dtypes: float64(1), int64(1), string(1)\n",
      "memory usage: 157.8 KB\n"
     ]
    }
   ],
   "source": [
    "rain['average_rain_fall_mm_per_year'] = pd.to_numeric(rain['average_rain_fall_mm_per_year'],errors = 'coerce')\n",
    "rain[' Area'] = rain[' Area'].astype(pd.StringDtype())\n",
    "rain.rename(columns={' Area': 'Area'}, inplace=True)\n",
    "rain.info()  "
   ]
  },
  {
   "cell_type": "markdown",
   "id": "04a42283-c259-4be6-86de-c4ff9a62b0fd",
   "metadata": {
    "tags": []
   },
   "source": [
    "Oltre ad una migliore rappresentazione dei dati, otteniamo anche una dimensione fissa del file di 157.8 KB."
   ]
  },
  {
   "cell_type": "code",
   "execution_count": 382,
   "id": "bbcc96a7-8ff2-4c74-a279-7fb841ba7d7b",
   "metadata": {
    "tags": []
   },
   "outputs": [
    {
     "name": "stdout",
     "output_type": "stream",
     "text": [
      "Numero totale di paesi: 217\n"
     ]
    }
   ],
   "source": [
    "print(f\"Numero totale di paesi: {rain['Area'].unique().size}\")"
   ]
  },
  {
   "cell_type": "markdown",
   "id": "8f63d328-48ce-4a33-ad03-8d095ae0a96d",
   "metadata": {},
   "source": [
    "Il dataset contiene 217 paesi in totale."
   ]
  },
  {
   "cell_type": "code",
   "execution_count": 383,
   "id": "8bd3e88e-d90b-4c66-bd84-0062eadbfe7f",
   "metadata": {
    "tags": []
   },
   "outputs": [
    {
     "data": {
      "text/plain": [
       "(6727, 3)"
      ]
     },
     "execution_count": 383,
     "metadata": {},
     "output_type": "execute_result"
    }
   ],
   "source": [
    "rain.dropna()\n",
    "rain.shape"
   ]
  },
  {
   "cell_type": "markdown",
   "id": "819c0319-acbd-4dbe-b8e7-dd4656549598",
   "metadata": {},
   "source": [
    "Chiamando il metodo `dropna` togliamo tutte le righe contenenti valori null. Osserviamo però che la shape del data frame non è cambiato, quindi non erano presenti righe con valori null."
   ]
  },
  {
   "cell_type": "markdown",
   "id": "7127f776-e168-4fdd-8eaf-354dbd413609",
   "metadata": {
    "tags": []
   },
   "source": [
    "### Pesticides"
   ]
  },
  {
   "cell_type": "code",
   "execution_count": 384,
   "id": "dd082646-3608-43ec-bc26-a32693c8024b",
   "metadata": {
    "tags": []
   },
   "outputs": [
    {
     "name": "stdout",
     "output_type": "stream",
     "text": [
      "<class 'pandas.core.frame.DataFrame'>\n",
      "RangeIndex: 4349 entries, 0 to 4348\n",
      "Data columns (total 7 columns):\n",
      " #   Column   Non-Null Count  Dtype  \n",
      "---  ------   --------------  -----  \n",
      " 0   Domain   4349 non-null   object \n",
      " 1   Area     4349 non-null   object \n",
      " 2   Element  4349 non-null   object \n",
      " 3   Item     4349 non-null   object \n",
      " 4   Year     4349 non-null   int64  \n",
      " 5   Unit     4349 non-null   object \n",
      " 6   Value    4349 non-null   float64\n",
      "dtypes: float64(1), int64(1), object(5)\n",
      "memory usage: 238.0+ KB\n"
     ]
    }
   ],
   "source": [
    "pest = pd.read_csv('pesticides.csv')\n",
    "pest.info()"
   ]
  },
  {
   "cell_type": "code",
   "execution_count": 385,
   "id": "d855e14e-226a-41ca-be3d-6980bb2d36bb",
   "metadata": {
    "tags": []
   },
   "outputs": [
    {
     "data": {
      "text/plain": [
       "(4349, 7)"
      ]
     },
     "execution_count": 385,
     "metadata": {},
     "output_type": "execute_result"
    }
   ],
   "source": [
    "pest.shape"
   ]
  },
  {
   "cell_type": "code",
   "execution_count": 386,
   "id": "929dfc37-79a9-4741-bf20-d5cccafa1f61",
   "metadata": {
    "tags": []
   },
   "outputs": [
    {
     "data": {
      "text/html": [
       "<div>\n",
       "<style scoped>\n",
       "    .dataframe tbody tr th:only-of-type {\n",
       "        vertical-align: middle;\n",
       "    }\n",
       "\n",
       "    .dataframe tbody tr th {\n",
       "        vertical-align: top;\n",
       "    }\n",
       "\n",
       "    .dataframe thead th {\n",
       "        text-align: right;\n",
       "    }\n",
       "</style>\n",
       "<table border=\"1\" class=\"dataframe\">\n",
       "  <thead>\n",
       "    <tr style=\"text-align: right;\">\n",
       "      <th></th>\n",
       "      <th>Domain</th>\n",
       "      <th>Area</th>\n",
       "      <th>Element</th>\n",
       "      <th>Item</th>\n",
       "      <th>Year</th>\n",
       "      <th>Unit</th>\n",
       "      <th>Value</th>\n",
       "    </tr>\n",
       "  </thead>\n",
       "  <tbody>\n",
       "    <tr>\n",
       "      <th>0</th>\n",
       "      <td>Pesticides Use</td>\n",
       "      <td>Albania</td>\n",
       "      <td>Use</td>\n",
       "      <td>Pesticides (total)</td>\n",
       "      <td>1990</td>\n",
       "      <td>tonnes of active ingredients</td>\n",
       "      <td>121.0</td>\n",
       "    </tr>\n",
       "    <tr>\n",
       "      <th>1</th>\n",
       "      <td>Pesticides Use</td>\n",
       "      <td>Albania</td>\n",
       "      <td>Use</td>\n",
       "      <td>Pesticides (total)</td>\n",
       "      <td>1991</td>\n",
       "      <td>tonnes of active ingredients</td>\n",
       "      <td>121.0</td>\n",
       "    </tr>\n",
       "    <tr>\n",
       "      <th>2</th>\n",
       "      <td>Pesticides Use</td>\n",
       "      <td>Albania</td>\n",
       "      <td>Use</td>\n",
       "      <td>Pesticides (total)</td>\n",
       "      <td>1992</td>\n",
       "      <td>tonnes of active ingredients</td>\n",
       "      <td>121.0</td>\n",
       "    </tr>\n",
       "    <tr>\n",
       "      <th>3</th>\n",
       "      <td>Pesticides Use</td>\n",
       "      <td>Albania</td>\n",
       "      <td>Use</td>\n",
       "      <td>Pesticides (total)</td>\n",
       "      <td>1993</td>\n",
       "      <td>tonnes of active ingredients</td>\n",
       "      <td>121.0</td>\n",
       "    </tr>\n",
       "    <tr>\n",
       "      <th>4</th>\n",
       "      <td>Pesticides Use</td>\n",
       "      <td>Albania</td>\n",
       "      <td>Use</td>\n",
       "      <td>Pesticides (total)</td>\n",
       "      <td>1994</td>\n",
       "      <td>tonnes of active ingredients</td>\n",
       "      <td>201.0</td>\n",
       "    </tr>\n",
       "  </tbody>\n",
       "</table>\n",
       "</div>"
      ],
      "text/plain": [
       "           Domain     Area Element                Item  Year  \\\n",
       "0  Pesticides Use  Albania     Use  Pesticides (total)  1990   \n",
       "1  Pesticides Use  Albania     Use  Pesticides (total)  1991   \n",
       "2  Pesticides Use  Albania     Use  Pesticides (total)  1992   \n",
       "3  Pesticides Use  Albania     Use  Pesticides (total)  1993   \n",
       "4  Pesticides Use  Albania     Use  Pesticides (total)  1994   \n",
       "\n",
       "                           Unit  Value  \n",
       "0  tonnes of active ingredients  121.0  \n",
       "1  tonnes of active ingredients  121.0  \n",
       "2  tonnes of active ingredients  121.0  \n",
       "3  tonnes of active ingredients  121.0  \n",
       "4  tonnes of active ingredients  201.0  "
      ]
     },
     "execution_count": 386,
     "metadata": {},
     "output_type": "execute_result"
    }
   ],
   "source": [
    "pest.head()"
   ]
  },
  {
   "cell_type": "markdown",
   "id": "faffb0ab-937a-408a-94a3-ff952d89de3c",
   "metadata": {},
   "source": [
    "Il dataset contiene le seguenti features:\n",
    "- `Domain`, dominio dei dati raccolti. Il dominio sarà lo stesso per tutte le istanze del dataset.\n",
    "- `Item`, tipologia di prodotto utilizzato. Nel nostro caso sono solo pesticicidi.\n",
    "- `Area`, nome del paese in questione,\n",
    "- `Year`, anno in cui sono state raccolte tali informazioni.\n",
    "- `Unit`, unità di misura(in questo caso tonnellate).\n",
    "- `Value`, quantità di pesticidi usati in un determinato anno in un determinato paese.\n",
    "\n",
    "Le feature `Domain`, `Element`, `Item` e `Unit` sono inutili per il nostro modello, perciò le rimuoviamo. Inoltre cambiamo il nome della colonna `Value` in `Value_in_t` per indicare l'unità di misura e rimuoviamo le eventuali righe contenenti valori null."
   ]
  },
  {
   "cell_type": "code",
   "execution_count": 387,
   "id": "6881136e-7b49-4758-96af-7a85a6b9e7e2",
   "metadata": {
    "tags": []
   },
   "outputs": [],
   "source": [
    "pest['Area'] = pest['Area'].astype(pd.StringDtype())"
   ]
  },
  {
   "cell_type": "code",
   "execution_count": 388,
   "id": "5f77d84c-c289-499e-8a89-926e96c71edf",
   "metadata": {
    "tags": []
   },
   "outputs": [
    {
     "data": {
      "text/html": [
       "<div>\n",
       "<style scoped>\n",
       "    .dataframe tbody tr th:only-of-type {\n",
       "        vertical-align: middle;\n",
       "    }\n",
       "\n",
       "    .dataframe tbody tr th {\n",
       "        vertical-align: top;\n",
       "    }\n",
       "\n",
       "    .dataframe thead th {\n",
       "        text-align: right;\n",
       "    }\n",
       "</style>\n",
       "<table border=\"1\" class=\"dataframe\">\n",
       "  <thead>\n",
       "    <tr style=\"text-align: right;\">\n",
       "      <th></th>\n",
       "      <th>Domain</th>\n",
       "      <th>Area</th>\n",
       "      <th>Element</th>\n",
       "      <th>Item</th>\n",
       "      <th>Year</th>\n",
       "      <th>Unit</th>\n",
       "      <th>Value</th>\n",
       "    </tr>\n",
       "  </thead>\n",
       "  <tbody>\n",
       "    <tr>\n",
       "      <th>0</th>\n",
       "      <td>Pesticides Use</td>\n",
       "      <td>Albania</td>\n",
       "      <td>Use</td>\n",
       "      <td>Pesticides (total)</td>\n",
       "      <td>1990</td>\n",
       "      <td>tonnes of active ingredients</td>\n",
       "      <td>121.00</td>\n",
       "    </tr>\n",
       "    <tr>\n",
       "      <th>1</th>\n",
       "      <td>Pesticides Use</td>\n",
       "      <td>Albania</td>\n",
       "      <td>Use</td>\n",
       "      <td>Pesticides (total)</td>\n",
       "      <td>1991</td>\n",
       "      <td>tonnes of active ingredients</td>\n",
       "      <td>121.00</td>\n",
       "    </tr>\n",
       "    <tr>\n",
       "      <th>2</th>\n",
       "      <td>Pesticides Use</td>\n",
       "      <td>Albania</td>\n",
       "      <td>Use</td>\n",
       "      <td>Pesticides (total)</td>\n",
       "      <td>1992</td>\n",
       "      <td>tonnes of active ingredients</td>\n",
       "      <td>121.00</td>\n",
       "    </tr>\n",
       "    <tr>\n",
       "      <th>3</th>\n",
       "      <td>Pesticides Use</td>\n",
       "      <td>Albania</td>\n",
       "      <td>Use</td>\n",
       "      <td>Pesticides (total)</td>\n",
       "      <td>1993</td>\n",
       "      <td>tonnes of active ingredients</td>\n",
       "      <td>121.00</td>\n",
       "    </tr>\n",
       "    <tr>\n",
       "      <th>4</th>\n",
       "      <td>Pesticides Use</td>\n",
       "      <td>Albania</td>\n",
       "      <td>Use</td>\n",
       "      <td>Pesticides (total)</td>\n",
       "      <td>1994</td>\n",
       "      <td>tonnes of active ingredients</td>\n",
       "      <td>201.00</td>\n",
       "    </tr>\n",
       "    <tr>\n",
       "      <th>...</th>\n",
       "      <td>...</td>\n",
       "      <td>...</td>\n",
       "      <td>...</td>\n",
       "      <td>...</td>\n",
       "      <td>...</td>\n",
       "      <td>...</td>\n",
       "      <td>...</td>\n",
       "    </tr>\n",
       "    <tr>\n",
       "      <th>4344</th>\n",
       "      <td>Pesticides Use</td>\n",
       "      <td>Zimbabwe</td>\n",
       "      <td>Use</td>\n",
       "      <td>Pesticides (total)</td>\n",
       "      <td>2012</td>\n",
       "      <td>tonnes of active ingredients</td>\n",
       "      <td>3375.53</td>\n",
       "    </tr>\n",
       "    <tr>\n",
       "      <th>4345</th>\n",
       "      <td>Pesticides Use</td>\n",
       "      <td>Zimbabwe</td>\n",
       "      <td>Use</td>\n",
       "      <td>Pesticides (total)</td>\n",
       "      <td>2013</td>\n",
       "      <td>tonnes of active ingredients</td>\n",
       "      <td>2550.07</td>\n",
       "    </tr>\n",
       "    <tr>\n",
       "      <th>4346</th>\n",
       "      <td>Pesticides Use</td>\n",
       "      <td>Zimbabwe</td>\n",
       "      <td>Use</td>\n",
       "      <td>Pesticides (total)</td>\n",
       "      <td>2014</td>\n",
       "      <td>tonnes of active ingredients</td>\n",
       "      <td>2185.07</td>\n",
       "    </tr>\n",
       "    <tr>\n",
       "      <th>4347</th>\n",
       "      <td>Pesticides Use</td>\n",
       "      <td>Zimbabwe</td>\n",
       "      <td>Use</td>\n",
       "      <td>Pesticides (total)</td>\n",
       "      <td>2015</td>\n",
       "      <td>tonnes of active ingredients</td>\n",
       "      <td>2185.07</td>\n",
       "    </tr>\n",
       "    <tr>\n",
       "      <th>4348</th>\n",
       "      <td>Pesticides Use</td>\n",
       "      <td>Zimbabwe</td>\n",
       "      <td>Use</td>\n",
       "      <td>Pesticides (total)</td>\n",
       "      <td>2016</td>\n",
       "      <td>tonnes of active ingredients</td>\n",
       "      <td>2185.07</td>\n",
       "    </tr>\n",
       "  </tbody>\n",
       "</table>\n",
       "<p>4349 rows × 7 columns</p>\n",
       "</div>"
      ],
      "text/plain": [
       "              Domain      Area Element                Item  Year  \\\n",
       "0     Pesticides Use   Albania     Use  Pesticides (total)  1990   \n",
       "1     Pesticides Use   Albania     Use  Pesticides (total)  1991   \n",
       "2     Pesticides Use   Albania     Use  Pesticides (total)  1992   \n",
       "3     Pesticides Use   Albania     Use  Pesticides (total)  1993   \n",
       "4     Pesticides Use   Albania     Use  Pesticides (total)  1994   \n",
       "...              ...       ...     ...                 ...   ...   \n",
       "4344  Pesticides Use  Zimbabwe     Use  Pesticides (total)  2012   \n",
       "4345  Pesticides Use  Zimbabwe     Use  Pesticides (total)  2013   \n",
       "4346  Pesticides Use  Zimbabwe     Use  Pesticides (total)  2014   \n",
       "4347  Pesticides Use  Zimbabwe     Use  Pesticides (total)  2015   \n",
       "4348  Pesticides Use  Zimbabwe     Use  Pesticides (total)  2016   \n",
       "\n",
       "                              Unit    Value  \n",
       "0     tonnes of active ingredients   121.00  \n",
       "1     tonnes of active ingredients   121.00  \n",
       "2     tonnes of active ingredients   121.00  \n",
       "3     tonnes of active ingredients   121.00  \n",
       "4     tonnes of active ingredients   201.00  \n",
       "...                            ...      ...  \n",
       "4344  tonnes of active ingredients  3375.53  \n",
       "4345  tonnes of active ingredients  2550.07  \n",
       "4346  tonnes of active ingredients  2185.07  \n",
       "4347  tonnes of active ingredients  2185.07  \n",
       "4348  tonnes of active ingredients  2185.07  \n",
       "\n",
       "[4349 rows x 7 columns]"
      ]
     },
     "execution_count": 388,
     "metadata": {},
     "output_type": "execute_result"
    }
   ],
   "source": [
    "pest.dropna()"
   ]
  },
  {
   "cell_type": "code",
   "execution_count": 389,
   "id": "8fbc0e82-3f09-4176-92c4-4f1b29d98015",
   "metadata": {
    "tags": []
   },
   "outputs": [
    {
     "data": {
      "text/html": [
       "<div>\n",
       "<style scoped>\n",
       "    .dataframe tbody tr th:only-of-type {\n",
       "        vertical-align: middle;\n",
       "    }\n",
       "\n",
       "    .dataframe tbody tr th {\n",
       "        vertical-align: top;\n",
       "    }\n",
       "\n",
       "    .dataframe thead th {\n",
       "        text-align: right;\n",
       "    }\n",
       "</style>\n",
       "<table border=\"1\" class=\"dataframe\">\n",
       "  <thead>\n",
       "    <tr style=\"text-align: right;\">\n",
       "      <th></th>\n",
       "      <th>Area</th>\n",
       "      <th>Year</th>\n",
       "      <th>pesticides_in_t</th>\n",
       "    </tr>\n",
       "  </thead>\n",
       "  <tbody>\n",
       "    <tr>\n",
       "      <th>0</th>\n",
       "      <td>Albania</td>\n",
       "      <td>1990</td>\n",
       "      <td>121.0</td>\n",
       "    </tr>\n",
       "    <tr>\n",
       "      <th>1</th>\n",
       "      <td>Albania</td>\n",
       "      <td>1991</td>\n",
       "      <td>121.0</td>\n",
       "    </tr>\n",
       "    <tr>\n",
       "      <th>2</th>\n",
       "      <td>Albania</td>\n",
       "      <td>1992</td>\n",
       "      <td>121.0</td>\n",
       "    </tr>\n",
       "    <tr>\n",
       "      <th>3</th>\n",
       "      <td>Albania</td>\n",
       "      <td>1993</td>\n",
       "      <td>121.0</td>\n",
       "    </tr>\n",
       "    <tr>\n",
       "      <th>4</th>\n",
       "      <td>Albania</td>\n",
       "      <td>1994</td>\n",
       "      <td>201.0</td>\n",
       "    </tr>\n",
       "  </tbody>\n",
       "</table>\n",
       "</div>"
      ],
      "text/plain": [
       "      Area  Year  pesticides_in_t\n",
       "0  Albania  1990            121.0\n",
       "1  Albania  1991            121.0\n",
       "2  Albania  1992            121.0\n",
       "3  Albania  1993            121.0\n",
       "4  Albania  1994            201.0"
      ]
     },
     "execution_count": 389,
     "metadata": {},
     "output_type": "execute_result"
    }
   ],
   "source": [
    "pest.drop(['Domain', 'Item', 'Unit', 'Element'], axis = 1, inplace= True)\n",
    "pest.rename(columns = {'Value':'pesticides_in_t'}, inplace=True)\n",
    "pest.head()"
   ]
  },
  {
   "cell_type": "code",
   "execution_count": 390,
   "id": "ff951289-3df7-4830-98ef-dac09c9dd7af",
   "metadata": {
    "tags": []
   },
   "outputs": [
    {
     "data": {
      "text/html": [
       "<div>\n",
       "<style scoped>\n",
       "    .dataframe tbody tr th:only-of-type {\n",
       "        vertical-align: middle;\n",
       "    }\n",
       "\n",
       "    .dataframe tbody tr th {\n",
       "        vertical-align: top;\n",
       "    }\n",
       "\n",
       "    .dataframe thead th {\n",
       "        text-align: right;\n",
       "    }\n",
       "</style>\n",
       "<table border=\"1\" class=\"dataframe\">\n",
       "  <thead>\n",
       "    <tr style=\"text-align: right;\">\n",
       "      <th></th>\n",
       "      <th>Year</th>\n",
       "      <th>pesticides_in_t</th>\n",
       "    </tr>\n",
       "  </thead>\n",
       "  <tbody>\n",
       "    <tr>\n",
       "      <th>count</th>\n",
       "      <td>4349.000000</td>\n",
       "      <td>4.349000e+03</td>\n",
       "    </tr>\n",
       "    <tr>\n",
       "      <th>mean</th>\n",
       "      <td>2003.138883</td>\n",
       "      <td>2.030334e+04</td>\n",
       "    </tr>\n",
       "    <tr>\n",
       "      <th>std</th>\n",
       "      <td>7.728044</td>\n",
       "      <td>1.177362e+05</td>\n",
       "    </tr>\n",
       "    <tr>\n",
       "      <th>min</th>\n",
       "      <td>1990.000000</td>\n",
       "      <td>0.000000e+00</td>\n",
       "    </tr>\n",
       "    <tr>\n",
       "      <th>25%</th>\n",
       "      <td>1996.000000</td>\n",
       "      <td>9.300000e+01</td>\n",
       "    </tr>\n",
       "    <tr>\n",
       "      <th>50%</th>\n",
       "      <td>2003.000000</td>\n",
       "      <td>1.137560e+03</td>\n",
       "    </tr>\n",
       "    <tr>\n",
       "      <th>75%</th>\n",
       "      <td>2010.000000</td>\n",
       "      <td>7.869000e+03</td>\n",
       "    </tr>\n",
       "    <tr>\n",
       "      <th>max</th>\n",
       "      <td>2016.000000</td>\n",
       "      <td>1.807000e+06</td>\n",
       "    </tr>\n",
       "  </tbody>\n",
       "</table>\n",
       "</div>"
      ],
      "text/plain": [
       "              Year  pesticides_in_t\n",
       "count  4349.000000     4.349000e+03\n",
       "mean   2003.138883     2.030334e+04\n",
       "std       7.728044     1.177362e+05\n",
       "min    1990.000000     0.000000e+00\n",
       "25%    1996.000000     9.300000e+01\n",
       "50%    2003.000000     1.137560e+03\n",
       "75%    2010.000000     7.869000e+03\n",
       "max    2016.000000     1.807000e+06"
      ]
     },
     "execution_count": 390,
     "metadata": {},
     "output_type": "execute_result"
    }
   ],
   "source": [
    "pest.describe()"
   ]
  },
  {
   "cell_type": "markdown",
   "id": "dbde6805-da88-44c5-ad45-012d8c9ee6f9",
   "metadata": {},
   "source": [
    "Come possiamo notare, il dataset contiene dati dal 1990 al 2016."
   ]
  },
  {
   "cell_type": "code",
   "execution_count": 391,
   "id": "232e7097-7ea1-425a-befe-ebf43daa38be",
   "metadata": {
    "tags": []
   },
   "outputs": [
    {
     "name": "stdout",
     "output_type": "stream",
     "text": [
      "<class 'pandas.core.frame.DataFrame'>\n",
      "RangeIndex: 4349 entries, 0 to 4348\n",
      "Data columns (total 3 columns):\n",
      " #   Column           Non-Null Count  Dtype  \n",
      "---  ------           --------------  -----  \n",
      " 0   Area             4349 non-null   string \n",
      " 1   Year             4349 non-null   int64  \n",
      " 2   pesticides_in_t  4349 non-null   float64\n",
      "dtypes: float64(1), int64(1), string(1)\n",
      "memory usage: 102.1 KB\n"
     ]
    }
   ],
   "source": [
    "pest.info()"
   ]
  },
  {
   "cell_type": "code",
   "execution_count": 392,
   "id": "01a0a7cc-851d-4ba1-bdb1-2db80363abfe",
   "metadata": {
    "tags": []
   },
   "outputs": [
    {
     "data": {
      "text/plain": [
       "(4349, 3)"
      ]
     },
     "execution_count": 392,
     "metadata": {},
     "output_type": "execute_result"
    }
   ],
   "source": [
    "pest.shape"
   ]
  },
  {
   "cell_type": "markdown",
   "id": "d56a6075-f066-48f4-a542-ea302b175ef8",
   "metadata": {},
   "source": [
    "Eseguendo le operazioni precedenti, siamo riusciti a ridurre la dimensione totale del dataset a 102.1 KB. Il numero di righe non è cambiato dopo aver chiamato il metodo `dropna`, perciò non erano presenti righe con valori null."
   ]
  },
  {
   "cell_type": "code",
   "execution_count": 393,
   "id": "0e39eb7e-00d1-4236-9d25-a305c2a858bd",
   "metadata": {
    "tags": []
   },
   "outputs": [
    {
     "name": "stdout",
     "output_type": "stream",
     "text": [
      "Numero totale di paesi: 168\n"
     ]
    }
   ],
   "source": [
    "print(f\"Numero totale di paesi: {pest['Area'].unique().size}\")"
   ]
  },
  {
   "cell_type": "markdown",
   "id": "aeb5d6f9-af0b-4d65-bc5e-a0cb30a147ea",
   "metadata": {},
   "source": [
    "Vediamo che il numero di paesi di questo dataset è minore rispetto al dataest `rain`. Dunque, per poter procedere verso il merging dei vari dataset per creare uno solo, bisogna rimuovere da `rain` tutte le righe rigurdanti i paesi non contenuti in `pesticides`."
   ]
  },
  {
   "cell_type": "markdown",
   "id": "d95086a2-3c9a-4b7d-9c4b-93a46049a8aa",
   "metadata": {},
   "source": [
    "### Temperature"
   ]
  },
  {
   "cell_type": "code",
   "execution_count": 394,
   "id": "1f2ecc9a-a7a5-44e2-b0a1-bc3c2da8fdff",
   "metadata": {
    "tags": []
   },
   "outputs": [
    {
     "data": {
      "text/html": [
       "<div>\n",
       "<style scoped>\n",
       "    .dataframe tbody tr th:only-of-type {\n",
       "        vertical-align: middle;\n",
       "    }\n",
       "\n",
       "    .dataframe tbody tr th {\n",
       "        vertical-align: top;\n",
       "    }\n",
       "\n",
       "    .dataframe thead th {\n",
       "        text-align: right;\n",
       "    }\n",
       "</style>\n",
       "<table border=\"1\" class=\"dataframe\">\n",
       "  <thead>\n",
       "    <tr style=\"text-align: right;\">\n",
       "      <th></th>\n",
       "      <th>year</th>\n",
       "      <th>country</th>\n",
       "      <th>avg_temp</th>\n",
       "    </tr>\n",
       "  </thead>\n",
       "  <tbody>\n",
       "    <tr>\n",
       "      <th>0</th>\n",
       "      <td>1849</td>\n",
       "      <td>Côte D'Ivoire</td>\n",
       "      <td>25.58</td>\n",
       "    </tr>\n",
       "    <tr>\n",
       "      <th>1</th>\n",
       "      <td>1850</td>\n",
       "      <td>Côte D'Ivoire</td>\n",
       "      <td>25.52</td>\n",
       "    </tr>\n",
       "    <tr>\n",
       "      <th>2</th>\n",
       "      <td>1851</td>\n",
       "      <td>Côte D'Ivoire</td>\n",
       "      <td>25.67</td>\n",
       "    </tr>\n",
       "    <tr>\n",
       "      <th>3</th>\n",
       "      <td>1852</td>\n",
       "      <td>Côte D'Ivoire</td>\n",
       "      <td>NaN</td>\n",
       "    </tr>\n",
       "    <tr>\n",
       "      <th>4</th>\n",
       "      <td>1853</td>\n",
       "      <td>Côte D'Ivoire</td>\n",
       "      <td>NaN</td>\n",
       "    </tr>\n",
       "  </tbody>\n",
       "</table>\n",
       "</div>"
      ],
      "text/plain": [
       "   year        country  avg_temp\n",
       "0  1849  Côte D'Ivoire     25.58\n",
       "1  1850  Côte D'Ivoire     25.52\n",
       "2  1851  Côte D'Ivoire     25.67\n",
       "3  1852  Côte D'Ivoire       NaN\n",
       "4  1853  Côte D'Ivoire       NaN"
      ]
     },
     "execution_count": 394,
     "metadata": {},
     "output_type": "execute_result"
    }
   ],
   "source": [
    "temp_data = pd.read_csv('temp.csv')\n",
    "temp_data.head()"
   ]
  },
  {
   "cell_type": "code",
   "execution_count": 395,
   "id": "8e0e001b-a540-465c-bbc6-6d910a1e9d36",
   "metadata": {
    "tags": []
   },
   "outputs": [
    {
     "name": "stdout",
     "output_type": "stream",
     "text": [
      "<class 'pandas.core.frame.DataFrame'>\n",
      "RangeIndex: 71311 entries, 0 to 71310\n",
      "Data columns (total 3 columns):\n",
      " #   Column    Non-Null Count  Dtype  \n",
      "---  ------    --------------  -----  \n",
      " 0   year      71311 non-null  int64  \n",
      " 1   country   71311 non-null  object \n",
      " 2   avg_temp  68764 non-null  float64\n",
      "dtypes: float64(1), int64(1), object(1)\n",
      "memory usage: 1.6+ MB\n"
     ]
    }
   ],
   "source": [
    "temp_data.info()"
   ]
  },
  {
   "cell_type": "markdown",
   "id": "4a7f6925-0661-4462-a705-47e7af587bb0",
   "metadata": {},
   "source": [
    "La colonna \"country\" è composta da oggetti, per risparmiare della memoria e rendere più facile il suo utilizzo, tutti i valori vengono trasformati in stringhe"
   ]
  },
  {
   "cell_type": "code",
   "execution_count": 396,
   "id": "f0b44261-30ed-4ac0-aa35-d061b55dba50",
   "metadata": {
    "tags": []
   },
   "outputs": [],
   "source": [
    "temp_data['country'] = temp_data['country'].astype('string')"
   ]
  },
  {
   "cell_type": "code",
   "execution_count": 397,
   "id": "bfa2718d-870f-46c0-848d-ae98b5c91006",
   "metadata": {
    "tags": []
   },
   "outputs": [
    {
     "data": {
      "text/plain": [
       "year           0\n",
       "country        0\n",
       "avg_temp    2547\n",
       "dtype: int64"
      ]
     },
     "execution_count": 397,
     "metadata": {},
     "output_type": "execute_result"
    }
   ],
   "source": [
    "temp_data.isna().sum()"
   ]
  },
  {
   "cell_type": "code",
   "execution_count": 398,
   "id": "a16287f1-6c0d-4b19-a4de-cd7d3bb20da3",
   "metadata": {
    "tags": []
   },
   "outputs": [],
   "source": [
    "temp_data = temp_data.dropna()"
   ]
  },
  {
   "cell_type": "code",
   "execution_count": 399,
   "id": "c38e5c69-a365-49ec-9148-7a0e5dc10859",
   "metadata": {
    "tags": []
   },
   "outputs": [
    {
     "data": {
      "text/html": [
       "<div>\n",
       "<style scoped>\n",
       "    .dataframe tbody tr th:only-of-type {\n",
       "        vertical-align: middle;\n",
       "    }\n",
       "\n",
       "    .dataframe tbody tr th {\n",
       "        vertical-align: top;\n",
       "    }\n",
       "\n",
       "    .dataframe thead th {\n",
       "        text-align: right;\n",
       "    }\n",
       "</style>\n",
       "<table border=\"1\" class=\"dataframe\">\n",
       "  <thead>\n",
       "    <tr style=\"text-align: right;\">\n",
       "      <th></th>\n",
       "      <th>year</th>\n",
       "      <th>country</th>\n",
       "      <th>avg_temp</th>\n",
       "    </tr>\n",
       "  </thead>\n",
       "  <tbody>\n",
       "    <tr>\n",
       "      <th>0</th>\n",
       "      <td>1849</td>\n",
       "      <td>Côte D'Ivoire</td>\n",
       "      <td>25.58</td>\n",
       "    </tr>\n",
       "    <tr>\n",
       "      <th>1</th>\n",
       "      <td>1850</td>\n",
       "      <td>Côte D'Ivoire</td>\n",
       "      <td>25.52</td>\n",
       "    </tr>\n",
       "    <tr>\n",
       "      <th>2</th>\n",
       "      <td>1851</td>\n",
       "      <td>Côte D'Ivoire</td>\n",
       "      <td>25.67</td>\n",
       "    </tr>\n",
       "    <tr>\n",
       "      <th>7</th>\n",
       "      <td>1856</td>\n",
       "      <td>Côte D'Ivoire</td>\n",
       "      <td>26.28</td>\n",
       "    </tr>\n",
       "    <tr>\n",
       "      <th>8</th>\n",
       "      <td>1857</td>\n",
       "      <td>Côte D'Ivoire</td>\n",
       "      <td>25.17</td>\n",
       "    </tr>\n",
       "    <tr>\n",
       "      <th>...</th>\n",
       "      <td>...</td>\n",
       "      <td>...</td>\n",
       "      <td>...</td>\n",
       "    </tr>\n",
       "    <tr>\n",
       "      <th>71306</th>\n",
       "      <td>2009</td>\n",
       "      <td>Mexico</td>\n",
       "      <td>21.76</td>\n",
       "    </tr>\n",
       "    <tr>\n",
       "      <th>71307</th>\n",
       "      <td>2010</td>\n",
       "      <td>Mexico</td>\n",
       "      <td>20.90</td>\n",
       "    </tr>\n",
       "    <tr>\n",
       "      <th>71308</th>\n",
       "      <td>2011</td>\n",
       "      <td>Mexico</td>\n",
       "      <td>21.55</td>\n",
       "    </tr>\n",
       "    <tr>\n",
       "      <th>71309</th>\n",
       "      <td>2012</td>\n",
       "      <td>Mexico</td>\n",
       "      <td>21.52</td>\n",
       "    </tr>\n",
       "    <tr>\n",
       "      <th>71310</th>\n",
       "      <td>2013</td>\n",
       "      <td>Mexico</td>\n",
       "      <td>22.19</td>\n",
       "    </tr>\n",
       "  </tbody>\n",
       "</table>\n",
       "<p>68764 rows × 3 columns</p>\n",
       "</div>"
      ],
      "text/plain": [
       "       year        country  avg_temp\n",
       "0      1849  Côte D'Ivoire     25.58\n",
       "1      1850  Côte D'Ivoire     25.52\n",
       "2      1851  Côte D'Ivoire     25.67\n",
       "7      1856  Côte D'Ivoire     26.28\n",
       "8      1857  Côte D'Ivoire     25.17\n",
       "...     ...            ...       ...\n",
       "71306  2009         Mexico     21.76\n",
       "71307  2010         Mexico     20.90\n",
       "71308  2011         Mexico     21.55\n",
       "71309  2012         Mexico     21.52\n",
       "71310  2013         Mexico     22.19\n",
       "\n",
       "[68764 rows x 3 columns]"
      ]
     },
     "execution_count": 399,
     "metadata": {},
     "output_type": "execute_result"
    }
   ],
   "source": [
    "temp_data"
   ]
  },
  {
   "cell_type": "code",
   "execution_count": 400,
   "id": "b04d2bd2-0221-43af-a561-1696db9efcee",
   "metadata": {
    "tags": []
   },
   "outputs": [
    {
     "data": {
      "text/html": [
       "<div>\n",
       "<style scoped>\n",
       "    .dataframe tbody tr th:only-of-type {\n",
       "        vertical-align: middle;\n",
       "    }\n",
       "\n",
       "    .dataframe tbody tr th {\n",
       "        vertical-align: top;\n",
       "    }\n",
       "\n",
       "    .dataframe thead th {\n",
       "        text-align: right;\n",
       "    }\n",
       "</style>\n",
       "<table border=\"1\" class=\"dataframe\">\n",
       "  <thead>\n",
       "    <tr style=\"text-align: right;\">\n",
       "      <th></th>\n",
       "      <th>year</th>\n",
       "      <th>avg_temp</th>\n",
       "    </tr>\n",
       "  </thead>\n",
       "  <tbody>\n",
       "    <tr>\n",
       "      <th>count</th>\n",
       "      <td>68764.000000</td>\n",
       "      <td>68764.000000</td>\n",
       "    </tr>\n",
       "    <tr>\n",
       "      <th>mean</th>\n",
       "      <td>1908.742423</td>\n",
       "      <td>16.183876</td>\n",
       "    </tr>\n",
       "    <tr>\n",
       "      <th>std</th>\n",
       "      <td>66.060692</td>\n",
       "      <td>7.592960</td>\n",
       "    </tr>\n",
       "    <tr>\n",
       "      <th>min</th>\n",
       "      <td>1743.000000</td>\n",
       "      <td>-14.350000</td>\n",
       "    </tr>\n",
       "    <tr>\n",
       "      <th>25%</th>\n",
       "      <td>1862.000000</td>\n",
       "      <td>9.750000</td>\n",
       "    </tr>\n",
       "    <tr>\n",
       "      <th>50%</th>\n",
       "      <td>1914.000000</td>\n",
       "      <td>16.140000</td>\n",
       "    </tr>\n",
       "    <tr>\n",
       "      <th>75%</th>\n",
       "      <td>1964.000000</td>\n",
       "      <td>23.762500</td>\n",
       "    </tr>\n",
       "    <tr>\n",
       "      <th>max</th>\n",
       "      <td>2013.000000</td>\n",
       "      <td>30.730000</td>\n",
       "    </tr>\n",
       "  </tbody>\n",
       "</table>\n",
       "</div>"
      ],
      "text/plain": [
       "               year      avg_temp\n",
       "count  68764.000000  68764.000000\n",
       "mean    1908.742423     16.183876\n",
       "std       66.060692      7.592960\n",
       "min     1743.000000    -14.350000\n",
       "25%     1862.000000      9.750000\n",
       "50%     1914.000000     16.140000\n",
       "75%     1964.000000     23.762500\n",
       "max     2013.000000     30.730000"
      ]
     },
     "execution_count": 400,
     "metadata": {},
     "output_type": "execute_result"
    }
   ],
   "source": [
    "temp_data.describe()"
   ]
  },
  {
   "cell_type": "code",
   "execution_count": 401,
   "id": "c4537529-dda0-4661-a3bf-935e7cd4b914",
   "metadata": {
    "tags": []
   },
   "outputs": [
    {
     "name": "stdout",
     "output_type": "stream",
     "text": [
      "       year country  avg_temp\n",
      "47806  1815  Russia    -14.35\n",
      "       year country  avg_temp\n",
      "31858  2010   Sudan     30.73\n"
     ]
    }
   ],
   "source": [
    "print(temp_data[temp_data['avg_temp'] == temp_data['avg_temp'].min()])\n",
    "print(temp_data[temp_data['avg_temp'] == temp_data['avg_temp'].max()])"
   ]
  },
  {
   "cell_type": "markdown",
   "id": "cb051dbf-109a-41b6-8583-cd8614c6abb1",
   "metadata": {},
   "source": [
    "Come si può osservare dalla tabella sopra la temperatura minima registrata nel dataset è di -14.3 C in Russia nel 1815 mentre quella massima è di 30.7C in Sudan nel 2010"
   ]
  },
  {
   "cell_type": "code",
   "execution_count": 402,
   "id": "9e44b6cf-e98c-455a-9c7d-c289b6129d56",
   "metadata": {
    "tags": []
   },
   "outputs": [],
   "source": [
    "temp_year_list = temp_data['year'].unique()\n",
    "temp_country_list = temp_data['country'].unique()\n",
    "temp_year_list.sort()"
   ]
  },
  {
   "cell_type": "code",
   "execution_count": 403,
   "id": "18fb9951-5aff-4e51-ab0f-fdc005ac9e48",
   "metadata": {
    "tags": []
   },
   "outputs": [],
   "source": [
    "temp_avg_temp_per_year = {}\n",
    "for i in temp_year_list:\n",
    "    temp = temp_data[temp_data['year']==i]['avg_temp'].mean()\n",
    "    temp_avg_temp_per_year[i] = temp"
   ]
  },
  {
   "cell_type": "code",
   "execution_count": 404,
   "id": "68db5733-7dce-483e-bef4-94e1d9c5865c",
   "metadata": {
    "tags": []
   },
   "outputs": [
    {
     "data": {
      "image/png": "[encoded data removed]",
      "text/plain": [
       "<Figure size 640x480 with 1 Axes>"
      ]
     },
     "metadata": {},
     "output_type": "display_data"
    }
   ],
   "source": [
    "temp_year, temp_avg = zip(*temp_avg_temp_per_year.items())\n",
    "plt.figure()\n",
    "plt.suptitle('Temperatura media annuale', fontsize=15)\n",
    "plt.plot(temp_year, temp_avg)\n",
    "plt.show()"
   ]
  },
  {
   "cell_type": "markdown",
   "id": "5eabbc3d-6f6b-4f4f-a2ec-92c4f1eecac7",
   "metadata": {},
   "source": [
    "### Yield"
   ]
  },
  {
   "cell_type": "code",
   "execution_count": 405,
   "id": "98f7e7ed-294a-4118-97c7-0422cecf304f",
   "metadata": {
    "tags": []
   },
   "outputs": [
    {
     "data": {
      "text/html": [
       "<div>\n",
       "<style scoped>\n",
       "    .dataframe tbody tr th:only-of-type {\n",
       "        vertical-align: middle;\n",
       "    }\n",
       "\n",
       "    .dataframe tbody tr th {\n",
       "        vertical-align: top;\n",
       "    }\n",
       "\n",
       "    .dataframe thead th {\n",
       "        text-align: right;\n",
       "    }\n",
       "</style>\n",
       "<table border=\"1\" class=\"dataframe\">\n",
       "  <thead>\n",
       "    <tr style=\"text-align: right;\">\n",
       "      <th></th>\n",
       "      <th>Domain Code</th>\n",
       "      <th>Domain</th>\n",
       "      <th>Area Code</th>\n",
       "      <th>Area</th>\n",
       "      <th>Element Code</th>\n",
       "      <th>Element</th>\n",
       "      <th>Item Code</th>\n",
       "      <th>Item</th>\n",
       "      <th>Year Code</th>\n",
       "      <th>Year</th>\n",
       "      <th>Unit</th>\n",
       "      <th>Value</th>\n",
       "    </tr>\n",
       "  </thead>\n",
       "  <tbody>\n",
       "    <tr>\n",
       "      <th>0</th>\n",
       "      <td>QC</td>\n",
       "      <td>Crops</td>\n",
       "      <td>2</td>\n",
       "      <td>Afghanistan</td>\n",
       "      <td>5419</td>\n",
       "      <td>Yield</td>\n",
       "      <td>56</td>\n",
       "      <td>Maize</td>\n",
       "      <td>1961</td>\n",
       "      <td>1961</td>\n",
       "      <td>hg/ha</td>\n",
       "      <td>14000</td>\n",
       "    </tr>\n",
       "    <tr>\n",
       "      <th>1</th>\n",
       "      <td>QC</td>\n",
       "      <td>Crops</td>\n",
       "      <td>2</td>\n",
       "      <td>Afghanistan</td>\n",
       "      <td>5419</td>\n",
       "      <td>Yield</td>\n",
       "      <td>56</td>\n",
       "      <td>Maize</td>\n",
       "      <td>1962</td>\n",
       "      <td>1962</td>\n",
       "      <td>hg/ha</td>\n",
       "      <td>14000</td>\n",
       "    </tr>\n",
       "    <tr>\n",
       "      <th>2</th>\n",
       "      <td>QC</td>\n",
       "      <td>Crops</td>\n",
       "      <td>2</td>\n",
       "      <td>Afghanistan</td>\n",
       "      <td>5419</td>\n",
       "      <td>Yield</td>\n",
       "      <td>56</td>\n",
       "      <td>Maize</td>\n",
       "      <td>1963</td>\n",
       "      <td>1963</td>\n",
       "      <td>hg/ha</td>\n",
       "      <td>14260</td>\n",
       "    </tr>\n",
       "    <tr>\n",
       "      <th>3</th>\n",
       "      <td>QC</td>\n",
       "      <td>Crops</td>\n",
       "      <td>2</td>\n",
       "      <td>Afghanistan</td>\n",
       "      <td>5419</td>\n",
       "      <td>Yield</td>\n",
       "      <td>56</td>\n",
       "      <td>Maize</td>\n",
       "      <td>1964</td>\n",
       "      <td>1964</td>\n",
       "      <td>hg/ha</td>\n",
       "      <td>14257</td>\n",
       "    </tr>\n",
       "    <tr>\n",
       "      <th>4</th>\n",
       "      <td>QC</td>\n",
       "      <td>Crops</td>\n",
       "      <td>2</td>\n",
       "      <td>Afghanistan</td>\n",
       "      <td>5419</td>\n",
       "      <td>Yield</td>\n",
       "      <td>56</td>\n",
       "      <td>Maize</td>\n",
       "      <td>1965</td>\n",
       "      <td>1965</td>\n",
       "      <td>hg/ha</td>\n",
       "      <td>14400</td>\n",
       "    </tr>\n",
       "  </tbody>\n",
       "</table>\n",
       "</div>"
      ],
      "text/plain": [
       "  Domain Code Domain  Area Code         Area  Element Code Element  Item Code  \\\n",
       "0          QC  Crops          2  Afghanistan          5419   Yield         56   \n",
       "1          QC  Crops          2  Afghanistan          5419   Yield         56   \n",
       "2          QC  Crops          2  Afghanistan          5419   Yield         56   \n",
       "3          QC  Crops          2  Afghanistan          5419   Yield         56   \n",
       "4          QC  Crops          2  Afghanistan          5419   Yield         56   \n",
       "\n",
       "    Item  Year Code  Year   Unit  Value  \n",
       "0  Maize       1961  1961  hg/ha  14000  \n",
       "1  Maize       1962  1962  hg/ha  14000  \n",
       "2  Maize       1963  1963  hg/ha  14260  \n",
       "3  Maize       1964  1964  hg/ha  14257  \n",
       "4  Maize       1965  1965  hg/ha  14400  "
      ]
     },
     "execution_count": 405,
     "metadata": {},
     "output_type": "execute_result"
    }
   ],
   "source": [
    "yield_data = pd.read_csv('yield.csv')\n",
    "yield_data.head()"
   ]
  },
  {
   "cell_type": "code",
   "execution_count": 406,
   "id": "63f10e47-8dc9-4dee-929b-d2b6aa63a2bb",
   "metadata": {
    "tags": []
   },
   "outputs": [
    {
     "data": {
      "text/plain": [
       "Domain Code     0\n",
       "Domain          0\n",
       "Area Code       0\n",
       "Area            0\n",
       "Element Code    0\n",
       "Element         0\n",
       "Item Code       0\n",
       "Item            0\n",
       "Year Code       0\n",
       "Year            0\n",
       "Unit            0\n",
       "Value           0\n",
       "dtype: int64"
      ]
     },
     "execution_count": 406,
     "metadata": {},
     "output_type": "execute_result"
    }
   ],
   "source": [
    "yield_data.isna().sum()"
   ]
  },
  {
   "cell_type": "code",
   "execution_count": 407,
   "id": "eb03706e-3750-4792-9e8b-efe340ce15d9",
   "metadata": {
    "tags": []
   },
   "outputs": [
    {
     "data": {
      "text/html": [
       "<div>\n",
       "<style scoped>\n",
       "    .dataframe tbody tr th:only-of-type {\n",
       "        vertical-align: middle;\n",
       "    }\n",
       "\n",
       "    .dataframe tbody tr th {\n",
       "        vertical-align: top;\n",
       "    }\n",
       "\n",
       "    .dataframe thead th {\n",
       "        text-align: right;\n",
       "    }\n",
       "</style>\n",
       "<table border=\"1\" class=\"dataframe\">\n",
       "  <thead>\n",
       "    <tr style=\"text-align: right;\">\n",
       "      <th></th>\n",
       "      <th>Area Code</th>\n",
       "      <th>Element Code</th>\n",
       "      <th>Item Code</th>\n",
       "      <th>Year Code</th>\n",
       "      <th>Year</th>\n",
       "      <th>Value</th>\n",
       "    </tr>\n",
       "  </thead>\n",
       "  <tbody>\n",
       "    <tr>\n",
       "      <th>count</th>\n",
       "      <td>56717.000000</td>\n",
       "      <td>56717.0</td>\n",
       "      <td>56717.000000</td>\n",
       "      <td>56717.000000</td>\n",
       "      <td>56717.000000</td>\n",
       "      <td>56717.000000</td>\n",
       "    </tr>\n",
       "    <tr>\n",
       "      <th>mean</th>\n",
       "      <td>125.650422</td>\n",
       "      <td>5419.0</td>\n",
       "      <td>111.611651</td>\n",
       "      <td>1989.669570</td>\n",
       "      <td>1989.669570</td>\n",
       "      <td>62094.660084</td>\n",
       "    </tr>\n",
       "    <tr>\n",
       "      <th>std</th>\n",
       "      <td>75.120195</td>\n",
       "      <td>0.0</td>\n",
       "      <td>101.278435</td>\n",
       "      <td>16.133198</td>\n",
       "      <td>16.133198</td>\n",
       "      <td>67835.932856</td>\n",
       "    </tr>\n",
       "    <tr>\n",
       "      <th>min</th>\n",
       "      <td>1.000000</td>\n",
       "      <td>5419.0</td>\n",
       "      <td>15.000000</td>\n",
       "      <td>1961.000000</td>\n",
       "      <td>1961.000000</td>\n",
       "      <td>0.000000</td>\n",
       "    </tr>\n",
       "    <tr>\n",
       "      <th>25%</th>\n",
       "      <td>58.000000</td>\n",
       "      <td>5419.0</td>\n",
       "      <td>56.000000</td>\n",
       "      <td>1976.000000</td>\n",
       "      <td>1976.000000</td>\n",
       "      <td>15680.000000</td>\n",
       "    </tr>\n",
       "    <tr>\n",
       "      <th>50%</th>\n",
       "      <td>122.000000</td>\n",
       "      <td>5419.0</td>\n",
       "      <td>116.000000</td>\n",
       "      <td>1991.000000</td>\n",
       "      <td>1991.000000</td>\n",
       "      <td>36744.000000</td>\n",
       "    </tr>\n",
       "    <tr>\n",
       "      <th>75%</th>\n",
       "      <td>184.000000</td>\n",
       "      <td>5419.0</td>\n",
       "      <td>125.000000</td>\n",
       "      <td>2004.000000</td>\n",
       "      <td>2004.000000</td>\n",
       "      <td>86213.000000</td>\n",
       "    </tr>\n",
       "    <tr>\n",
       "      <th>max</th>\n",
       "      <td>351.000000</td>\n",
       "      <td>5419.0</td>\n",
       "      <td>489.000000</td>\n",
       "      <td>2016.000000</td>\n",
       "      <td>2016.000000</td>\n",
       "      <td>1000000.000000</td>\n",
       "    </tr>\n",
       "  </tbody>\n",
       "</table>\n",
       "</div>"
      ],
      "text/plain": [
       "          Area Code  Element Code     Item Code     Year Code          Year  \\\n",
       "count  56717.000000       56717.0  56717.000000  56717.000000  56717.000000   \n",
       "mean     125.650422        5419.0    111.611651   1989.669570   1989.669570   \n",
       "std       75.120195           0.0    101.278435     16.133198     16.133198   \n",
       "min        1.000000        5419.0     15.000000   1961.000000   1961.000000   \n",
       "25%       58.000000        5419.0     56.000000   1976.000000   1976.000000   \n",
       "50%      122.000000        5419.0    116.000000   1991.000000   1991.000000   \n",
       "75%      184.000000        5419.0    125.000000   2004.000000   2004.000000   \n",
       "max      351.000000        5419.0    489.000000   2016.000000   2016.000000   \n",
       "\n",
       "                Value  \n",
       "count    56717.000000  \n",
       "mean     62094.660084  \n",
       "std      67835.932856  \n",
       "min          0.000000  \n",
       "25%      15680.000000  \n",
       "50%      36744.000000  \n",
       "75%      86213.000000  \n",
       "max    1000000.000000  "
      ]
     },
     "execution_count": 407,
     "metadata": {},
     "output_type": "execute_result"
    }
   ],
   "source": [
    "yield_data.describe()"
   ]
  },
  {
   "cell_type": "markdown",
   "id": "f79fb969-8d45-40dc-9bb2-a56783cbf82d",
   "metadata": {},
   "source": [
    "Dalla tabella si può osservare che sono presenti stati che non hanno prodotto grano in un determinato anno"
   ]
  },
  {
   "cell_type": "markdown",
   "id": "1d4e798c-e3ca-4d64-8242-9bceb51f5b90",
   "metadata": {},
   "source": [
    "Alcune colonne sono ripetitive o non utili ai fini dello studio quindi decido di eliminarle"
   ]
  },
  {
   "cell_type": "code",
   "execution_count": 408,
   "id": "f026d961-8f07-46f7-a764-9048e47ecf1d",
   "metadata": {
    "tags": []
   },
   "outputs": [],
   "source": [
    "yield_data = yield_data.drop(columns=['Domain Code', 'Domain', 'Year Code', 'Item Code', 'Element Code', 'Element', 'Unit', 'Area Code'])"
   ]
  },
  {
   "cell_type": "code",
   "execution_count": 409,
   "id": "2ab3935b-5ab4-4168-97cb-f97947a1ff01",
   "metadata": {
    "tags": []
   },
   "outputs": [
    {
     "data": {
      "text/html": [
       "<div>\n",
       "<style scoped>\n",
       "    .dataframe tbody tr th:only-of-type {\n",
       "        vertical-align: middle;\n",
       "    }\n",
       "\n",
       "    .dataframe tbody tr th {\n",
       "        vertical-align: top;\n",
       "    }\n",
       "\n",
       "    .dataframe thead th {\n",
       "        text-align: right;\n",
       "    }\n",
       "</style>\n",
       "<table border=\"1\" class=\"dataframe\">\n",
       "  <thead>\n",
       "    <tr style=\"text-align: right;\">\n",
       "      <th></th>\n",
       "      <th>Area</th>\n",
       "      <th>Item</th>\n",
       "      <th>Year</th>\n",
       "      <th>Value</th>\n",
       "    </tr>\n",
       "  </thead>\n",
       "  <tbody>\n",
       "    <tr>\n",
       "      <th>168</th>\n",
       "      <td>Afghanistan</td>\n",
       "      <td>Wheat</td>\n",
       "      <td>1961</td>\n",
       "      <td>10220</td>\n",
       "    </tr>\n",
       "    <tr>\n",
       "      <th>169</th>\n",
       "      <td>Afghanistan</td>\n",
       "      <td>Wheat</td>\n",
       "      <td>1962</td>\n",
       "      <td>9735</td>\n",
       "    </tr>\n",
       "    <tr>\n",
       "      <th>170</th>\n",
       "      <td>Afghanistan</td>\n",
       "      <td>Wheat</td>\n",
       "      <td>1963</td>\n",
       "      <td>8317</td>\n",
       "    </tr>\n",
       "    <tr>\n",
       "      <th>171</th>\n",
       "      <td>Afghanistan</td>\n",
       "      <td>Wheat</td>\n",
       "      <td>1964</td>\n",
       "      <td>9510</td>\n",
       "    </tr>\n",
       "    <tr>\n",
       "      <th>172</th>\n",
       "      <td>Afghanistan</td>\n",
       "      <td>Wheat</td>\n",
       "      <td>1965</td>\n",
       "      <td>9723</td>\n",
       "    </tr>\n",
       "    <tr>\n",
       "      <th>...</th>\n",
       "      <td>...</td>\n",
       "      <td>...</td>\n",
       "      <td>...</td>\n",
       "      <td>...</td>\n",
       "    </tr>\n",
       "    <tr>\n",
       "      <th>56712</th>\n",
       "      <td>Zimbabwe</td>\n",
       "      <td>Wheat</td>\n",
       "      <td>2012</td>\n",
       "      <td>24420</td>\n",
       "    </tr>\n",
       "    <tr>\n",
       "      <th>56713</th>\n",
       "      <td>Zimbabwe</td>\n",
       "      <td>Wheat</td>\n",
       "      <td>2013</td>\n",
       "      <td>22888</td>\n",
       "    </tr>\n",
       "    <tr>\n",
       "      <th>56714</th>\n",
       "      <td>Zimbabwe</td>\n",
       "      <td>Wheat</td>\n",
       "      <td>2014</td>\n",
       "      <td>21357</td>\n",
       "    </tr>\n",
       "    <tr>\n",
       "      <th>56715</th>\n",
       "      <td>Zimbabwe</td>\n",
       "      <td>Wheat</td>\n",
       "      <td>2015</td>\n",
       "      <td>19826</td>\n",
       "    </tr>\n",
       "    <tr>\n",
       "      <th>56716</th>\n",
       "      <td>Zimbabwe</td>\n",
       "      <td>Wheat</td>\n",
       "      <td>2016</td>\n",
       "      <td>18294</td>\n",
       "    </tr>\n",
       "  </tbody>\n",
       "</table>\n",
       "<p>6160 rows × 4 columns</p>\n",
       "</div>"
      ],
      "text/plain": [
       "              Area   Item  Year  Value\n",
       "168    Afghanistan  Wheat  1961  10220\n",
       "169    Afghanistan  Wheat  1962   9735\n",
       "170    Afghanistan  Wheat  1963   8317\n",
       "171    Afghanistan  Wheat  1964   9510\n",
       "172    Afghanistan  Wheat  1965   9723\n",
       "...            ...    ...   ...    ...\n",
       "56712     Zimbabwe  Wheat  2012  24420\n",
       "56713     Zimbabwe  Wheat  2013  22888\n",
       "56714     Zimbabwe  Wheat  2014  21357\n",
       "56715     Zimbabwe  Wheat  2015  19826\n",
       "56716     Zimbabwe  Wheat  2016  18294\n",
       "\n",
       "[6160 rows x 4 columns]"
      ]
     },
     "execution_count": 409,
     "metadata": {},
     "output_type": "execute_result"
    }
   ],
   "source": [
    "wheat_yield_data = yield_data[yield_data['Item']=='Wheat']\n",
    "wheat_yield_data"
   ]
  },
  {
   "cell_type": "markdown",
   "id": "868006aa-6554-4d5c-b246-e42c103bcb17",
   "metadata": {},
   "source": [
    "Visto che tutte le istanze sono relative al grano, possiamo rimuovere la colonna `Item` poiché ridondante."
   ]
  },
  {
   "cell_type": "code",
   "execution_count": 410,
   "id": "5f08e12d-ea45-421c-85e6-7e494acbfeef",
   "metadata": {
    "tags": []
   },
   "outputs": [
    {
     "name": "stdout",
     "output_type": "stream",
     "text": [
      "<class 'pandas.core.frame.DataFrame'>\n",
      "Int64Index: 6160 entries, 168 to 56716\n",
      "Data columns (total 3 columns):\n",
      " #   Column  Non-Null Count  Dtype \n",
      "---  ------  --------------  ----- \n",
      " 0   Area    6160 non-null   string\n",
      " 1   Year    6160 non-null   int64 \n",
      " 2   Value   6160 non-null   int64 \n",
      "dtypes: int64(2), string(1)\n",
      "memory usage: 192.5 KB\n"
     ]
    }
   ],
   "source": [
    "wheat_yield_data = wheat_yield_data.drop('Item', axis = 1)\n",
    "wheat_yield_data['Area'] = wheat_yield_data['Area'].astype(pd.StringDtype())\n",
    "wheat_yield_data.info()"
   ]
  },
  {
   "cell_type": "markdown",
   "id": "8fce5c3a-e260-4163-9855-544890d72dc3",
   "metadata": {},
   "source": [
    "Per il nostro studio è necessario sapere solo la produzione di grano e non di tutti i prodotti del dataset, quindi elimino le righe non utili. Inoltre, cambiamo il nome della feature `Value` in `value_in_hg/ha` per indicare l'unità di misura."
   ]
  },
  {
   "cell_type": "code",
   "execution_count": 411,
   "id": "b2e79426-4bfd-4dc5-9e04-2d8748fd8ccf",
   "metadata": {
    "tags": []
   },
   "outputs": [
    {
     "name": "stdout",
     "output_type": "stream",
     "text": [
      "<class 'pandas.core.frame.DataFrame'>\n",
      "Int64Index: 6160 entries, 168 to 56716\n",
      "Data columns (total 3 columns):\n",
      " #   Column          Non-Null Count  Dtype \n",
      "---  ------          --------------  ----- \n",
      " 0   Area            6160 non-null   string\n",
      " 1   Year            6160 non-null   int64 \n",
      " 2   value_in_hg/ha  6160 non-null   int64 \n",
      "dtypes: int64(2), string(1)\n",
      "memory usage: 192.5 KB\n"
     ]
    }
   ],
   "source": [
    "wheat_yield_data.rename(columns = {'Value':'value_in_hg/ha'}, inplace = True)\n",
    "wheat_yield_data.info()"
   ]
  },
  {
   "cell_type": "markdown",
   "id": "5b857096-af77-4b14-b9e9-62974e470d91",
   "metadata": {},
   "source": [
    "Creo un grafico che rappresenta i 10 paesi con la produzione media in tutto il dataset maggiore"
   ]
  },
  {
   "cell_type": "code",
   "execution_count": 412,
   "id": "9bf5343c-49fc-465c-806f-375dcc4f1508",
   "metadata": {
    "tags": []
   },
   "outputs": [
    {
     "ename": "KeyError",
     "evalue": "'Value'",
     "output_type": "error",
     "traceback": [
      "\u001b[1;31m---------------------------------------------------------------------------\u001b[0m",
      "\u001b[1;31mKeyError\u001b[0m                                  Traceback (most recent call last)",
      "\u001b[1;32mc:\\users\\eduard\\appdata\\local\\programs\\python\\python37\\lib\\site-packages\\pandas\\core\\indexes\\base.py\u001b[0m in \u001b[0;36mget_loc\u001b[1;34m(self, key, method, tolerance)\u001b[0m\n\u001b[0;32m   3360\u001b[0m             \u001b[1;32mtry\u001b[0m\u001b[1;33m:\u001b[0m\u001b[1;33m\u001b[0m\u001b[1;33m\u001b[0m\u001b[0m\n\u001b[1;32m-> 3361\u001b[1;33m                 \u001b[1;32mreturn\u001b[0m \u001b[0mself\u001b[0m\u001b[1;33m.\u001b[0m\u001b[0m_engine\u001b[0m\u001b[1;33m.\u001b[0m\u001b[0mget_loc\u001b[0m\u001b[1;33m(\u001b[0m\u001b[0mcasted_key\u001b[0m\u001b[1;33m)\u001b[0m\u001b[1;33m\u001b[0m\u001b[1;33m\u001b[0m\u001b[0m\n\u001b[0m\u001b[0;32m   3362\u001b[0m             \u001b[1;32mexcept\u001b[0m \u001b[0mKeyError\u001b[0m \u001b[1;32mas\u001b[0m \u001b[0merr\u001b[0m\u001b[1;33m:\u001b[0m\u001b[1;33m\u001b[0m\u001b[1;33m\u001b[0m\u001b[0m\n",
      "\u001b[1;32mc:\\users\\eduard\\appdata\\local\\programs\\python\\python37\\lib\\site-packages\\pandas\\_libs\\index.pyx\u001b[0m in \u001b[0;36mpandas._libs.index.IndexEngine.get_loc\u001b[1;34m()\u001b[0m\n",
      "\u001b[1;32mc:\\users\\eduard\\appdata\\local\\programs\\python\\python37\\lib\\site-packages\\pandas\\_libs\\index.pyx\u001b[0m in \u001b[0;36mpandas._libs.index.IndexEngine.get_loc\u001b[1;34m()\u001b[0m\n",
      "\u001b[1;32mpandas\\_libs\\hashtable_class_helper.pxi\u001b[0m in \u001b[0;36mpandas._libs.hashtable.PyObjectHashTable.get_item\u001b[1;34m()\u001b[0m\n",
      "\u001b[1;32mpandas\\_libs\\hashtable_class_helper.pxi\u001b[0m in \u001b[0;36mpandas._libs.hashtable.PyObjectHashTable.get_item\u001b[1;34m()\u001b[0m\n",
      "\u001b[1;31mKeyError\u001b[0m: 'Value'",
      "\nThe above exception was the direct cause of the following exception:\n",
      "\u001b[1;31mKeyError\u001b[0m                                  Traceback (most recent call last)",
      "\u001b[1;32m~\\AppData\\Local\\Temp\\ipykernel_6676\\3764112220.py\u001b[0m in \u001b[0;36m<module>\u001b[1;34m\u001b[0m\n\u001b[0;32m      2\u001b[0m \u001b[0mavg_wheat_production_per_country\u001b[0m \u001b[1;33m=\u001b[0m \u001b[1;33m{\u001b[0m\u001b[1;33m}\u001b[0m\u001b[1;33m\u001b[0m\u001b[1;33m\u001b[0m\u001b[0m\n\u001b[0;32m      3\u001b[0m \u001b[1;32mfor\u001b[0m \u001b[0mi\u001b[0m \u001b[1;32min\u001b[0m \u001b[0myield_country_list\u001b[0m\u001b[1;33m:\u001b[0m\u001b[1;33m\u001b[0m\u001b[1;33m\u001b[0m\u001b[0m\n\u001b[1;32m----> 4\u001b[1;33m     \u001b[0mavg_wheat_production_per_country\u001b[0m\u001b[1;33m[\u001b[0m\u001b[0mi\u001b[0m\u001b[1;33m]\u001b[0m \u001b[1;33m=\u001b[0m \u001b[0mwheat_yield_data\u001b[0m\u001b[1;33m[\u001b[0m\u001b[0mwheat_yield_data\u001b[0m\u001b[1;33m[\u001b[0m\u001b[1;34m'Area'\u001b[0m\u001b[1;33m]\u001b[0m\u001b[1;33m==\u001b[0m\u001b[0mi\u001b[0m\u001b[1;33m]\u001b[0m\u001b[1;33m[\u001b[0m\u001b[1;34m'Value'\u001b[0m\u001b[1;33m]\u001b[0m\u001b[1;33m.\u001b[0m\u001b[0mmean\u001b[0m\u001b[1;33m(\u001b[0m\u001b[1;33m)\u001b[0m\u001b[1;33m\u001b[0m\u001b[1;33m\u001b[0m\u001b[0m\n\u001b[0m",
      "\u001b[1;32mc:\\users\\eduard\\appdata\\local\\programs\\python\\python37\\lib\\site-packages\\pandas\\core\\frame.py\u001b[0m in \u001b[0;36m__getitem__\u001b[1;34m(self, key)\u001b[0m\n\u001b[0;32m   3456\u001b[0m             \u001b[1;32mif\u001b[0m \u001b[0mself\u001b[0m\u001b[1;33m.\u001b[0m\u001b[0mcolumns\u001b[0m\u001b[1;33m.\u001b[0m\u001b[0mnlevels\u001b[0m \u001b[1;33m>\u001b[0m \u001b[1;36m1\u001b[0m\u001b[1;33m:\u001b[0m\u001b[1;33m\u001b[0m\u001b[1;33m\u001b[0m\u001b[0m\n\u001b[0;32m   3457\u001b[0m                 \u001b[1;32mreturn\u001b[0m \u001b[0mself\u001b[0m\u001b[1;33m.\u001b[0m\u001b[0m_getitem_multilevel\u001b[0m\u001b[1;33m(\u001b[0m\u001b[0mkey\u001b[0m\u001b[1;33m)\u001b[0m\u001b[1;33m\u001b[0m\u001b[1;33m\u001b[0m\u001b[0m\n\u001b[1;32m-> 3458\u001b[1;33m             \u001b[0mindexer\u001b[0m \u001b[1;33m=\u001b[0m \u001b[0mself\u001b[0m\u001b[1;33m.\u001b[0m\u001b[0mcolumns\u001b[0m\u001b[1;33m.\u001b[0m\u001b[0mget_loc\u001b[0m\u001b[1;33m(\u001b[0m\u001b[0mkey\u001b[0m\u001b[1;33m)\u001b[0m\u001b[1;33m\u001b[0m\u001b[1;33m\u001b[0m\u001b[0m\n\u001b[0m\u001b[0;32m   3459\u001b[0m             \u001b[1;32mif\u001b[0m \u001b[0mis_integer\u001b[0m\u001b[1;33m(\u001b[0m\u001b[0mindexer\u001b[0m\u001b[1;33m)\u001b[0m\u001b[1;33m:\u001b[0m\u001b[1;33m\u001b[0m\u001b[1;33m\u001b[0m\u001b[0m\n\u001b[0;32m   3460\u001b[0m                 \u001b[0mindexer\u001b[0m \u001b[1;33m=\u001b[0m \u001b[1;33m[\u001b[0m\u001b[0mindexer\u001b[0m\u001b[1;33m]\u001b[0m\u001b[1;33m\u001b[0m\u001b[1;33m\u001b[0m\u001b[0m\n",
      "\u001b[1;32mc:\\users\\eduard\\appdata\\local\\programs\\python\\python37\\lib\\site-packages\\pandas\\core\\indexes\\base.py\u001b[0m in \u001b[0;36mget_loc\u001b[1;34m(self, key, method, tolerance)\u001b[0m\n\u001b[0;32m   3361\u001b[0m                 \u001b[1;32mreturn\u001b[0m \u001b[0mself\u001b[0m\u001b[1;33m.\u001b[0m\u001b[0m_engine\u001b[0m\u001b[1;33m.\u001b[0m\u001b[0mget_loc\u001b[0m\u001b[1;33m(\u001b[0m\u001b[0mcasted_key\u001b[0m\u001b[1;33m)\u001b[0m\u001b[1;33m\u001b[0m\u001b[1;33m\u001b[0m\u001b[0m\n\u001b[0;32m   3362\u001b[0m             \u001b[1;32mexcept\u001b[0m \u001b[0mKeyError\u001b[0m \u001b[1;32mas\u001b[0m \u001b[0merr\u001b[0m\u001b[1;33m:\u001b[0m\u001b[1;33m\u001b[0m\u001b[1;33m\u001b[0m\u001b[0m\n\u001b[1;32m-> 3363\u001b[1;33m                 \u001b[1;32mraise\u001b[0m \u001b[0mKeyError\u001b[0m\u001b[1;33m(\u001b[0m\u001b[0mkey\u001b[0m\u001b[1;33m)\u001b[0m \u001b[1;32mfrom\u001b[0m \u001b[0merr\u001b[0m\u001b[1;33m\u001b[0m\u001b[1;33m\u001b[0m\u001b[0m\n\u001b[0m\u001b[0;32m   3364\u001b[0m \u001b[1;33m\u001b[0m\u001b[0m\n\u001b[0;32m   3365\u001b[0m         \u001b[1;32mif\u001b[0m \u001b[0mis_scalar\u001b[0m\u001b[1;33m(\u001b[0m\u001b[0mkey\u001b[0m\u001b[1;33m)\u001b[0m \u001b[1;32mand\u001b[0m \u001b[0misna\u001b[0m\u001b[1;33m(\u001b[0m\u001b[0mkey\u001b[0m\u001b[1;33m)\u001b[0m \u001b[1;32mand\u001b[0m \u001b[1;32mnot\u001b[0m \u001b[0mself\u001b[0m\u001b[1;33m.\u001b[0m\u001b[0mhasnans\u001b[0m\u001b[1;33m:\u001b[0m\u001b[1;33m\u001b[0m\u001b[1;33m\u001b[0m\u001b[0m\n",
      "\u001b[1;31mKeyError\u001b[0m: 'Value'"
     ]
    }
   ],
   "source": [
    "yield_country_list = wheat_yield_data['Area'].unique()\n",
    "avg_wheat_production_per_country = {}\n",
    "for i in yield_country_list:\n",
    "    avg_wheat_production_per_country[i] = wheat_yield_data[wheat_yield_data['Area']==i]['Value'].mean()"
   ]
  },
  {
   "cell_type": "code",
   "execution_count": 414,
   "id": "c10e05f9-d60a-45a7-b47c-f0d6ef981c32",
   "metadata": {
    "tags": []
   },
   "outputs": [],
   "source": [
    "avg_wheat_production_per_country = sorted(avg_wheat_production_per_country.items(), key=lambda kv: kv[1], reverse=True)\n",
    "avg_wheat_production_per_country = avg_wheat_production_per_country[:10]"
   ]
  },
  {
   "cell_type": "code",
   "execution_count": 415,
   "id": "e58dfe25-2d38-4de9-a4eb-863f0c7105bb",
   "metadata": {},
   "outputs": [
    {
     "ename": "ValueError",
     "evalue": "not enough values to unpack (expected 2, got 0)",
     "output_type": "error",
     "traceback": [
      "\u001b[1;31m---------------------------------------------------------------------------\u001b[0m",
      "\u001b[1;31mValueError\u001b[0m                                Traceback (most recent call last)",
      "\u001b[1;32m~\\AppData\\Local\\Temp\\ipykernel_6676\\1261761560.py\u001b[0m in \u001b[0;36m<module>\u001b[1;34m\u001b[0m\n\u001b[1;32m----> 1\u001b[1;33m \u001b[0marea\u001b[0m\u001b[1;33m,\u001b[0m \u001b[0mvalue\u001b[0m \u001b[1;33m=\u001b[0m \u001b[0mzip\u001b[0m\u001b[1;33m(\u001b[0m\u001b[1;33m*\u001b[0m\u001b[0mavg_wheat_production_per_country\u001b[0m\u001b[1;33m)\u001b[0m\u001b[1;33m\u001b[0m\u001b[1;33m\u001b[0m\u001b[0m\n\u001b[0m\u001b[0;32m      2\u001b[0m \u001b[0mplt\u001b[0m\u001b[1;33m.\u001b[0m\u001b[0mfigure\u001b[0m\u001b[1;33m(\u001b[0m\u001b[1;33m)\u001b[0m\u001b[1;33m\u001b[0m\u001b[1;33m\u001b[0m\u001b[0m\n\u001b[0;32m      3\u001b[0m \u001b[0mplt\u001b[0m\u001b[1;33m.\u001b[0m\u001b[0msuptitle\u001b[0m\u001b[1;33m(\u001b[0m\u001b[1;34m'Produzione media annuale dei primi 10 paesi'\u001b[0m\u001b[1;33m,\u001b[0m \u001b[0mfontsize\u001b[0m\u001b[1;33m=\u001b[0m\u001b[1;36m20\u001b[0m\u001b[1;33m)\u001b[0m\u001b[1;33m\u001b[0m\u001b[1;33m\u001b[0m\u001b[0m\n\u001b[0;32m      4\u001b[0m \u001b[0msns\u001b[0m\u001b[1;33m.\u001b[0m\u001b[0mbarplot\u001b[0m\u001b[1;33m(\u001b[0m\u001b[0my\u001b[0m \u001b[1;33m=\u001b[0m \u001b[0marea\u001b[0m\u001b[1;33m,\u001b[0m \u001b[0mx\u001b[0m \u001b[1;33m=\u001b[0m \u001b[0mvalue\u001b[0m\u001b[1;33m)\u001b[0m\u001b[1;33m\u001b[0m\u001b[1;33m\u001b[0m\u001b[0m\n\u001b[0;32m      5\u001b[0m \u001b[0mplt\u001b[0m\u001b[1;33m.\u001b[0m\u001b[0mxlabel\u001b[0m\u001b[1;33m(\u001b[0m\u001b[1;34m'Ettogrammi per ettare prodotti'\u001b[0m\u001b[1;33m)\u001b[0m\u001b[1;33m\u001b[0m\u001b[1;33m\u001b[0m\u001b[0m\n",
      "\u001b[1;31mValueError\u001b[0m: not enough values to unpack (expected 2, got 0)"
     ]
    }
   ],
   "source": [
    "area, value = zip(*avg_wheat_production_per_country)\n",
    "plt.figure()\n",
    "plt.suptitle('Produzione media annuale dei primi 10 paesi', fontsize=20)\n",
    "sns.barplot(y = area, x = value)\n",
    "plt.xlabel('Ettogrammi per ettare prodotti')\n",
    "plt.ylabel('Paese')\n",
    "plt.show()"
   ]
  },
  {
   "cell_type": "markdown",
   "id": "9ce3d2fe-8d1c-4cff-8677-854c290abca1",
   "metadata": {},
   "source": [
    "Nel seguente grafico rappresentiamo invece la media mondiale di produzione di grano per ogni anno"
   ]
  },
  {
   "cell_type": "code",
   "execution_count": 416,
   "id": "2dd76f41-63d9-4347-8a7b-a09ac06444bc",
   "metadata": {},
   "outputs": [],
   "source": [
    "avg_production_per_year_dict = {}\n",
    "yield_year_list = yield_data['Year'].unique()\n",
    "yield_year_list.sort()\n",
    "for i in yield_year_list:\n",
    "    avg_production_per_year_dict[i] = yield_data[yield_data['Year']==i]['Value'].mean()"
   ]
  },
  {
   "cell_type": "code",
   "execution_count": 417,
   "id": "4df337ec-b705-4aa9-b4c4-11fd262ba5fe",
   "metadata": {
    "tags": []
   },
   "outputs": [
    {
     "data": {
      "image/png": "[encoded data removed]",
      "text/plain": [
       "<Figure size 640x480 with 1 Axes>"
      ]
     },
     "metadata": {},
     "output_type": "display_data"
    }
   ],
   "source": [
    "years, prod = zip(*avg_production_per_year_dict.items())\n",
    "plt.figure()\n",
    "plt.suptitle('Produzione mondiale media di grano per anno', fontsize=20)\n",
    "sns.lineplot(y = prod, x = years)\n",
    "plt.show()"
   ]
  },
  {
   "cell_type": "code",
   "execution_count": null,
   "id": "cf22b21b-ba39-4bb1-8a5d-a1e9f0397158",
   "metadata": {
    "tags": []
   },
   "outputs": [],
   "source": [
    "temp_data.rename(columns = {'country':'Area'}, inplace = True)\n",
    "temp_data.rename(columns = {'year':'Year'}, inplace = True)\n",
    "temp_yield_data = pd.merge(temp_data, wheat_yield_data, on=['Year','Area'])\n",
    "pest_rain_data = pd.merge(rain,pest, on=['Year','Area'])\n",
    "data = pd.merge(temp_yield_data, pest_rain_data,  on=['Year','Area'])\n"
   ]
  },
  {
   "cell_type": "code",
   "execution_count": null,
   "id": "1f37d7c5-9bb4-4e75-9c5c-2fb8ab1f86bf",
   "metadata": {
    "tags": []
   },
   "outputs": [],
   "source": [
    "data.info()"
   ]
  },
  {
   "cell_type": "code",
   "execution_count": null,
   "id": "2fed22d3-821a-4a23-ae59-f0f12149c134",
   "metadata": {
    "tags": []
   },
   "outputs": [],
   "source": [
    "data.head()"
   ]
  },
  {
   "cell_type": "code",
   "execution_count": null,
   "id": "63623797-2595-4cc7-a21f-02cc11879ac9",
   "metadata": {
    "tags": []
   },
   "outputs": [],
   "source": [
    "data.shape"
   ]
  },
  {
   "cell_type": "code",
   "execution_count": null,
   "id": "3821f021-a3e3-4fe4-b324-b9888d3bc710",
   "metadata": {
    "tags": []
   },
   "outputs": [],
   "source": [
    "data['Area'].unique().size"
   ]
  },
  {
   "cell_type": "markdown",
   "id": "d4563268-d2be-4e7b-99bf-36a03f18115e",
   "metadata": {},
   "source": [
    "Vediamo che, dopo il merge, ci restano i dati realtivi soltanto a 82 stati. Questo è dovuto al fatto che alcuni stati non sono presenti in cerit dataset. Di seguito, anche la lista degli stati presenti nel dataset finale ottenuto:"
   ]
  },
  {
   "cell_type": "code",
   "execution_count": 418,
   "id": "c19a0179-f461-4da0-b44e-8cd58dd1bf01",
   "metadata": {
    "tags": []
   },
   "outputs": [
    {
     "data": {
      "text/plain": [
       "<StringArray>\n",
       "[        'Turkey',      'Australia',          'India',          'Egypt',\n",
       "        'Algeria',     'Kazakhstan',    'Netherlands',     'Madagascar',\n",
       "        'Eritrea',         'Greece',           'Iraq',     'Azerbaijan',\n",
       "           'Mali',       'Thailand',          'Spain',       'Colombia',\n",
       "        'Lebanon', 'United Kingdom',         'Brazil',          'Libya',\n",
       "        'Germany',    'Switzerland',        'Belgium',        'Romania',\n",
       "        'Hungary',        'Burundi',        'Morocco',        'Denmark',\n",
       "      'Argentina',     'Bangladesh',          'Qatar',       'Cameroon',\n",
       "        'Ireland',   'South Africa',     'Tajikistan',         'Mexico',\n",
       "       'Pakistan',       'Botswana',      'Guatemala',        'Ecuador',\n",
       "       'Zimbabwe',        'Finland',          'Japan',          'Sudan',\n",
       "         'Uganda',          'Nepal',        'Ukraine',         'Rwanda',\n",
       "         'Canada',         'Malawi',           'Peru',       'Portugal',\n",
       "       'Slovenia',          'Chile',         'Angola',         'Zambia',\n",
       "     'Mozambique',        'Lesotho',   'Saudi Arabia',          'Italy',\n",
       "        'Belarus',        'Uruguay',          'Kenya',          'Niger',\n",
       "     'Mauritania',         'Norway',         'France',     'Montenegro',\n",
       "         'Latvia',       'Bulgaria',         'Sweden',        'Estonia',\n",
       "       'Honduras',        'Albania',        'Tunisia',        'Austria',\n",
       "      'Lithuania',         'Poland',    'New Zealand',        'Namibia',\n",
       "        'Armenia',        'Croatia']\n",
       "Length: 82, dtype: string"
      ]
     },
     "execution_count": 418,
     "metadata": {},
     "output_type": "execute_result"
    }
   ],
   "source": [
    "data['Area'].unique()"
   ]
  },
  {
   "cell_type": "code",
   "execution_count": null,
   "id": "9ca2f6ef-4282-423e-8f35-48addb403650",
   "metadata": {
    "tags": []
   },
   "outputs": [],
   "source": [
    "data['Value'].describe()"
   ]
  },
  {
   "cell_type": "code",
   "execution_count": 424,
   "id": "8d4f3afd-6d21-41c3-b0f6-d19f23dbb2c1",
   "metadata": {
    "tags": []
   },
   "outputs": [
    {
     "data": {
      "image/png": "[encoded data removed]",
      "text/plain": [
       "<Figure size 640x480 with 1 Axes>"
      ]
     },
     "metadata": {},
     "output_type": "display_data"
    }
   ],
   "source": [
    "years = data['Year'].unique()\n",
    "\n",
    "plt.figure()\n",
    "plt.suptitle('Produzione media annuale dei primi 10 paesi', fontsize=15)\n",
    "\n",
    "plt.xlabel('Ettogrammi per ettare prodotti')\n",
    "plt.ylabel('Paese')\n",
    "plt.show()"
   ]
  },
  {
   "cell_type": "markdown",
   "id": "58d986e9-9539-4dcf-81e2-0fda09bc2f44",
   "metadata": {},
   "source": [
    "# Preparazione dei dati"
   ]
  },
  {
   "cell_type": "code",
   "execution_count": null,
   "id": "fb822772-2cc4-4380-b7cc-532e853bf209",
   "metadata": {
    "tags": []
   },
   "outputs": [],
   "source": [
    "from sklearn.preprocessing import OneHotEncoder  \n",
    "  \n",
    "data_onehot = pd.get_dummies(data, columns=['Area'], prefix = ['Area'])  \n",
    "features=data_onehot.loc[:, data_onehot.columns != 'Value']  \n",
    "label=data['Value']  \n",
    "features.head(10) "
   ]
  },
  {
   "cell_type": "code",
   "execution_count": null,
   "id": "5c9db19a-0704-45a1-9729-dd7ea63906e6",
   "metadata": {
    "tags": []
   },
   "outputs": [],
   "source": [
    "data_onehot.shape"
   ]
  },
  {
   "cell_type": "markdown",
   "id": "9ab2436d-eab1-4446-96c8-3e9bb78406cc",
   "metadata": {
    "tags": []
   },
   "source": []
  },
  {
   "cell_type": "code",
   "execution_count": 422,
   "id": "a9795ace-3208-4739-85c7-36c21cc874fc",
   "metadata": {
    "tags": []
   },
   "outputs": [
    {
     "data": {
      "image/png": "[encoded data removed]",
      "text/plain": [
       "<Figure size 640x480 with 1 Axes>"
      ]
     },
     "metadata": {},
     "output_type": "display_data"
    }
   ],
   "source": []
  },
  {
   "cell_type": "code",
   "execution_count": null,
   "id": "2ace80b4-5778-4cb1-a06e-5fea31ffeaf2",
   "metadata": {},
   "outputs": [],
   "source": []
  }
 ],
 "metadata": {
  "kernelspec": {
   "display_name": "Python 3 (ipykernel)",
   "language": "python",
   "name": "python3"
  },
  "language_info": {
   "codemirror_mode": {
    "name": "ipython",
    "version": 3
   },
   "file_extension": ".py",
   "mimetype": "text/x-python",
   "name": "python",
   "nbconvert_exporter": "python",
   "pygments_lexer": "ipython3",
   "version": "3.7.6"
  }
 },
 "nbformat": 4,
 "nbformat_minor": 5
}
