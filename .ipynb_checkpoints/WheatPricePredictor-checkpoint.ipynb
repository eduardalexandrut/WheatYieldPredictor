{
 "cells": [
  {
   "cell_type": "markdown",
   "id": "e461fa43-a4bd-427a-9218-405fed1a7380",
   "metadata": {},
   "source": [
    "# Descrizione del problema\n",
    "Il nostro obiettivo è quello di creare un modello di regressione in grado di predire la quantità di grano prodotto da un determinato paese, conoscendo i seguenti fattori, ambientiali e non:\n",
    "- Quantità media di pioggia caduta.\n",
    "- Temperatura.\n",
    "- Quantità di pesticidi.\n",
    "\n",
    "Cercando online, siamo riusciti a trovare i dataset necessari. I dataset sono stati presi dal sito online della FAO(Food and Agricolture Organization of the United Nations)."
   ]
  },
  {
   "cell_type": "markdown",
   "id": "05916b9e-a376-4f35-bdae-f5f2487ddc05",
   "metadata": {
    "tags": []
   },
   "source": [
    "# Descrizione dei dati\n",
    "I dataset sono 4:\n",
    "- `yield`, che contiene i dati relativi alla quantità raccolta di diversi frumenti, tra cui il grano.\n",
    "- `rainfall`, che contiene i dati relativi alla pioggia.\n",
    "- `temp`, che contiene i dati relativi alla temperatura.\n",
    "- `pesticides`, che contiene i dati relativi ai pesticidi."
   ]
  },
  {
   "cell_type": "markdown",
   "id": "22081e25-ed52-494f-a7a5-839da52b9bb5",
   "metadata": {},
   "source": [
    "Importiamo le librerie necessarie:"
   ]
  },
  {
   "cell_type": "code",
   "execution_count": 3,
   "id": "d0fdbe60-91c7-496e-9d63-6c35040c2885",
   "metadata": {
    "tags": []
   },
   "outputs": [],
   "source": [
    "import numpy as np\n",
    "import pandas as pd\n",
    "import matplotlib.pyplot as plt\n",
    "import sklearn\n",
    "%matplotlib inline"
   ]
  },
  {
   "cell_type": "code",
   "execution_count": 5,
   "id": "8a7871fe-4569-4f3f-b6db-3b268da5106d",
   "metadata": {},
   "outputs": [
    {
     "name": "stdout",
     "output_type": "stream",
     "text": [
      "<class 'pandas.core.frame.DataFrame'>\n",
      "RangeIndex: 6727 entries, 0 to 6726\n",
      "Data columns (total 3 columns):\n",
      " #   Column                         Non-Null Count  Dtype \n",
      "---  ------                         --------------  ----- \n",
      " 0    Area                          6727 non-null   object\n",
      " 1   Year                           6727 non-null   int64 \n",
      " 2   average_rain_fall_mm_per_year  5953 non-null   object\n",
      "dtypes: int64(1), object(2)\n",
      "memory usage: 157.8+ KB\n"
     ]
    }
   ],
   "source": [
    "rain = pd.read_csv('rainfall.csv')\n",
    "rain.info()"
   ]
  },
  {
   "cell_type": "code",
   "execution_count": 6,
   "id": "0d45e313-44c0-47a9-90b0-b80328e4cb57",
   "metadata": {
    "tags": []
   },
   "outputs": [
    {
     "data": {
      "text/html": [
       "<div>\n",
       "<style scoped>\n",
       "    .dataframe tbody tr th:only-of-type {\n",
       "        vertical-align: middle;\n",
       "    }\n",
       "\n",
       "    .dataframe tbody tr th {\n",
       "        vertical-align: top;\n",
       "    }\n",
       "\n",
       "    .dataframe thead th {\n",
       "        text-align: right;\n",
       "    }\n",
       "</style>\n",
       "<table border=\"1\" class=\"dataframe\">\n",
       "  <thead>\n",
       "    <tr style=\"text-align: right;\">\n",
       "      <th></th>\n",
       "      <th>Area</th>\n",
       "      <th>Year</th>\n",
       "      <th>average_rain_fall_mm_per_year</th>\n",
       "    </tr>\n",
       "  </thead>\n",
       "  <tbody>\n",
       "    <tr>\n",
       "      <th>0</th>\n",
       "      <td>Afghanistan</td>\n",
       "      <td>1985</td>\n",
       "      <td>327</td>\n",
       "    </tr>\n",
       "    <tr>\n",
       "      <th>1</th>\n",
       "      <td>Afghanistan</td>\n",
       "      <td>1986</td>\n",
       "      <td>327</td>\n",
       "    </tr>\n",
       "    <tr>\n",
       "      <th>2</th>\n",
       "      <td>Afghanistan</td>\n",
       "      <td>1987</td>\n",
       "      <td>327</td>\n",
       "    </tr>\n",
       "    <tr>\n",
       "      <th>3</th>\n",
       "      <td>Afghanistan</td>\n",
       "      <td>1989</td>\n",
       "      <td>327</td>\n",
       "    </tr>\n",
       "    <tr>\n",
       "      <th>4</th>\n",
       "      <td>Afghanistan</td>\n",
       "      <td>1990</td>\n",
       "      <td>327</td>\n",
       "    </tr>\n",
       "  </tbody>\n",
       "</table>\n",
       "</div>"
      ],
      "text/plain": [
       "          Area  Year average_rain_fall_mm_per_year\n",
       "0  Afghanistan  1985                           327\n",
       "1  Afghanistan  1986                           327\n",
       "2  Afghanistan  1987                           327\n",
       "3  Afghanistan  1989                           327\n",
       "4  Afghanistan  1990                           327"
      ]
     },
     "execution_count": 6,
     "metadata": {},
     "output_type": "execute_result"
    }
   ],
   "source": [
    "rain.head()"
   ]
  },
  {
   "cell_type": "markdown",
   "id": "fe05bbfb-71d0-4049-93d6-28c07fede933",
   "metadata": {},
   "source": [
    "Come possiamo vedere, il dataset `rain` ha poche feature:\n",
    "- `Area`, che contiene il nome dello stato."
   ]
  },
  {
   "cell_type": "code",
   "execution_count": null,
   "id": "46012bab-29ae-419e-a216-b8bdeba63873",
   "metadata": {},
   "outputs": [],
   "source": []
  }
 ],
 "metadata": {
  "kernelspec": {
   "display_name": "Python 3 (ipykernel)",
   "language": "python",
   "name": "python3"
  },
  "language_info": {
   "codemirror_mode": {
    "name": "ipython",
    "version": 3
   },
   "file_extension": ".py",
   "mimetype": "text/x-python",
   "name": "python",
   "nbconvert_exporter": "python",
   "pygments_lexer": "ipython3",
   "version": "3.11.2"
  }
 },
 "nbformat": 4,
 "nbformat_minor": 5
}
