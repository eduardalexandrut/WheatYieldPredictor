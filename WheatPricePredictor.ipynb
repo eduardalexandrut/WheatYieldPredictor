{
 "cells": [
  {
   "cell_type": "markdown",
   "id": "182fc5ed-f7ac-4d49-ae32-48fa467e2d8e",
   "metadata": {},
   "source": [
    "Il Chicago SRW (Soft Red Winter) Wheat è un tipo di grano invernale. Quindi, il prezzo che stai considerando è relativo al grano invernale. Il grano invernale viene seminato in autunno, in genere tra settembre e novembre, e viene raccolto l'anno successivo, generalmente tra maggio e luglio"
   ]
  },
  {
   "cell_type": "code",
   "execution_count": 8,
   "id": "1f481e97-1595-4200-85a1-67a21780f74e",
   "metadata": {
    "tags": []
   },
   "outputs": [],
   "source": [
    "#pip install yfinance lxml"
   ]
  },
  {
   "cell_type": "markdown",
   "id": "22081e25-ed52-494f-a7a5-839da52b9bb5",
   "metadata": {},
   "source": [
    "Importiamo le librerie necessarie:"
   ]
  },
  {
   "cell_type": "code",
   "execution_count": 2,
   "id": "d0fdbe60-91c7-496e-9d63-6c35040c2885",
   "metadata": {
    "tags": []
   },
   "outputs": [],
   "source": [
    "import numpy as np\n",
    "import pandas as pd\n",
    "import matplotlib.pyplot as plt\n",
    "import sklearn\n",
    "%matplotlib inline\n",
    "import yfinance"
   ]
  },
  {
   "cell_type": "markdown",
   "id": "95e862ae-a6b3-40d3-8b56-a341643f59b6",
   "metadata": {},
   "source": [
    "Creiamo un oggetto `Ticker` che fornisce il metodo .history(), che chiameremo per ottenere un frame con i dati storici in un determinato periodo. Il metodo `history` prende in argomento 3 variabili:\n",
    "- `start`, data della prima istanza del dataset.\n",
    "- `end`, data dell'ultima istanza del dataset.\n",
    "- `actions`, per ottenere delle colonne aggiuntive, che però noi setteremo a `False`."
   ]
  },
  {
   "cell_type": "code",
   "execution_count": 9,
   "id": "a576db08-41b5-4045-8c2d-a47c6518b260",
   "metadata": {
    "tags": []
   },
   "outputs": [
    {
     "data": {
      "text/html": [
       "<div>\n",
       "<style scoped>\n",
       "    .dataframe tbody tr th:only-of-type {\n",
       "        vertical-align: middle;\n",
       "    }\n",
       "\n",
       "    .dataframe tbody tr th {\n",
       "        vertical-align: top;\n",
       "    }\n",
       "\n",
       "    .dataframe thead th {\n",
       "        text-align: right;\n",
       "    }\n",
       "</style>\n",
       "<table border=\"1\" class=\"dataframe\">\n",
       "  <thead>\n",
       "    <tr style=\"text-align: right;\">\n",
       "      <th></th>\n",
       "      <th>Open</th>\n",
       "      <th>High</th>\n",
       "      <th>Low</th>\n",
       "      <th>Close</th>\n",
       "      <th>Volume</th>\n",
       "    </tr>\n",
       "    <tr>\n",
       "      <th>Date</th>\n",
       "      <th></th>\n",
       "      <th></th>\n",
       "      <th></th>\n",
       "      <th></th>\n",
       "      <th></th>\n",
       "    </tr>\n",
       "  </thead>\n",
       "  <tbody>\n",
       "    <tr>\n",
       "      <th>2000-07-17 00:00:00-04:00</th>\n",
       "      <td>248.00</td>\n",
       "      <td>248.0</td>\n",
       "      <td>243.75</td>\n",
       "      <td>244.00</td>\n",
       "      <td>7233</td>\n",
       "    </tr>\n",
       "    <tr>\n",
       "      <th>2000-07-18 00:00:00-04:00</th>\n",
       "      <td>244.25</td>\n",
       "      <td>247.5</td>\n",
       "      <td>241.00</td>\n",
       "      <td>241.25</td>\n",
       "      <td>6523</td>\n",
       "    </tr>\n",
       "    <tr>\n",
       "      <th>2000-07-19 00:00:00-04:00</th>\n",
       "      <td>241.25</td>\n",
       "      <td>246.0</td>\n",
       "      <td>239.00</td>\n",
       "      <td>245.00</td>\n",
       "      <td>7136</td>\n",
       "    </tr>\n",
       "    <tr>\n",
       "      <th>2000-07-20 00:00:00-04:00</th>\n",
       "      <td>244.00</td>\n",
       "      <td>247.5</td>\n",
       "      <td>244.00</td>\n",
       "      <td>247.00</td>\n",
       "      <td>3792</td>\n",
       "    </tr>\n",
       "    <tr>\n",
       "      <th>2000-07-21 00:00:00-04:00</th>\n",
       "      <td>247.00</td>\n",
       "      <td>248.5</td>\n",
       "      <td>246.50</td>\n",
       "      <td>247.25</td>\n",
       "      <td>4380</td>\n",
       "    </tr>\n",
       "  </tbody>\n",
       "</table>\n",
       "</div>"
      ],
      "text/plain": [
       "                             Open   High     Low   Close  Volume\n",
       "Date                                                            \n",
       "2000-07-17 00:00:00-04:00  248.00  248.0  243.75  244.00    7233\n",
       "2000-07-18 00:00:00-04:00  244.25  247.5  241.00  241.25    6523\n",
       "2000-07-19 00:00:00-04:00  241.25  246.0  239.00  245.00    7136\n",
       "2000-07-20 00:00:00-04:00  244.00  247.5  244.00  247.00    3792\n",
       "2000-07-21 00:00:00-04:00  247.00  248.5  246.50  247.25    4380"
      ]
     },
     "execution_count": 9,
     "metadata": {},
     "output_type": "execute_result"
    }
   ],
   "source": [
    "chicagoSRW = yfinance.Ticker(\"ZW=F\")\n",
    "data = chicagoSRW.history(start = \"2000-07-17\", end = \"2024-06-07\", actions = False)\n",
    "data.head()"
   ]
  },
  {
   "cell_type": "markdown",
   "id": "9d083687-c850-4fd9-9278-bf9026b58602",
   "metadata": {},
   "source": [
    "Stampando le prime righe del frame, possiamo notare gli attributi di ogni istanza:\n",
    "- `Date`, che è l'indice della riga.\n",
    "- `Open`, prezzo di apertura giornaliero.\n",
    "- `High`, prezzo massimo giornaliero.\n",
    "- `Low`, prezzo minimo giornaliero.\n",
    "- `Close`, prezzo di chiusura giornaliero.\n",
    "- `Volume`, numero di titoli scambiati in giornata."
   ]
  },
  {
   "cell_type": "code",
   "execution_count": null,
   "id": "8a7871fe-4569-4f3f-b6db-3b268da5106d",
   "metadata": {},
   "outputs": [],
   "source": []
  }
 ],
 "metadata": {
  "kernelspec": {
   "display_name": "Python 3 (ipykernel)",
   "language": "python",
   "name": "python3"
  },
  "language_info": {
   "codemirror_mode": {
    "name": "ipython",
    "version": 3
   },
   "file_extension": ".py",
   "mimetype": "text/x-python",
   "name": "python",
   "nbconvert_exporter": "python",
   "pygments_lexer": "ipython3",
   "version": "3.11.2"
  }
 },
 "nbformat": 4,
 "nbformat_minor": 5
}
