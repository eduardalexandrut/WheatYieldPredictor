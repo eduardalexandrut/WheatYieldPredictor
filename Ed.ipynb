{
 "cells": [
  {
   "cell_type": "code",
   "execution_count": 156,
   "id": "d708d263-275d-4a59-b18c-81c9a15edae5",
   "metadata": {
    "tags": []
   },
   "outputs": [],
   "source": [
    "import numpy as np\n",
    "import pandas as pd\n",
    "import matplotlib.pyplot as plt\n",
    "import sklearn\n",
    "import seaborn as sns\n",
    "%matplotlib inline"
   ]
  },
  {
   "cell_type": "markdown",
   "id": "881594b2-6e1e-425b-91e3-f0bab8b42117",
   "metadata": {},
   "source": [
    "### Rain"
   ]
  },
  {
   "cell_type": "code",
   "execution_count": 157,
   "id": "77603dee-b4eb-4dae-92cb-2cc14a773c7d",
   "metadata": {
    "tags": []
   },
   "outputs": [
    {
     "name": "stdout",
     "output_type": "stream",
     "text": [
      "<class 'pandas.core.frame.DataFrame'>\n",
      "RangeIndex: 6727 entries, 0 to 6726\n",
      "Data columns (total 3 columns):\n",
      " #   Column                         Non-Null Count  Dtype \n",
      "---  ------                         --------------  ----- \n",
      " 0    Area                          6727 non-null   object\n",
      " 1   Year                           6727 non-null   int64 \n",
      " 2   average_rain_fall_mm_per_year  5953 non-null   object\n",
      "dtypes: int64(1), object(2)\n",
      "memory usage: 157.8+ KB\n"
     ]
    }
   ],
   "source": [
    "rain = pd.read_csv('rainfall.csv')\n",
    "rain.info()"
   ]
  },
  {
   "cell_type": "code",
   "execution_count": 158,
   "id": "404301a2-dc9b-4001-b8c0-ee7ac78b6113",
   "metadata": {
    "tags": []
   },
   "outputs": [
    {
     "data": {
      "text/plain": [
       "(6727, 3)"
      ]
     },
     "execution_count": 158,
     "metadata": {},
     "output_type": "execute_result"
    }
   ],
   "source": [
    "rain.shape"
   ]
  },
  {
   "cell_type": "code",
   "execution_count": 159,
   "id": "de98a401-1587-435c-9690-d0233c6d3217",
   "metadata": {
    "tags": []
   },
   "outputs": [
    {
     "data": {
      "text/html": [
       "<div>\n",
       "<style scoped>\n",
       "    .dataframe tbody tr th:only-of-type {\n",
       "        vertical-align: middle;\n",
       "    }\n",
       "\n",
       "    .dataframe tbody tr th {\n",
       "        vertical-align: top;\n",
       "    }\n",
       "\n",
       "    .dataframe thead th {\n",
       "        text-align: right;\n",
       "    }\n",
       "</style>\n",
       "<table border=\"1\" class=\"dataframe\">\n",
       "  <thead>\n",
       "    <tr style=\"text-align: right;\">\n",
       "      <th></th>\n",
       "      <th>Area</th>\n",
       "      <th>Year</th>\n",
       "      <th>average_rain_fall_mm_per_year</th>\n",
       "    </tr>\n",
       "  </thead>\n",
       "  <tbody>\n",
       "    <tr>\n",
       "      <th>0</th>\n",
       "      <td>Afghanistan</td>\n",
       "      <td>1985</td>\n",
       "      <td>327</td>\n",
       "    </tr>\n",
       "    <tr>\n",
       "      <th>1</th>\n",
       "      <td>Afghanistan</td>\n",
       "      <td>1986</td>\n",
       "      <td>327</td>\n",
       "    </tr>\n",
       "    <tr>\n",
       "      <th>2</th>\n",
       "      <td>Afghanistan</td>\n",
       "      <td>1987</td>\n",
       "      <td>327</td>\n",
       "    </tr>\n",
       "    <tr>\n",
       "      <th>3</th>\n",
       "      <td>Afghanistan</td>\n",
       "      <td>1989</td>\n",
       "      <td>327</td>\n",
       "    </tr>\n",
       "    <tr>\n",
       "      <th>4</th>\n",
       "      <td>Afghanistan</td>\n",
       "      <td>1990</td>\n",
       "      <td>327</td>\n",
       "    </tr>\n",
       "  </tbody>\n",
       "</table>\n",
       "</div>"
      ],
      "text/plain": [
       "          Area  Year average_rain_fall_mm_per_year\n",
       "0  Afghanistan  1985                           327\n",
       "1  Afghanistan  1986                           327\n",
       "2  Afghanistan  1987                           327\n",
       "3  Afghanistan  1989                           327\n",
       "4  Afghanistan  1990                           327"
      ]
     },
     "execution_count": 159,
     "metadata": {},
     "output_type": "execute_result"
    }
   ],
   "source": [
    "rain.head()"
   ]
  },
  {
   "cell_type": "markdown",
   "id": "5e46b864-ce82-492c-aeb9-bff6614392f2",
   "metadata": {},
   "source": [
    "Come possiamo vedere, il dataset `rain` ha 3 feature:\n",
    "- `Area`, che contiene il nome dello stato.\n",
    "- `Year`, che indica l'anno in cui sono stati raccolti i dati.\n",
    "- `average_rain_fall_mm_per_year`, che indica la quantità media di pioggia caduta in millimetri, in un determinato anno e in un determinato paese.\n",
    "\n",
    "Inoltre, le feature `Area` e `average_rain_fall_mm_per_year` vengono memorizzate come `object`. Questo succede poichè nel leggere i dati, Pandas converte di deafult in object tutti i tipi che non sono interi.Dunque, cambiamo il tipo di `Area` in `String`, ed il tipo di `average_rain_fall_mm_per_year` in `Float`."
   ]
  },
  {
   "cell_type": "code",
   "execution_count": 160,
   "id": "c41f9212-50cb-481a-adb6-149278555bea",
   "metadata": {
    "tags": []
   },
   "outputs": [
    {
     "data": {
      "text/html": [
       "<div>\n",
       "<style scoped>\n",
       "    .dataframe tbody tr th:only-of-type {\n",
       "        vertical-align: middle;\n",
       "    }\n",
       "\n",
       "    .dataframe tbody tr th {\n",
       "        vertical-align: top;\n",
       "    }\n",
       "\n",
       "    .dataframe thead th {\n",
       "        text-align: right;\n",
       "    }\n",
       "</style>\n",
       "<table border=\"1\" class=\"dataframe\">\n",
       "  <thead>\n",
       "    <tr style=\"text-align: right;\">\n",
       "      <th></th>\n",
       "      <th>Year</th>\n",
       "    </tr>\n",
       "  </thead>\n",
       "  <tbody>\n",
       "    <tr>\n",
       "      <th>count</th>\n",
       "      <td>6727.000000</td>\n",
       "    </tr>\n",
       "    <tr>\n",
       "      <th>mean</th>\n",
       "      <td>2001.354839</td>\n",
       "    </tr>\n",
       "    <tr>\n",
       "      <th>std</th>\n",
       "      <td>9.530114</td>\n",
       "    </tr>\n",
       "    <tr>\n",
       "      <th>min</th>\n",
       "      <td>1985.000000</td>\n",
       "    </tr>\n",
       "    <tr>\n",
       "      <th>25%</th>\n",
       "      <td>1993.000000</td>\n",
       "    </tr>\n",
       "    <tr>\n",
       "      <th>50%</th>\n",
       "      <td>2001.000000</td>\n",
       "    </tr>\n",
       "    <tr>\n",
       "      <th>75%</th>\n",
       "      <td>2010.000000</td>\n",
       "    </tr>\n",
       "    <tr>\n",
       "      <th>max</th>\n",
       "      <td>2017.000000</td>\n",
       "    </tr>\n",
       "  </tbody>\n",
       "</table>\n",
       "</div>"
      ],
      "text/plain": [
       "              Year\n",
       "count  6727.000000\n",
       "mean   2001.354839\n",
       "std       9.530114\n",
       "min    1985.000000\n",
       "25%    1993.000000\n",
       "50%    2001.000000\n",
       "75%    2010.000000\n",
       "max    2017.000000"
      ]
     },
     "execution_count": 160,
     "metadata": {},
     "output_type": "execute_result"
    }
   ],
   "source": [
    "rain.describe()"
   ]
  },
  {
   "cell_type": "markdown",
   "id": "32a1f9b4-d145-49f6-a146-c0dd190f51f2",
   "metadata": {},
   "source": [
    "Notiamo che il dataset, per ogni `Area`, contiene dati dal 1985 al 2017."
   ]
  },
  {
   "cell_type": "code",
   "execution_count": 161,
   "id": "5e3af934-7e0d-4cdf-a01b-502e752731af",
   "metadata": {
    "tags": []
   },
   "outputs": [
    {
     "name": "stdout",
     "output_type": "stream",
     "text": [
      "<class 'pandas.core.frame.DataFrame'>\n",
      "RangeIndex: 6727 entries, 0 to 6726\n",
      "Data columns (total 3 columns):\n",
      " #   Column                         Non-Null Count  Dtype  \n",
      "---  ------                         --------------  -----  \n",
      " 0   Area                           6727 non-null   string \n",
      " 1   Year                           6727 non-null   int64  \n",
      " 2   average_rain_fall_mm_per_year  5947 non-null   float64\n",
      "dtypes: float64(1), int64(1), string(1)\n",
      "memory usage: 157.8 KB\n"
     ]
    }
   ],
   "source": [
    "rain['average_rain_fall_mm_per_year'] = pd.to_numeric(rain['average_rain_fall_mm_per_year'],errors = 'coerce')\n",
    "rain[' Area'] = rain[' Area'].astype(pd.StringDtype())\n",
    "rain.rename(columns={' Area': 'Area'}, inplace=True)\n",
    "rain.info()  "
   ]
  },
  {
   "cell_type": "markdown",
   "id": "81e90f1e-2531-4409-b01c-449044d1317c",
   "metadata": {
    "tags": []
   },
   "source": [
    "Oltre ad una migliore rappresentazione dei dati, otteniamo anche una dimensione fissa del file di 157.8 KB."
   ]
  },
  {
   "cell_type": "code",
   "execution_count": 162,
   "id": "32db31a1-622f-4c22-b226-64077eec8774",
   "metadata": {
    "tags": []
   },
   "outputs": [
    {
     "name": "stdout",
     "output_type": "stream",
     "text": [
      "Numero totale di paesi: 217\n"
     ]
    }
   ],
   "source": [
    "print(f\"Numero totale di paesi: {rain['Area'].unique().size}\")"
   ]
  },
  {
   "cell_type": "markdown",
   "id": "dee82ef4-1215-42f1-840f-bc163686ab31",
   "metadata": {},
   "source": [
    "Il dataset contiene 217 paesi in totale."
   ]
  },
  {
   "cell_type": "code",
   "execution_count": 163,
   "id": "86299914-deff-4db2-8423-38d935765582",
   "metadata": {
    "tags": []
   },
   "outputs": [
    {
     "data": {
      "text/plain": [
       "(6727, 3)"
      ]
     },
     "execution_count": 163,
     "metadata": {},
     "output_type": "execute_result"
    }
   ],
   "source": [
    "rain.dropna()\n",
    "rain.shape"
   ]
  },
  {
   "cell_type": "markdown",
   "id": "7157d572-0a23-44cc-95e7-d2333015739b",
   "metadata": {},
   "source": [
    "Chiamando il metodo `dropna` togliamo tutte le righe contenenti valori null. Osserviamo però che la shape del data frame non è cambiato, quindi non erano presenti righe con valori null."
   ]
  },
  {
   "cell_type": "markdown",
   "id": "246cf406-c523-4b42-96b5-a6eba7888f74",
   "metadata": {
    "tags": []
   },
   "source": [
    "### Pesticides"
   ]
  },
  {
   "cell_type": "code",
   "execution_count": 164,
   "id": "644d6585-5d33-4e7f-8a81-705aa471bb5b",
   "metadata": {
    "tags": []
   },
   "outputs": [
    {
     "name": "stdout",
     "output_type": "stream",
     "text": [
      "<class 'pandas.core.frame.DataFrame'>\n",
      "RangeIndex: 4349 entries, 0 to 4348\n",
      "Data columns (total 7 columns):\n",
      " #   Column   Non-Null Count  Dtype  \n",
      "---  ------   --------------  -----  \n",
      " 0   Domain   4349 non-null   object \n",
      " 1   Area     4349 non-null   object \n",
      " 2   Element  4349 non-null   object \n",
      " 3   Item     4349 non-null   object \n",
      " 4   Year     4349 non-null   int64  \n",
      " 5   Unit     4349 non-null   object \n",
      " 6   Value    4349 non-null   float64\n",
      "dtypes: float64(1), int64(1), object(5)\n",
      "memory usage: 238.0+ KB\n"
     ]
    }
   ],
   "source": [
    "pest = pd.read_csv('pesticides.csv')\n",
    "pest.info()"
   ]
  },
  {
   "cell_type": "code",
   "execution_count": 165,
   "id": "ae284ee7-ecdb-4549-8ec3-1f5e0b574076",
   "metadata": {
    "tags": []
   },
   "outputs": [
    {
     "data": {
      "text/plain": [
       "(4349, 7)"
      ]
     },
     "execution_count": 165,
     "metadata": {},
     "output_type": "execute_result"
    }
   ],
   "source": [
    "pest.shape"
   ]
  },
  {
   "cell_type": "code",
   "execution_count": 166,
   "id": "41a2e0a5-098b-4344-a33b-21d655bd771c",
   "metadata": {
    "tags": []
   },
   "outputs": [
    {
     "data": {
      "text/html": [
       "<div>\n",
       "<style scoped>\n",
       "    .dataframe tbody tr th:only-of-type {\n",
       "        vertical-align: middle;\n",
       "    }\n",
       "\n",
       "    .dataframe tbody tr th {\n",
       "        vertical-align: top;\n",
       "    }\n",
       "\n",
       "    .dataframe thead th {\n",
       "        text-align: right;\n",
       "    }\n",
       "</style>\n",
       "<table border=\"1\" class=\"dataframe\">\n",
       "  <thead>\n",
       "    <tr style=\"text-align: right;\">\n",
       "      <th></th>\n",
       "      <th>Domain</th>\n",
       "      <th>Area</th>\n",
       "      <th>Element</th>\n",
       "      <th>Item</th>\n",
       "      <th>Year</th>\n",
       "      <th>Unit</th>\n",
       "      <th>Value</th>\n",
       "    </tr>\n",
       "  </thead>\n",
       "  <tbody>\n",
       "    <tr>\n",
       "      <th>0</th>\n",
       "      <td>Pesticides Use</td>\n",
       "      <td>Albania</td>\n",
       "      <td>Use</td>\n",
       "      <td>Pesticides (total)</td>\n",
       "      <td>1990</td>\n",
       "      <td>tonnes of active ingredients</td>\n",
       "      <td>121.0</td>\n",
       "    </tr>\n",
       "    <tr>\n",
       "      <th>1</th>\n",
       "      <td>Pesticides Use</td>\n",
       "      <td>Albania</td>\n",
       "      <td>Use</td>\n",
       "      <td>Pesticides (total)</td>\n",
       "      <td>1991</td>\n",
       "      <td>tonnes of active ingredients</td>\n",
       "      <td>121.0</td>\n",
       "    </tr>\n",
       "    <tr>\n",
       "      <th>2</th>\n",
       "      <td>Pesticides Use</td>\n",
       "      <td>Albania</td>\n",
       "      <td>Use</td>\n",
       "      <td>Pesticides (total)</td>\n",
       "      <td>1992</td>\n",
       "      <td>tonnes of active ingredients</td>\n",
       "      <td>121.0</td>\n",
       "    </tr>\n",
       "    <tr>\n",
       "      <th>3</th>\n",
       "      <td>Pesticides Use</td>\n",
       "      <td>Albania</td>\n",
       "      <td>Use</td>\n",
       "      <td>Pesticides (total)</td>\n",
       "      <td>1993</td>\n",
       "      <td>tonnes of active ingredients</td>\n",
       "      <td>121.0</td>\n",
       "    </tr>\n",
       "    <tr>\n",
       "      <th>4</th>\n",
       "      <td>Pesticides Use</td>\n",
       "      <td>Albania</td>\n",
       "      <td>Use</td>\n",
       "      <td>Pesticides (total)</td>\n",
       "      <td>1994</td>\n",
       "      <td>tonnes of active ingredients</td>\n",
       "      <td>201.0</td>\n",
       "    </tr>\n",
       "  </tbody>\n",
       "</table>\n",
       "</div>"
      ],
      "text/plain": [
       "           Domain     Area Element                Item  Year  \\\n",
       "0  Pesticides Use  Albania     Use  Pesticides (total)  1990   \n",
       "1  Pesticides Use  Albania     Use  Pesticides (total)  1991   \n",
       "2  Pesticides Use  Albania     Use  Pesticides (total)  1992   \n",
       "3  Pesticides Use  Albania     Use  Pesticides (total)  1993   \n",
       "4  Pesticides Use  Albania     Use  Pesticides (total)  1994   \n",
       "\n",
       "                           Unit  Value  \n",
       "0  tonnes of active ingredients  121.0  \n",
       "1  tonnes of active ingredients  121.0  \n",
       "2  tonnes of active ingredients  121.0  \n",
       "3  tonnes of active ingredients  121.0  \n",
       "4  tonnes of active ingredients  201.0  "
      ]
     },
     "execution_count": 166,
     "metadata": {},
     "output_type": "execute_result"
    }
   ],
   "source": [
    "pest.head()"
   ]
  },
  {
   "cell_type": "markdown",
   "id": "42784209-2895-43d0-89c9-cbb005047e5e",
   "metadata": {},
   "source": [
    "Il dataset contiene le seguenti features:\n",
    "- `Domain`, dominio dei dati raccolti. Il dominio sarà lo stesso per tutte le istanze del dataset.\n",
    "- `Item`, tipologia di prodotto utilizzato. Nel nostro caso sono solo pesticicidi.\n",
    "- `Area`, nome del paese in questione,\n",
    "- `Year`, anno in cui sono state raccolte tali informazioni.\n",
    "- `Unit`, unità di misura(in questo caso tonnellate).\n",
    "- `Value`, quantità di pesticidi usati in un determinato anno in un determinato paese.\n",
    "\n",
    "Le feature `Domain`, `Element`, `Item` e `Unit` sono inutili per il nostro modello, perciò le rimuoviamo. Inoltre cambiamo il nome della colonna `Value` in `Value_in_t` per indicare l'unità di misura e rimuoviamo le eventuali righe contenenti valori null."
   ]
  },
  {
   "cell_type": "code",
   "execution_count": 167,
   "id": "0c0884f5-6da4-4ace-baf3-efead4900ca0",
   "metadata": {
    "tags": []
   },
   "outputs": [],
   "source": [
    "pest['Area'] = pest['Area'].astype(pd.StringDtype())"
   ]
  },
  {
   "cell_type": "code",
   "execution_count": 168,
   "id": "4ac40775-128e-4dc8-879f-778d0ea98031",
   "metadata": {
    "tags": []
   },
   "outputs": [
    {
     "data": {
      "text/html": [
       "<div>\n",
       "<style scoped>\n",
       "    .dataframe tbody tr th:only-of-type {\n",
       "        vertical-align: middle;\n",
       "    }\n",
       "\n",
       "    .dataframe tbody tr th {\n",
       "        vertical-align: top;\n",
       "    }\n",
       "\n",
       "    .dataframe thead th {\n",
       "        text-align: right;\n",
       "    }\n",
       "</style>\n",
       "<table border=\"1\" class=\"dataframe\">\n",
       "  <thead>\n",
       "    <tr style=\"text-align: right;\">\n",
       "      <th></th>\n",
       "      <th>Domain</th>\n",
       "      <th>Area</th>\n",
       "      <th>Element</th>\n",
       "      <th>Item</th>\n",
       "      <th>Year</th>\n",
       "      <th>Unit</th>\n",
       "      <th>Value</th>\n",
       "    </tr>\n",
       "  </thead>\n",
       "  <tbody>\n",
       "    <tr>\n",
       "      <th>0</th>\n",
       "      <td>Pesticides Use</td>\n",
       "      <td>Albania</td>\n",
       "      <td>Use</td>\n",
       "      <td>Pesticides (total)</td>\n",
       "      <td>1990</td>\n",
       "      <td>tonnes of active ingredients</td>\n",
       "      <td>121.00</td>\n",
       "    </tr>\n",
       "    <tr>\n",
       "      <th>1</th>\n",
       "      <td>Pesticides Use</td>\n",
       "      <td>Albania</td>\n",
       "      <td>Use</td>\n",
       "      <td>Pesticides (total)</td>\n",
       "      <td>1991</td>\n",
       "      <td>tonnes of active ingredients</td>\n",
       "      <td>121.00</td>\n",
       "    </tr>\n",
       "    <tr>\n",
       "      <th>2</th>\n",
       "      <td>Pesticides Use</td>\n",
       "      <td>Albania</td>\n",
       "      <td>Use</td>\n",
       "      <td>Pesticides (total)</td>\n",
       "      <td>1992</td>\n",
       "      <td>tonnes of active ingredients</td>\n",
       "      <td>121.00</td>\n",
       "    </tr>\n",
       "    <tr>\n",
       "      <th>3</th>\n",
       "      <td>Pesticides Use</td>\n",
       "      <td>Albania</td>\n",
       "      <td>Use</td>\n",
       "      <td>Pesticides (total)</td>\n",
       "      <td>1993</td>\n",
       "      <td>tonnes of active ingredients</td>\n",
       "      <td>121.00</td>\n",
       "    </tr>\n",
       "    <tr>\n",
       "      <th>4</th>\n",
       "      <td>Pesticides Use</td>\n",
       "      <td>Albania</td>\n",
       "      <td>Use</td>\n",
       "      <td>Pesticides (total)</td>\n",
       "      <td>1994</td>\n",
       "      <td>tonnes of active ingredients</td>\n",
       "      <td>201.00</td>\n",
       "    </tr>\n",
       "    <tr>\n",
       "      <th>...</th>\n",
       "      <td>...</td>\n",
       "      <td>...</td>\n",
       "      <td>...</td>\n",
       "      <td>...</td>\n",
       "      <td>...</td>\n",
       "      <td>...</td>\n",
       "      <td>...</td>\n",
       "    </tr>\n",
       "    <tr>\n",
       "      <th>4344</th>\n",
       "      <td>Pesticides Use</td>\n",
       "      <td>Zimbabwe</td>\n",
       "      <td>Use</td>\n",
       "      <td>Pesticides (total)</td>\n",
       "      <td>2012</td>\n",
       "      <td>tonnes of active ingredients</td>\n",
       "      <td>3375.53</td>\n",
       "    </tr>\n",
       "    <tr>\n",
       "      <th>4345</th>\n",
       "      <td>Pesticides Use</td>\n",
       "      <td>Zimbabwe</td>\n",
       "      <td>Use</td>\n",
       "      <td>Pesticides (total)</td>\n",
       "      <td>2013</td>\n",
       "      <td>tonnes of active ingredients</td>\n",
       "      <td>2550.07</td>\n",
       "    </tr>\n",
       "    <tr>\n",
       "      <th>4346</th>\n",
       "      <td>Pesticides Use</td>\n",
       "      <td>Zimbabwe</td>\n",
       "      <td>Use</td>\n",
       "      <td>Pesticides (total)</td>\n",
       "      <td>2014</td>\n",
       "      <td>tonnes of active ingredients</td>\n",
       "      <td>2185.07</td>\n",
       "    </tr>\n",
       "    <tr>\n",
       "      <th>4347</th>\n",
       "      <td>Pesticides Use</td>\n",
       "      <td>Zimbabwe</td>\n",
       "      <td>Use</td>\n",
       "      <td>Pesticides (total)</td>\n",
       "      <td>2015</td>\n",
       "      <td>tonnes of active ingredients</td>\n",
       "      <td>2185.07</td>\n",
       "    </tr>\n",
       "    <tr>\n",
       "      <th>4348</th>\n",
       "      <td>Pesticides Use</td>\n",
       "      <td>Zimbabwe</td>\n",
       "      <td>Use</td>\n",
       "      <td>Pesticides (total)</td>\n",
       "      <td>2016</td>\n",
       "      <td>tonnes of active ingredients</td>\n",
       "      <td>2185.07</td>\n",
       "    </tr>\n",
       "  </tbody>\n",
       "</table>\n",
       "<p>4349 rows × 7 columns</p>\n",
       "</div>"
      ],
      "text/plain": [
       "              Domain      Area Element                Item  Year  \\\n",
       "0     Pesticides Use   Albania     Use  Pesticides (total)  1990   \n",
       "1     Pesticides Use   Albania     Use  Pesticides (total)  1991   \n",
       "2     Pesticides Use   Albania     Use  Pesticides (total)  1992   \n",
       "3     Pesticides Use   Albania     Use  Pesticides (total)  1993   \n",
       "4     Pesticides Use   Albania     Use  Pesticides (total)  1994   \n",
       "...              ...       ...     ...                 ...   ...   \n",
       "4344  Pesticides Use  Zimbabwe     Use  Pesticides (total)  2012   \n",
       "4345  Pesticides Use  Zimbabwe     Use  Pesticides (total)  2013   \n",
       "4346  Pesticides Use  Zimbabwe     Use  Pesticides (total)  2014   \n",
       "4347  Pesticides Use  Zimbabwe     Use  Pesticides (total)  2015   \n",
       "4348  Pesticides Use  Zimbabwe     Use  Pesticides (total)  2016   \n",
       "\n",
       "                              Unit    Value  \n",
       "0     tonnes of active ingredients   121.00  \n",
       "1     tonnes of active ingredients   121.00  \n",
       "2     tonnes of active ingredients   121.00  \n",
       "3     tonnes of active ingredients   121.00  \n",
       "4     tonnes of active ingredients   201.00  \n",
       "...                            ...      ...  \n",
       "4344  tonnes of active ingredients  3375.53  \n",
       "4345  tonnes of active ingredients  2550.07  \n",
       "4346  tonnes of active ingredients  2185.07  \n",
       "4347  tonnes of active ingredients  2185.07  \n",
       "4348  tonnes of active ingredients  2185.07  \n",
       "\n",
       "[4349 rows x 7 columns]"
      ]
     },
     "execution_count": 168,
     "metadata": {},
     "output_type": "execute_result"
    }
   ],
   "source": [
    "pest.dropna()"
   ]
  },
  {
   "cell_type": "code",
   "execution_count": 169,
   "id": "0a2e8e95-fd7b-4b4c-acf1-d20ac2f93bec",
   "metadata": {
    "tags": []
   },
   "outputs": [
    {
     "data": {
      "text/html": [
       "<div>\n",
       "<style scoped>\n",
       "    .dataframe tbody tr th:only-of-type {\n",
       "        vertical-align: middle;\n",
       "    }\n",
       "\n",
       "    .dataframe tbody tr th {\n",
       "        vertical-align: top;\n",
       "    }\n",
       "\n",
       "    .dataframe thead th {\n",
       "        text-align: right;\n",
       "    }\n",
       "</style>\n",
       "<table border=\"1\" class=\"dataframe\">\n",
       "  <thead>\n",
       "    <tr style=\"text-align: right;\">\n",
       "      <th></th>\n",
       "      <th>Area</th>\n",
       "      <th>Year</th>\n",
       "      <th>pesticides_in_t</th>\n",
       "    </tr>\n",
       "  </thead>\n",
       "  <tbody>\n",
       "    <tr>\n",
       "      <th>0</th>\n",
       "      <td>Albania</td>\n",
       "      <td>1990</td>\n",
       "      <td>121.0</td>\n",
       "    </tr>\n",
       "    <tr>\n",
       "      <th>1</th>\n",
       "      <td>Albania</td>\n",
       "      <td>1991</td>\n",
       "      <td>121.0</td>\n",
       "    </tr>\n",
       "    <tr>\n",
       "      <th>2</th>\n",
       "      <td>Albania</td>\n",
       "      <td>1992</td>\n",
       "      <td>121.0</td>\n",
       "    </tr>\n",
       "    <tr>\n",
       "      <th>3</th>\n",
       "      <td>Albania</td>\n",
       "      <td>1993</td>\n",
       "      <td>121.0</td>\n",
       "    </tr>\n",
       "    <tr>\n",
       "      <th>4</th>\n",
       "      <td>Albania</td>\n",
       "      <td>1994</td>\n",
       "      <td>201.0</td>\n",
       "    </tr>\n",
       "  </tbody>\n",
       "</table>\n",
       "</div>"
      ],
      "text/plain": [
       "      Area  Year  pesticides_in_t\n",
       "0  Albania  1990            121.0\n",
       "1  Albania  1991            121.0\n",
       "2  Albania  1992            121.0\n",
       "3  Albania  1993            121.0\n",
       "4  Albania  1994            201.0"
      ]
     },
     "execution_count": 169,
     "metadata": {},
     "output_type": "execute_result"
    }
   ],
   "source": [
    "pest.drop(['Domain', 'Item', 'Unit', 'Element'], axis = 1, inplace= True)\n",
    "pest.rename(columns = {'Value':'pesticides_in_t'}, inplace=True)\n",
    "pest.head()"
   ]
  },
  {
   "cell_type": "code",
   "execution_count": 170,
   "id": "c6acba06-5f1d-4d8c-87c5-a1acb0dbd990",
   "metadata": {
    "tags": []
   },
   "outputs": [
    {
     "data": {
      "text/html": [
       "<div>\n",
       "<style scoped>\n",
       "    .dataframe tbody tr th:only-of-type {\n",
       "        vertical-align: middle;\n",
       "    }\n",
       "\n",
       "    .dataframe tbody tr th {\n",
       "        vertical-align: top;\n",
       "    }\n",
       "\n",
       "    .dataframe thead th {\n",
       "        text-align: right;\n",
       "    }\n",
       "</style>\n",
       "<table border=\"1\" class=\"dataframe\">\n",
       "  <thead>\n",
       "    <tr style=\"text-align: right;\">\n",
       "      <th></th>\n",
       "      <th>Year</th>\n",
       "      <th>pesticides_in_t</th>\n",
       "    </tr>\n",
       "  </thead>\n",
       "  <tbody>\n",
       "    <tr>\n",
       "      <th>count</th>\n",
       "      <td>4349.000000</td>\n",
       "      <td>4.349000e+03</td>\n",
       "    </tr>\n",
       "    <tr>\n",
       "      <th>mean</th>\n",
       "      <td>2003.138883</td>\n",
       "      <td>2.030334e+04</td>\n",
       "    </tr>\n",
       "    <tr>\n",
       "      <th>std</th>\n",
       "      <td>7.728044</td>\n",
       "      <td>1.177362e+05</td>\n",
       "    </tr>\n",
       "    <tr>\n",
       "      <th>min</th>\n",
       "      <td>1990.000000</td>\n",
       "      <td>0.000000e+00</td>\n",
       "    </tr>\n",
       "    <tr>\n",
       "      <th>25%</th>\n",
       "      <td>1996.000000</td>\n",
       "      <td>9.300000e+01</td>\n",
       "    </tr>\n",
       "    <tr>\n",
       "      <th>50%</th>\n",
       "      <td>2003.000000</td>\n",
       "      <td>1.137560e+03</td>\n",
       "    </tr>\n",
       "    <tr>\n",
       "      <th>75%</th>\n",
       "      <td>2010.000000</td>\n",
       "      <td>7.869000e+03</td>\n",
       "    </tr>\n",
       "    <tr>\n",
       "      <th>max</th>\n",
       "      <td>2016.000000</td>\n",
       "      <td>1.807000e+06</td>\n",
       "    </tr>\n",
       "  </tbody>\n",
       "</table>\n",
       "</div>"
      ],
      "text/plain": [
       "              Year  pesticides_in_t\n",
       "count  4349.000000     4.349000e+03\n",
       "mean   2003.138883     2.030334e+04\n",
       "std       7.728044     1.177362e+05\n",
       "min    1990.000000     0.000000e+00\n",
       "25%    1996.000000     9.300000e+01\n",
       "50%    2003.000000     1.137560e+03\n",
       "75%    2010.000000     7.869000e+03\n",
       "max    2016.000000     1.807000e+06"
      ]
     },
     "execution_count": 170,
     "metadata": {},
     "output_type": "execute_result"
    }
   ],
   "source": [
    "pest.describe()"
   ]
  },
  {
   "cell_type": "markdown",
   "id": "55294eab-996e-4af8-bd8f-fcee04d25e57",
   "metadata": {},
   "source": [
    "Come possiamo notare, il dataset contiene dati dal 1990 al 2016."
   ]
  },
  {
   "cell_type": "code",
   "execution_count": 171,
   "id": "414e2a72-54a2-4cf5-9fe2-0841f4ea784f",
   "metadata": {
    "tags": []
   },
   "outputs": [
    {
     "name": "stdout",
     "output_type": "stream",
     "text": [
      "<class 'pandas.core.frame.DataFrame'>\n",
      "RangeIndex: 4349 entries, 0 to 4348\n",
      "Data columns (total 3 columns):\n",
      " #   Column           Non-Null Count  Dtype  \n",
      "---  ------           --------------  -----  \n",
      " 0   Area             4349 non-null   string \n",
      " 1   Year             4349 non-null   int64  \n",
      " 2   pesticides_in_t  4349 non-null   float64\n",
      "dtypes: float64(1), int64(1), string(1)\n",
      "memory usage: 102.1 KB\n"
     ]
    }
   ],
   "source": [
    "pest.info()"
   ]
  },
  {
   "cell_type": "code",
   "execution_count": 172,
   "id": "14920006-d1c8-4a61-b3d8-4916c9f1d76a",
   "metadata": {
    "tags": []
   },
   "outputs": [
    {
     "data": {
      "text/plain": [
       "(4349, 3)"
      ]
     },
     "execution_count": 172,
     "metadata": {},
     "output_type": "execute_result"
    }
   ],
   "source": [
    "pest.shape"
   ]
  },
  {
   "cell_type": "markdown",
   "id": "e6b80087-d9ed-4950-a8b8-cbfd588b90cd",
   "metadata": {},
   "source": [
    "Eseguendo le operazioni precedenti, siamo riusciti a ridurre la dimensione totale del dataset a 102.1 KB. Il numero di righe non è cambiato dopo aver chiamato il metodo `dropna`, perciò non erano presenti righe con valori null."
   ]
  },
  {
   "cell_type": "code",
   "execution_count": 173,
   "id": "e9acebe9-cdb0-48c4-bb43-35d01478deb0",
   "metadata": {
    "tags": []
   },
   "outputs": [
    {
     "name": "stdout",
     "output_type": "stream",
     "text": [
      "Numero totale di paesi: 168\n"
     ]
    }
   ],
   "source": [
    "print(f\"Numero totale di paesi: {pest['Area'].unique().size}\")"
   ]
  },
  {
   "cell_type": "markdown",
   "id": "3dc99e63-e36d-4c32-b1e0-2323ab248115",
   "metadata": {},
   "source": [
    "Vediamo che il numero di paesi di questo dataset è minore rispetto al dataest `rain`. Dunque, per poter procedere verso il merging dei vari dataset per creare uno solo, bisogna rimuovere da `rain` tutte le righe rigurdanti i paesi non contenuti in `pesticides`."
   ]
  },
  {
   "cell_type": "markdown",
   "id": "842ae3ea-6bfb-4e80-a01e-d38720305c69",
   "metadata": {},
   "source": [
    "### Temperature"
   ]
  },
  {
   "cell_type": "code",
   "execution_count": 174,
   "id": "6f391a36-f146-49b8-bc3a-1c704a807df3",
   "metadata": {
    "tags": []
   },
   "outputs": [
    {
     "data": {
      "text/html": [
       "<div>\n",
       "<style scoped>\n",
       "    .dataframe tbody tr th:only-of-type {\n",
       "        vertical-align: middle;\n",
       "    }\n",
       "\n",
       "    .dataframe tbody tr th {\n",
       "        vertical-align: top;\n",
       "    }\n",
       "\n",
       "    .dataframe thead th {\n",
       "        text-align: right;\n",
       "    }\n",
       "</style>\n",
       "<table border=\"1\" class=\"dataframe\">\n",
       "  <thead>\n",
       "    <tr style=\"text-align: right;\">\n",
       "      <th></th>\n",
       "      <th>year</th>\n",
       "      <th>country</th>\n",
       "      <th>avg_temp</th>\n",
       "    </tr>\n",
       "  </thead>\n",
       "  <tbody>\n",
       "    <tr>\n",
       "      <th>0</th>\n",
       "      <td>1849</td>\n",
       "      <td>Côte D'Ivoire</td>\n",
       "      <td>25.58</td>\n",
       "    </tr>\n",
       "    <tr>\n",
       "      <th>1</th>\n",
       "      <td>1850</td>\n",
       "      <td>Côte D'Ivoire</td>\n",
       "      <td>25.52</td>\n",
       "    </tr>\n",
       "    <tr>\n",
       "      <th>2</th>\n",
       "      <td>1851</td>\n",
       "      <td>Côte D'Ivoire</td>\n",
       "      <td>25.67</td>\n",
       "    </tr>\n",
       "    <tr>\n",
       "      <th>3</th>\n",
       "      <td>1852</td>\n",
       "      <td>Côte D'Ivoire</td>\n",
       "      <td>NaN</td>\n",
       "    </tr>\n",
       "    <tr>\n",
       "      <th>4</th>\n",
       "      <td>1853</td>\n",
       "      <td>Côte D'Ivoire</td>\n",
       "      <td>NaN</td>\n",
       "    </tr>\n",
       "  </tbody>\n",
       "</table>\n",
       "</div>"
      ],
      "text/plain": [
       "   year        country  avg_temp\n",
       "0  1849  Côte D'Ivoire     25.58\n",
       "1  1850  Côte D'Ivoire     25.52\n",
       "2  1851  Côte D'Ivoire     25.67\n",
       "3  1852  Côte D'Ivoire       NaN\n",
       "4  1853  Côte D'Ivoire       NaN"
      ]
     },
     "execution_count": 174,
     "metadata": {},
     "output_type": "execute_result"
    }
   ],
   "source": [
    "temp_data = pd.read_csv('temp.csv')\n",
    "temp_data.head()"
   ]
  },
  {
   "cell_type": "code",
   "execution_count": 175,
   "id": "f1664d8f-7a2e-4213-a77a-fbea97440778",
   "metadata": {
    "tags": []
   },
   "outputs": [
    {
     "name": "stdout",
     "output_type": "stream",
     "text": [
      "<class 'pandas.core.frame.DataFrame'>\n",
      "RangeIndex: 71311 entries, 0 to 71310\n",
      "Data columns (total 3 columns):\n",
      " #   Column    Non-Null Count  Dtype  \n",
      "---  ------    --------------  -----  \n",
      " 0   year      71311 non-null  int64  \n",
      " 1   country   71311 non-null  object \n",
      " 2   avg_temp  68764 non-null  float64\n",
      "dtypes: float64(1), int64(1), object(1)\n",
      "memory usage: 1.6+ MB\n"
     ]
    }
   ],
   "source": [
    "temp_data.info()"
   ]
  },
  {
   "cell_type": "markdown",
   "id": "1a97d2a5-72cf-46b3-a141-2546f0959b78",
   "metadata": {},
   "source": [
    "La colonna \"country\" è composta da oggetti, per risparmiare della memoria e rendere più facile il suo utilizzo, tutti i valori vengono trasformati in stringhe"
   ]
  },
  {
   "cell_type": "code",
   "execution_count": 176,
   "id": "b5f95568-7bfa-48f5-a0af-f64bc9290390",
   "metadata": {
    "tags": []
   },
   "outputs": [],
   "source": [
    "temp_data['country'] = temp_data['country'].astype('string')"
   ]
  },
  {
   "cell_type": "code",
   "execution_count": 177,
   "id": "a291a269-3e09-4049-9cac-349979bff02a",
   "metadata": {
    "tags": []
   },
   "outputs": [
    {
     "data": {
      "text/plain": [
       "year           0\n",
       "country        0\n",
       "avg_temp    2547\n",
       "dtype: int64"
      ]
     },
     "execution_count": 177,
     "metadata": {},
     "output_type": "execute_result"
    }
   ],
   "source": [
    "temp_data.isna().sum()"
   ]
  },
  {
   "cell_type": "code",
   "execution_count": 178,
   "id": "37ff795e-b0fd-4994-8559-f92566dc590b",
   "metadata": {
    "tags": []
   },
   "outputs": [],
   "source": [
    "temp_data = temp_data.dropna()"
   ]
  },
  {
   "cell_type": "code",
   "execution_count": 179,
   "id": "5ff3479e-97a4-4254-90dc-6a9ec8f7968c",
   "metadata": {
    "tags": []
   },
   "outputs": [
    {
     "data": {
      "text/html": [
       "<div>\n",
       "<style scoped>\n",
       "    .dataframe tbody tr th:only-of-type {\n",
       "        vertical-align: middle;\n",
       "    }\n",
       "\n",
       "    .dataframe tbody tr th {\n",
       "        vertical-align: top;\n",
       "    }\n",
       "\n",
       "    .dataframe thead th {\n",
       "        text-align: right;\n",
       "    }\n",
       "</style>\n",
       "<table border=\"1\" class=\"dataframe\">\n",
       "  <thead>\n",
       "    <tr style=\"text-align: right;\">\n",
       "      <th></th>\n",
       "      <th>year</th>\n",
       "      <th>country</th>\n",
       "      <th>avg_temp</th>\n",
       "    </tr>\n",
       "  </thead>\n",
       "  <tbody>\n",
       "    <tr>\n",
       "      <th>0</th>\n",
       "      <td>1849</td>\n",
       "      <td>Côte D'Ivoire</td>\n",
       "      <td>25.58</td>\n",
       "    </tr>\n",
       "    <tr>\n",
       "      <th>1</th>\n",
       "      <td>1850</td>\n",
       "      <td>Côte D'Ivoire</td>\n",
       "      <td>25.52</td>\n",
       "    </tr>\n",
       "    <tr>\n",
       "      <th>2</th>\n",
       "      <td>1851</td>\n",
       "      <td>Côte D'Ivoire</td>\n",
       "      <td>25.67</td>\n",
       "    </tr>\n",
       "    <tr>\n",
       "      <th>7</th>\n",
       "      <td>1856</td>\n",
       "      <td>Côte D'Ivoire</td>\n",
       "      <td>26.28</td>\n",
       "    </tr>\n",
       "    <tr>\n",
       "      <th>8</th>\n",
       "      <td>1857</td>\n",
       "      <td>Côte D'Ivoire</td>\n",
       "      <td>25.17</td>\n",
       "    </tr>\n",
       "    <tr>\n",
       "      <th>...</th>\n",
       "      <td>...</td>\n",
       "      <td>...</td>\n",
       "      <td>...</td>\n",
       "    </tr>\n",
       "    <tr>\n",
       "      <th>71306</th>\n",
       "      <td>2009</td>\n",
       "      <td>Mexico</td>\n",
       "      <td>21.76</td>\n",
       "    </tr>\n",
       "    <tr>\n",
       "      <th>71307</th>\n",
       "      <td>2010</td>\n",
       "      <td>Mexico</td>\n",
       "      <td>20.90</td>\n",
       "    </tr>\n",
       "    <tr>\n",
       "      <th>71308</th>\n",
       "      <td>2011</td>\n",
       "      <td>Mexico</td>\n",
       "      <td>21.55</td>\n",
       "    </tr>\n",
       "    <tr>\n",
       "      <th>71309</th>\n",
       "      <td>2012</td>\n",
       "      <td>Mexico</td>\n",
       "      <td>21.52</td>\n",
       "    </tr>\n",
       "    <tr>\n",
       "      <th>71310</th>\n",
       "      <td>2013</td>\n",
       "      <td>Mexico</td>\n",
       "      <td>22.19</td>\n",
       "    </tr>\n",
       "  </tbody>\n",
       "</table>\n",
       "<p>68764 rows × 3 columns</p>\n",
       "</div>"
      ],
      "text/plain": [
       "       year        country  avg_temp\n",
       "0      1849  Côte D'Ivoire     25.58\n",
       "1      1850  Côte D'Ivoire     25.52\n",
       "2      1851  Côte D'Ivoire     25.67\n",
       "7      1856  Côte D'Ivoire     26.28\n",
       "8      1857  Côte D'Ivoire     25.17\n",
       "...     ...            ...       ...\n",
       "71306  2009         Mexico     21.76\n",
       "71307  2010         Mexico     20.90\n",
       "71308  2011         Mexico     21.55\n",
       "71309  2012         Mexico     21.52\n",
       "71310  2013         Mexico     22.19\n",
       "\n",
       "[68764 rows x 3 columns]"
      ]
     },
     "execution_count": 179,
     "metadata": {},
     "output_type": "execute_result"
    }
   ],
   "source": [
    "temp_data"
   ]
  },
  {
   "cell_type": "code",
   "execution_count": 180,
   "id": "276b7b88-639c-4956-bcbe-b5919bc41b32",
   "metadata": {
    "tags": []
   },
   "outputs": [],
   "source": [
    "temp_data = temp_data.drop_duplicates(['country', 'year'])"
   ]
  },
  {
   "cell_type": "code",
   "execution_count": 181,
   "id": "39f9a4ea-a466-4111-b7de-035d47fa5fbb",
   "metadata": {
    "tags": []
   },
   "outputs": [
    {
     "data": {
      "text/html": [
       "<div>\n",
       "<style scoped>\n",
       "    .dataframe tbody tr th:only-of-type {\n",
       "        vertical-align: middle;\n",
       "    }\n",
       "\n",
       "    .dataframe tbody tr th {\n",
       "        vertical-align: top;\n",
       "    }\n",
       "\n",
       "    .dataframe thead th {\n",
       "        text-align: right;\n",
       "    }\n",
       "</style>\n",
       "<table border=\"1\" class=\"dataframe\">\n",
       "  <thead>\n",
       "    <tr style=\"text-align: right;\">\n",
       "      <th></th>\n",
       "      <th>year</th>\n",
       "      <th>avg_temp</th>\n",
       "    </tr>\n",
       "  </thead>\n",
       "  <tbody>\n",
       "    <tr>\n",
       "      <th>count</th>\n",
       "      <td>27479.000000</td>\n",
       "      <td>27479.000000</td>\n",
       "    </tr>\n",
       "    <tr>\n",
       "      <th>mean</th>\n",
       "      <td>1907.047891</td>\n",
       "      <td>16.241992</td>\n",
       "    </tr>\n",
       "    <tr>\n",
       "      <th>std</th>\n",
       "      <td>67.873286</td>\n",
       "      <td>7.984672</td>\n",
       "    </tr>\n",
       "    <tr>\n",
       "      <th>min</th>\n",
       "      <td>1743.000000</td>\n",
       "      <td>-12.130000</td>\n",
       "    </tr>\n",
       "    <tr>\n",
       "      <th>25%</th>\n",
       "      <td>1860.000000</td>\n",
       "      <td>9.000000</td>\n",
       "    </tr>\n",
       "    <tr>\n",
       "      <th>50%</th>\n",
       "      <td>1913.000000</td>\n",
       "      <td>16.400000</td>\n",
       "    </tr>\n",
       "    <tr>\n",
       "      <th>75%</th>\n",
       "      <td>1963.000000</td>\n",
       "      <td>24.515000</td>\n",
       "    </tr>\n",
       "    <tr>\n",
       "      <th>max</th>\n",
       "      <td>2013.000000</td>\n",
       "      <td>30.420000</td>\n",
       "    </tr>\n",
       "  </tbody>\n",
       "</table>\n",
       "</div>"
      ],
      "text/plain": [
       "               year      avg_temp\n",
       "count  27479.000000  27479.000000\n",
       "mean    1907.047891     16.241992\n",
       "std       67.873286      7.984672\n",
       "min     1743.000000    -12.130000\n",
       "25%     1860.000000      9.000000\n",
       "50%     1913.000000     16.400000\n",
       "75%     1963.000000     24.515000\n",
       "max     2013.000000     30.420000"
      ]
     },
     "execution_count": 181,
     "metadata": {},
     "output_type": "execute_result"
    }
   ],
   "source": [
    "temp_data.describe()"
   ]
  },
  {
   "cell_type": "code",
   "execution_count": 182,
   "id": "86cd3582-c428-43a7-9e7f-78416cb0b46d",
   "metadata": {
    "tags": []
   },
   "outputs": [
    {
     "name": "stdout",
     "output_type": "stream",
     "text": [
      "      year     country  avg_temp\n",
      "4416  1815  Kazakhstan    -12.13\n",
      "       year country  avg_temp\n",
      "46776  2013   Niger     30.42\n"
     ]
    }
   ],
   "source": [
    "print(temp_data[temp_data['avg_temp'] == temp_data['avg_temp'].min()])\n",
    "print(temp_data[temp_data['avg_temp'] == temp_data['avg_temp'].max()])"
   ]
  },
  {
   "cell_type": "markdown",
   "id": "cf1884be-792b-491f-bf01-b7b4b67122b5",
   "metadata": {},
   "source": [
    "Come si può osservare dalla tabella sopra la temperatura minima registrata nel dataset è di -14.3 C in Russia nel 1815 mentre quella massima è di 30.7C in Sudan nel 2010"
   ]
  },
  {
   "cell_type": "code",
   "execution_count": 183,
   "id": "1376de44-eef6-4895-8291-fd0bd1d7a56c",
   "metadata": {
    "tags": []
   },
   "outputs": [],
   "source": [
    "temp_year_list = temp_data['year'].unique()\n",
    "temp_country_list = temp_data['country'].unique()\n",
    "temp_year_list.sort()"
   ]
  },
  {
   "cell_type": "code",
   "execution_count": 184,
   "id": "81026536-eaaf-4ffb-b76c-e1087ae6c6c4",
   "metadata": {
    "tags": []
   },
   "outputs": [],
   "source": [
    "temp_avg_temp_per_year = {}\n",
    "for i in temp_year_list:\n",
    "    temp = temp_data[temp_data['year']==i]['avg_temp'].mean()\n",
    "    temp_avg_temp_per_year[i] = temp"
   ]
  },
  {
   "cell_type": "code",
   "execution_count": 185,
   "id": "b0542d86-5d38-4c50-9b7e-54c07b502e3e",
   "metadata": {
    "tags": []
   },
   "outputs": [
    {
     "data": {
      "image/png": "[encoded data removed]",
      "text/plain": [
       "<Figure size 640x480 with 1 Axes>"
      ]
     },
     "metadata": {},
     "output_type": "display_data"
    }
   ],
   "source": [
    "temp_year, temp_avg = zip(*temp_avg_temp_per_year.items())\n",
    "plt.figure()\n",
    "plt.suptitle('Temperatura media annuale', fontsize=15)\n",
    "plt.plot(temp_year, temp_avg)\n",
    "plt.show()"
   ]
  },
  {
   "cell_type": "markdown",
   "id": "934e0902-833a-420e-b82a-2b0fc9ceab03",
   "metadata": {},
   "source": [
    "### Yield"
   ]
  },
  {
   "cell_type": "code",
   "execution_count": 186,
   "id": "e28e0471-e912-4eb6-a9ad-873d948b99e6",
   "metadata": {
    "tags": []
   },
   "outputs": [
    {
     "data": {
      "text/html": [
       "<div>\n",
       "<style scoped>\n",
       "    .dataframe tbody tr th:only-of-type {\n",
       "        vertical-align: middle;\n",
       "    }\n",
       "\n",
       "    .dataframe tbody tr th {\n",
       "        vertical-align: top;\n",
       "    }\n",
       "\n",
       "    .dataframe thead th {\n",
       "        text-align: right;\n",
       "    }\n",
       "</style>\n",
       "<table border=\"1\" class=\"dataframe\">\n",
       "  <thead>\n",
       "    <tr style=\"text-align: right;\">\n",
       "      <th></th>\n",
       "      <th>Domain Code</th>\n",
       "      <th>Domain</th>\n",
       "      <th>Area Code</th>\n",
       "      <th>Area</th>\n",
       "      <th>Element Code</th>\n",
       "      <th>Element</th>\n",
       "      <th>Item Code</th>\n",
       "      <th>Item</th>\n",
       "      <th>Year Code</th>\n",
       "      <th>Year</th>\n",
       "      <th>Unit</th>\n",
       "      <th>Value</th>\n",
       "    </tr>\n",
       "  </thead>\n",
       "  <tbody>\n",
       "    <tr>\n",
       "      <th>0</th>\n",
       "      <td>QC</td>\n",
       "      <td>Crops</td>\n",
       "      <td>2</td>\n",
       "      <td>Afghanistan</td>\n",
       "      <td>5419</td>\n",
       "      <td>Yield</td>\n",
       "      <td>56</td>\n",
       "      <td>Maize</td>\n",
       "      <td>1961</td>\n",
       "      <td>1961</td>\n",
       "      <td>hg/ha</td>\n",
       "      <td>14000</td>\n",
       "    </tr>\n",
       "    <tr>\n",
       "      <th>1</th>\n",
       "      <td>QC</td>\n",
       "      <td>Crops</td>\n",
       "      <td>2</td>\n",
       "      <td>Afghanistan</td>\n",
       "      <td>5419</td>\n",
       "      <td>Yield</td>\n",
       "      <td>56</td>\n",
       "      <td>Maize</td>\n",
       "      <td>1962</td>\n",
       "      <td>1962</td>\n",
       "      <td>hg/ha</td>\n",
       "      <td>14000</td>\n",
       "    </tr>\n",
       "    <tr>\n",
       "      <th>2</th>\n",
       "      <td>QC</td>\n",
       "      <td>Crops</td>\n",
       "      <td>2</td>\n",
       "      <td>Afghanistan</td>\n",
       "      <td>5419</td>\n",
       "      <td>Yield</td>\n",
       "      <td>56</td>\n",
       "      <td>Maize</td>\n",
       "      <td>1963</td>\n",
       "      <td>1963</td>\n",
       "      <td>hg/ha</td>\n",
       "      <td>14260</td>\n",
       "    </tr>\n",
       "    <tr>\n",
       "      <th>3</th>\n",
       "      <td>QC</td>\n",
       "      <td>Crops</td>\n",
       "      <td>2</td>\n",
       "      <td>Afghanistan</td>\n",
       "      <td>5419</td>\n",
       "      <td>Yield</td>\n",
       "      <td>56</td>\n",
       "      <td>Maize</td>\n",
       "      <td>1964</td>\n",
       "      <td>1964</td>\n",
       "      <td>hg/ha</td>\n",
       "      <td>14257</td>\n",
       "    </tr>\n",
       "    <tr>\n",
       "      <th>4</th>\n",
       "      <td>QC</td>\n",
       "      <td>Crops</td>\n",
       "      <td>2</td>\n",
       "      <td>Afghanistan</td>\n",
       "      <td>5419</td>\n",
       "      <td>Yield</td>\n",
       "      <td>56</td>\n",
       "      <td>Maize</td>\n",
       "      <td>1965</td>\n",
       "      <td>1965</td>\n",
       "      <td>hg/ha</td>\n",
       "      <td>14400</td>\n",
       "    </tr>\n",
       "  </tbody>\n",
       "</table>\n",
       "</div>"
      ],
      "text/plain": [
       "  Domain Code Domain  Area Code         Area  Element Code Element  Item Code  \\\n",
       "0          QC  Crops          2  Afghanistan          5419   Yield         56   \n",
       "1          QC  Crops          2  Afghanistan          5419   Yield         56   \n",
       "2          QC  Crops          2  Afghanistan          5419   Yield         56   \n",
       "3          QC  Crops          2  Afghanistan          5419   Yield         56   \n",
       "4          QC  Crops          2  Afghanistan          5419   Yield         56   \n",
       "\n",
       "    Item  Year Code  Year   Unit  Value  \n",
       "0  Maize       1961  1961  hg/ha  14000  \n",
       "1  Maize       1962  1962  hg/ha  14000  \n",
       "2  Maize       1963  1963  hg/ha  14260  \n",
       "3  Maize       1964  1964  hg/ha  14257  \n",
       "4  Maize       1965  1965  hg/ha  14400  "
      ]
     },
     "execution_count": 186,
     "metadata": {},
     "output_type": "execute_result"
    }
   ],
   "source": [
    "yield_data = pd.read_csv('yield.csv')\n",
    "yield_data.head()"
   ]
  },
  {
   "cell_type": "code",
   "execution_count": 187,
   "id": "55aa9fbd-238b-41e8-a189-79ee35fa223c",
   "metadata": {
    "tags": []
   },
   "outputs": [
    {
     "data": {
      "text/plain": [
       "Domain Code     0\n",
       "Domain          0\n",
       "Area Code       0\n",
       "Area            0\n",
       "Element Code    0\n",
       "Element         0\n",
       "Item Code       0\n",
       "Item            0\n",
       "Year Code       0\n",
       "Year            0\n",
       "Unit            0\n",
       "Value           0\n",
       "dtype: int64"
      ]
     },
     "execution_count": 187,
     "metadata": {},
     "output_type": "execute_result"
    }
   ],
   "source": [
    "yield_data.isna().sum()"
   ]
  },
  {
   "cell_type": "code",
   "execution_count": 188,
   "id": "799c17b0-3e7a-44ba-88a7-9797691f2cdd",
   "metadata": {
    "tags": []
   },
   "outputs": [
    {
     "data": {
      "text/html": [
       "<div>\n",
       "<style scoped>\n",
       "    .dataframe tbody tr th:only-of-type {\n",
       "        vertical-align: middle;\n",
       "    }\n",
       "\n",
       "    .dataframe tbody tr th {\n",
       "        vertical-align: top;\n",
       "    }\n",
       "\n",
       "    .dataframe thead th {\n",
       "        text-align: right;\n",
       "    }\n",
       "</style>\n",
       "<table border=\"1\" class=\"dataframe\">\n",
       "  <thead>\n",
       "    <tr style=\"text-align: right;\">\n",
       "      <th></th>\n",
       "      <th>Area Code</th>\n",
       "      <th>Element Code</th>\n",
       "      <th>Item Code</th>\n",
       "      <th>Year Code</th>\n",
       "      <th>Year</th>\n",
       "      <th>Value</th>\n",
       "    </tr>\n",
       "  </thead>\n",
       "  <tbody>\n",
       "    <tr>\n",
       "      <th>count</th>\n",
       "      <td>56717.000000</td>\n",
       "      <td>56717.0</td>\n",
       "      <td>56717.000000</td>\n",
       "      <td>56717.000000</td>\n",
       "      <td>56717.000000</td>\n",
       "      <td>56717.000000</td>\n",
       "    </tr>\n",
       "    <tr>\n",
       "      <th>mean</th>\n",
       "      <td>125.650422</td>\n",
       "      <td>5419.0</td>\n",
       "      <td>111.611651</td>\n",
       "      <td>1989.669570</td>\n",
       "      <td>1989.669570</td>\n",
       "      <td>62094.660084</td>\n",
       "    </tr>\n",
       "    <tr>\n",
       "      <th>std</th>\n",
       "      <td>75.120195</td>\n",
       "      <td>0.0</td>\n",
       "      <td>101.278435</td>\n",
       "      <td>16.133198</td>\n",
       "      <td>16.133198</td>\n",
       "      <td>67835.932856</td>\n",
       "    </tr>\n",
       "    <tr>\n",
       "      <th>min</th>\n",
       "      <td>1.000000</td>\n",
       "      <td>5419.0</td>\n",
       "      <td>15.000000</td>\n",
       "      <td>1961.000000</td>\n",
       "      <td>1961.000000</td>\n",
       "      <td>0.000000</td>\n",
       "    </tr>\n",
       "    <tr>\n",
       "      <th>25%</th>\n",
       "      <td>58.000000</td>\n",
       "      <td>5419.0</td>\n",
       "      <td>56.000000</td>\n",
       "      <td>1976.000000</td>\n",
       "      <td>1976.000000</td>\n",
       "      <td>15680.000000</td>\n",
       "    </tr>\n",
       "    <tr>\n",
       "      <th>50%</th>\n",
       "      <td>122.000000</td>\n",
       "      <td>5419.0</td>\n",
       "      <td>116.000000</td>\n",
       "      <td>1991.000000</td>\n",
       "      <td>1991.000000</td>\n",
       "      <td>36744.000000</td>\n",
       "    </tr>\n",
       "    <tr>\n",
       "      <th>75%</th>\n",
       "      <td>184.000000</td>\n",
       "      <td>5419.0</td>\n",
       "      <td>125.000000</td>\n",
       "      <td>2004.000000</td>\n",
       "      <td>2004.000000</td>\n",
       "      <td>86213.000000</td>\n",
       "    </tr>\n",
       "    <tr>\n",
       "      <th>max</th>\n",
       "      <td>351.000000</td>\n",
       "      <td>5419.0</td>\n",
       "      <td>489.000000</td>\n",
       "      <td>2016.000000</td>\n",
       "      <td>2016.000000</td>\n",
       "      <td>1000000.000000</td>\n",
       "    </tr>\n",
       "  </tbody>\n",
       "</table>\n",
       "</div>"
      ],
      "text/plain": [
       "          Area Code  Element Code     Item Code     Year Code          Year  \\\n",
       "count  56717.000000       56717.0  56717.000000  56717.000000  56717.000000   \n",
       "mean     125.650422        5419.0    111.611651   1989.669570   1989.669570   \n",
       "std       75.120195           0.0    101.278435     16.133198     16.133198   \n",
       "min        1.000000        5419.0     15.000000   1961.000000   1961.000000   \n",
       "25%       58.000000        5419.0     56.000000   1976.000000   1976.000000   \n",
       "50%      122.000000        5419.0    116.000000   1991.000000   1991.000000   \n",
       "75%      184.000000        5419.0    125.000000   2004.000000   2004.000000   \n",
       "max      351.000000        5419.0    489.000000   2016.000000   2016.000000   \n",
       "\n",
       "                Value  \n",
       "count    56717.000000  \n",
       "mean     62094.660084  \n",
       "std      67835.932856  \n",
       "min          0.000000  \n",
       "25%      15680.000000  \n",
       "50%      36744.000000  \n",
       "75%      86213.000000  \n",
       "max    1000000.000000  "
      ]
     },
     "execution_count": 188,
     "metadata": {},
     "output_type": "execute_result"
    }
   ],
   "source": [
    "yield_data.describe()"
   ]
  },
  {
   "cell_type": "markdown",
   "id": "ef48add4-1bb1-48db-8579-acc2e33db662",
   "metadata": {},
   "source": [
    "Dalla tabella si può osservare che sono presenti stati che non hanno prodotto grano in un determinato anno"
   ]
  },
  {
   "cell_type": "markdown",
   "id": "0058f10c-9619-4ffb-a025-0fcf17898a69",
   "metadata": {},
   "source": [
    "Alcune colonne sono ripetitive o non utili ai fini dello studio quindi decido di eliminarle"
   ]
  },
  {
   "cell_type": "code",
   "execution_count": 189,
   "id": "9ba38e6b-7118-42dc-96f9-4cf0bcc82d49",
   "metadata": {
    "tags": []
   },
   "outputs": [],
   "source": [
    "yield_data = yield_data.drop(columns=['Domain Code', 'Domain', 'Year Code', 'Item Code', 'Element Code', 'Element', 'Unit', 'Area Code'])"
   ]
  },
  {
   "cell_type": "code",
   "execution_count": 190,
   "id": "e5736e67-96a8-4b1d-bad4-9c3c42c8963c",
   "metadata": {
    "tags": []
   },
   "outputs": [
    {
     "data": {
      "text/html": [
       "<div>\n",
       "<style scoped>\n",
       "    .dataframe tbody tr th:only-of-type {\n",
       "        vertical-align: middle;\n",
       "    }\n",
       "\n",
       "    .dataframe tbody tr th {\n",
       "        vertical-align: top;\n",
       "    }\n",
       "\n",
       "    .dataframe thead th {\n",
       "        text-align: right;\n",
       "    }\n",
       "</style>\n",
       "<table border=\"1\" class=\"dataframe\">\n",
       "  <thead>\n",
       "    <tr style=\"text-align: right;\">\n",
       "      <th></th>\n",
       "      <th>Area</th>\n",
       "      <th>Item</th>\n",
       "      <th>Year</th>\n",
       "      <th>Value</th>\n",
       "    </tr>\n",
       "  </thead>\n",
       "  <tbody>\n",
       "    <tr>\n",
       "      <th>168</th>\n",
       "      <td>Afghanistan</td>\n",
       "      <td>Wheat</td>\n",
       "      <td>1961</td>\n",
       "      <td>10220</td>\n",
       "    </tr>\n",
       "    <tr>\n",
       "      <th>169</th>\n",
       "      <td>Afghanistan</td>\n",
       "      <td>Wheat</td>\n",
       "      <td>1962</td>\n",
       "      <td>9735</td>\n",
       "    </tr>\n",
       "    <tr>\n",
       "      <th>170</th>\n",
       "      <td>Afghanistan</td>\n",
       "      <td>Wheat</td>\n",
       "      <td>1963</td>\n",
       "      <td>8317</td>\n",
       "    </tr>\n",
       "    <tr>\n",
       "      <th>171</th>\n",
       "      <td>Afghanistan</td>\n",
       "      <td>Wheat</td>\n",
       "      <td>1964</td>\n",
       "      <td>9510</td>\n",
       "    </tr>\n",
       "    <tr>\n",
       "      <th>172</th>\n",
       "      <td>Afghanistan</td>\n",
       "      <td>Wheat</td>\n",
       "      <td>1965</td>\n",
       "      <td>9723</td>\n",
       "    </tr>\n",
       "    <tr>\n",
       "      <th>...</th>\n",
       "      <td>...</td>\n",
       "      <td>...</td>\n",
       "      <td>...</td>\n",
       "      <td>...</td>\n",
       "    </tr>\n",
       "    <tr>\n",
       "      <th>56712</th>\n",
       "      <td>Zimbabwe</td>\n",
       "      <td>Wheat</td>\n",
       "      <td>2012</td>\n",
       "      <td>24420</td>\n",
       "    </tr>\n",
       "    <tr>\n",
       "      <th>56713</th>\n",
       "      <td>Zimbabwe</td>\n",
       "      <td>Wheat</td>\n",
       "      <td>2013</td>\n",
       "      <td>22888</td>\n",
       "    </tr>\n",
       "    <tr>\n",
       "      <th>56714</th>\n",
       "      <td>Zimbabwe</td>\n",
       "      <td>Wheat</td>\n",
       "      <td>2014</td>\n",
       "      <td>21357</td>\n",
       "    </tr>\n",
       "    <tr>\n",
       "      <th>56715</th>\n",
       "      <td>Zimbabwe</td>\n",
       "      <td>Wheat</td>\n",
       "      <td>2015</td>\n",
       "      <td>19826</td>\n",
       "    </tr>\n",
       "    <tr>\n",
       "      <th>56716</th>\n",
       "      <td>Zimbabwe</td>\n",
       "      <td>Wheat</td>\n",
       "      <td>2016</td>\n",
       "      <td>18294</td>\n",
       "    </tr>\n",
       "  </tbody>\n",
       "</table>\n",
       "<p>6160 rows × 4 columns</p>\n",
       "</div>"
      ],
      "text/plain": [
       "              Area   Item  Year  Value\n",
       "168    Afghanistan  Wheat  1961  10220\n",
       "169    Afghanistan  Wheat  1962   9735\n",
       "170    Afghanistan  Wheat  1963   8317\n",
       "171    Afghanistan  Wheat  1964   9510\n",
       "172    Afghanistan  Wheat  1965   9723\n",
       "...            ...    ...   ...    ...\n",
       "56712     Zimbabwe  Wheat  2012  24420\n",
       "56713     Zimbabwe  Wheat  2013  22888\n",
       "56714     Zimbabwe  Wheat  2014  21357\n",
       "56715     Zimbabwe  Wheat  2015  19826\n",
       "56716     Zimbabwe  Wheat  2016  18294\n",
       "\n",
       "[6160 rows x 4 columns]"
      ]
     },
     "execution_count": 190,
     "metadata": {},
     "output_type": "execute_result"
    }
   ],
   "source": [
    "wheat_yield_data = yield_data[yield_data['Item']=='Wheat']\n",
    "wheat_yield_data"
   ]
  },
  {
   "cell_type": "markdown",
   "id": "71da14d0-b8fa-4a62-a297-03b73c20f545",
   "metadata": {},
   "source": [
    "Visto che tutte le istanze sono relative al grano, possiamo rimuovere la colonna `Item` poiché ridondante."
   ]
  },
  {
   "cell_type": "code",
   "execution_count": 191,
   "id": "f257e01f-a743-4aeb-9564-6e702768ab75",
   "metadata": {
    "tags": []
   },
   "outputs": [
    {
     "name": "stdout",
     "output_type": "stream",
     "text": [
      "<class 'pandas.core.frame.DataFrame'>\n",
      "Index: 6160 entries, 168 to 56716\n",
      "Data columns (total 3 columns):\n",
      " #   Column  Non-Null Count  Dtype \n",
      "---  ------  --------------  ----- \n",
      " 0   Area    6160 non-null   string\n",
      " 1   Year    6160 non-null   int64 \n",
      " 2   Value   6160 non-null   int64 \n",
      "dtypes: int64(2), string(1)\n",
      "memory usage: 192.5 KB\n"
     ]
    }
   ],
   "source": [
    "wheat_yield_data = wheat_yield_data.drop('Item', axis = 1)\n",
    "wheat_yield_data['Area'] = wheat_yield_data['Area'].astype(pd.StringDtype())\n",
    "wheat_yield_data.info()"
   ]
  },
  {
   "cell_type": "markdown",
   "id": "3cb71224-b114-4f54-ad52-bc725bfd994d",
   "metadata": {},
   "source": [
    "Per il nostro studio è necessario sapere solo la produzione di grano e non di tutti i prodotti del dataset, quindi elimino le righe non utili. Inoltre, cambiamo il nome della feature `Value` in `value_in_hg/ha` per indicare l'unità di misura."
   ]
  },
  {
   "cell_type": "code",
   "execution_count": 192,
   "id": "f22675b0-ea2b-4ac8-839a-f35d29d620bf",
   "metadata": {
    "tags": []
   },
   "outputs": [
    {
     "name": "stdout",
     "output_type": "stream",
     "text": [
      "<class 'pandas.core.frame.DataFrame'>\n",
      "Index: 6160 entries, 168 to 56716\n",
      "Data columns (total 3 columns):\n",
      " #   Column          Non-Null Count  Dtype \n",
      "---  ------          --------------  ----- \n",
      " 0   Area            6160 non-null   string\n",
      " 1   Year            6160 non-null   int64 \n",
      " 2   value_in_hg/ha  6160 non-null   int64 \n",
      "dtypes: int64(2), string(1)\n",
      "memory usage: 192.5 KB\n"
     ]
    }
   ],
   "source": [
    "wheat_yield_data.rename(columns = {'Value':'value_in_hg/ha'}, inplace = True)\n",
    "wheat_yield_data.info()"
   ]
  },
  {
   "cell_type": "markdown",
   "id": "b5439f66-0700-49f6-b483-fadeaf1babe4",
   "metadata": {},
   "source": [
    "Creo un grafico che rappresenta i 10 paesi con la produzione media in tutto il dataset maggiore"
   ]
  },
  {
   "cell_type": "code",
   "execution_count": 193,
   "id": "19b7234f-7cc2-4bb1-bf68-2e05587068c4",
   "metadata": {
    "tags": []
   },
   "outputs": [],
   "source": [
    "yield_country_list = wheat_yield_data['Area'].unique()\n",
    "avg_wheat_production_per_country = {}\n",
    "for i in yield_country_list:\n",
    "    avg_wheat_production_per_country[i] = wheat_yield_data[wheat_yield_data['Area']==i]['value_in_hg/ha'].mean()"
   ]
  },
  {
   "cell_type": "code",
   "execution_count": 194,
   "id": "710cd609-c3c6-4362-814a-7bdb8a6d81c8",
   "metadata": {
    "tags": []
   },
   "outputs": [],
   "source": [
    "avg_wheat_production_per_country = sorted(avg_wheat_production_per_country.items(), key=lambda kv: kv[1], reverse=True)\n",
    "avg_wheat_production_per_country = avg_wheat_production_per_country[:10]"
   ]
  },
  {
   "cell_type": "code",
   "execution_count": 195,
   "id": "34755fee-cbb4-4780-b175-7f685c30c8a7",
   "metadata": {},
   "outputs": [
    {
     "data": {
      "image/png": "[encoded data removed]",
      "text/plain": [
       "<Figure size 640x480 with 1 Axes>"
      ]
     },
     "metadata": {},
     "output_type": "display_data"
    }
   ],
   "source": [
    "area, value = zip(*avg_wheat_production_per_country)\n",
    "plt.figure()\n",
    "plt.suptitle('Produzione media annuale dei primi 10 paesi', fontsize=20)\n",
    "sns.barplot(y = area, x = value)\n",
    "plt.xlabel('Ettogrammi per ettare prodotti')\n",
    "plt.ylabel('Paese')\n",
    "plt.show()"
   ]
  },
  {
   "cell_type": "markdown",
   "id": "8d5cd7e9-bbfe-4ef2-9f91-d1b331201b18",
   "metadata": {},
   "source": [
    "Nel seguente grafico rappresentiamo invece la media mondiale di produzione di grano per ogni anno"
   ]
  },
  {
   "cell_type": "code",
   "execution_count": 196,
   "id": "b8150265-2d63-4b78-8cdd-d43043f15263",
   "metadata": {},
   "outputs": [
    {
     "ename": "KeyError",
     "evalue": "'value_in_hg/ha'",
     "output_type": "error",
     "traceback": [
      "\u001b[1;31m---------------------------------------------------------------------------\u001b[0m",
      "\u001b[1;31mKeyError\u001b[0m                                  Traceback (most recent call last)",
      "File \u001b[1;32m~\\AppData\\Local\\Programs\\Python\\Python311\\Lib\\site-packages\\pandas\\core\\indexes\\base.py:3805\u001b[0m, in \u001b[0;36mIndex.get_loc\u001b[1;34m(self, key)\u001b[0m\n\u001b[0;32m   3804\u001b[0m \u001b[38;5;28;01mtry\u001b[39;00m:\n\u001b[1;32m-> 3805\u001b[0m     \u001b[38;5;28;01mreturn\u001b[39;00m \u001b[38;5;28;43mself\u001b[39;49m\u001b[38;5;241;43m.\u001b[39;49m\u001b[43m_engine\u001b[49m\u001b[38;5;241;43m.\u001b[39;49m\u001b[43mget_loc\u001b[49m\u001b[43m(\u001b[49m\u001b[43mcasted_key\u001b[49m\u001b[43m)\u001b[49m\n\u001b[0;32m   3806\u001b[0m \u001b[38;5;28;01mexcept\u001b[39;00m \u001b[38;5;167;01mKeyError\u001b[39;00m \u001b[38;5;28;01mas\u001b[39;00m err:\n",
      "File \u001b[1;32mindex.pyx:167\u001b[0m, in \u001b[0;36mpandas._libs.index.IndexEngine.get_loc\u001b[1;34m()\u001b[0m\n",
      "File \u001b[1;32mindex.pyx:196\u001b[0m, in \u001b[0;36mpandas._libs.index.IndexEngine.get_loc\u001b[1;34m()\u001b[0m\n",
      "File \u001b[1;32mpandas\\\\_libs\\\\hashtable_class_helper.pxi:7081\u001b[0m, in \u001b[0;36mpandas._libs.hashtable.PyObjectHashTable.get_item\u001b[1;34m()\u001b[0m\n",
      "File \u001b[1;32mpandas\\\\_libs\\\\hashtable_class_helper.pxi:7089\u001b[0m, in \u001b[0;36mpandas._libs.hashtable.PyObjectHashTable.get_item\u001b[1;34m()\u001b[0m\n",
      "\u001b[1;31mKeyError\u001b[0m: 'value_in_hg/ha'",
      "\nThe above exception was the direct cause of the following exception:\n",
      "\u001b[1;31mKeyError\u001b[0m                                  Traceback (most recent call last)",
      "Cell \u001b[1;32mIn[196], line 5\u001b[0m\n\u001b[0;32m      3\u001b[0m yield_year_list\u001b[38;5;241m.\u001b[39msort()\n\u001b[0;32m      4\u001b[0m \u001b[38;5;28;01mfor\u001b[39;00m i \u001b[38;5;129;01min\u001b[39;00m yield_year_list:\n\u001b[1;32m----> 5\u001b[0m     avg_production_per_year_dict[i] \u001b[38;5;241m=\u001b[39m \u001b[43myield_data\u001b[49m\u001b[43m[\u001b[49m\u001b[43myield_data\u001b[49m\u001b[43m[\u001b[49m\u001b[38;5;124;43m'\u001b[39;49m\u001b[38;5;124;43mYear\u001b[39;49m\u001b[38;5;124;43m'\u001b[39;49m\u001b[43m]\u001b[49m\u001b[38;5;241;43m==\u001b[39;49m\u001b[43mi\u001b[49m\u001b[43m]\u001b[49m\u001b[43m[\u001b[49m\u001b[38;5;124;43m'\u001b[39;49m\u001b[38;5;124;43mvalue_in_hg/ha\u001b[39;49m\u001b[38;5;124;43m'\u001b[39;49m\u001b[43m]\u001b[49m\u001b[38;5;241m.\u001b[39mmean()\n",
      "File \u001b[1;32m~\\AppData\\Local\\Programs\\Python\\Python311\\Lib\\site-packages\\pandas\\core\\frame.py:4090\u001b[0m, in \u001b[0;36mDataFrame.__getitem__\u001b[1;34m(self, key)\u001b[0m\n\u001b[0;32m   4088\u001b[0m \u001b[38;5;28;01mif\u001b[39;00m \u001b[38;5;28mself\u001b[39m\u001b[38;5;241m.\u001b[39mcolumns\u001b[38;5;241m.\u001b[39mnlevels \u001b[38;5;241m>\u001b[39m \u001b[38;5;241m1\u001b[39m:\n\u001b[0;32m   4089\u001b[0m     \u001b[38;5;28;01mreturn\u001b[39;00m \u001b[38;5;28mself\u001b[39m\u001b[38;5;241m.\u001b[39m_getitem_multilevel(key)\n\u001b[1;32m-> 4090\u001b[0m indexer \u001b[38;5;241m=\u001b[39m \u001b[38;5;28;43mself\u001b[39;49m\u001b[38;5;241;43m.\u001b[39;49m\u001b[43mcolumns\u001b[49m\u001b[38;5;241;43m.\u001b[39;49m\u001b[43mget_loc\u001b[49m\u001b[43m(\u001b[49m\u001b[43mkey\u001b[49m\u001b[43m)\u001b[49m\n\u001b[0;32m   4091\u001b[0m \u001b[38;5;28;01mif\u001b[39;00m is_integer(indexer):\n\u001b[0;32m   4092\u001b[0m     indexer \u001b[38;5;241m=\u001b[39m [indexer]\n",
      "File \u001b[1;32m~\\AppData\\Local\\Programs\\Python\\Python311\\Lib\\site-packages\\pandas\\core\\indexes\\base.py:3812\u001b[0m, in \u001b[0;36mIndex.get_loc\u001b[1;34m(self, key)\u001b[0m\n\u001b[0;32m   3807\u001b[0m     \u001b[38;5;28;01mif\u001b[39;00m \u001b[38;5;28misinstance\u001b[39m(casted_key, \u001b[38;5;28mslice\u001b[39m) \u001b[38;5;129;01mor\u001b[39;00m (\n\u001b[0;32m   3808\u001b[0m         \u001b[38;5;28misinstance\u001b[39m(casted_key, abc\u001b[38;5;241m.\u001b[39mIterable)\n\u001b[0;32m   3809\u001b[0m         \u001b[38;5;129;01mand\u001b[39;00m \u001b[38;5;28many\u001b[39m(\u001b[38;5;28misinstance\u001b[39m(x, \u001b[38;5;28mslice\u001b[39m) \u001b[38;5;28;01mfor\u001b[39;00m x \u001b[38;5;129;01min\u001b[39;00m casted_key)\n\u001b[0;32m   3810\u001b[0m     ):\n\u001b[0;32m   3811\u001b[0m         \u001b[38;5;28;01mraise\u001b[39;00m InvalidIndexError(key)\n\u001b[1;32m-> 3812\u001b[0m     \u001b[38;5;28;01mraise\u001b[39;00m \u001b[38;5;167;01mKeyError\u001b[39;00m(key) \u001b[38;5;28;01mfrom\u001b[39;00m \u001b[38;5;21;01merr\u001b[39;00m\n\u001b[0;32m   3813\u001b[0m \u001b[38;5;28;01mexcept\u001b[39;00m \u001b[38;5;167;01mTypeError\u001b[39;00m:\n\u001b[0;32m   3814\u001b[0m     \u001b[38;5;66;03m# If we have a listlike key, _check_indexing_error will raise\u001b[39;00m\n\u001b[0;32m   3815\u001b[0m     \u001b[38;5;66;03m#  InvalidIndexError. Otherwise we fall through and re-raise\u001b[39;00m\n\u001b[0;32m   3816\u001b[0m     \u001b[38;5;66;03m#  the TypeError.\u001b[39;00m\n\u001b[0;32m   3817\u001b[0m     \u001b[38;5;28mself\u001b[39m\u001b[38;5;241m.\u001b[39m_check_indexing_error(key)\n",
      "\u001b[1;31mKeyError\u001b[0m: 'value_in_hg/ha'"
     ]
    }
   ],
   "source": [
    "avg_production_per_year_dict = {}\n",
    "yield_year_list = yield_data['Year'].unique()\n",
    "yield_year_list.sort()\n",
    "for i in yield_year_list:\n",
    "    avg_production_per_year_dict[i] = yield_data[yield_data['Year']==i]['value_in_hg/ha'].mean()"
   ]
  },
  {
   "cell_type": "code",
   "execution_count": null,
   "id": "784deccd-b8a8-4f70-a553-929fc7d4d0a9",
   "metadata": {
    "tags": []
   },
   "outputs": [],
   "source": [
    "years, prod = zip(*avg_production_per_year_dict.items())\n",
    "plt.figure()\n",
    "plt.suptitle('Produzione mondiale media di grano per anno', fontsize=20)\n",
    "sns.lineplot(y = prod, x = years)\n",
    "plt.show()"
   ]
  },
  {
   "cell_type": "code",
   "execution_count": 214,
   "id": "db7c0e11-2a36-4e79-8cd1-83f59233f10a",
   "metadata": {
    "tags": []
   },
   "outputs": [
    {
     "name": "stderr",
     "output_type": "stream",
     "text": [
      "C:\\Users\\aedua\\AppData\\Local\\Temp\\ipykernel_27336\\1928578816.py:1: SettingWithCopyWarning: \n",
      "A value is trying to be set on a copy of a slice from a DataFrame\n",
      "\n",
      "See the caveats in the documentation: https://pandas.pydata.org/pandas-docs/stable/user_guide/indexing.html#returning-a-view-versus-a-copy\n",
      "  temp_data.rename(columns = {'country':'Area'}, inplace = True)\n",
      "C:\\Users\\aedua\\AppData\\Local\\Temp\\ipykernel_27336\\1928578816.py:2: SettingWithCopyWarning: \n",
      "A value is trying to be set on a copy of a slice from a DataFrame\n",
      "\n",
      "See the caveats in the documentation: https://pandas.pydata.org/pandas-docs/stable/user_guide/indexing.html#returning-a-view-versus-a-copy\n",
      "  temp_data.rename(columns = {'year':'Year'}, inplace = True)\n"
     ]
    }
   ],
   "source": [
    "temp_data.rename(columns = {'country':'Area'}, inplace = True)\n",
    "temp_data.rename(columns = {'year':'Year'}, inplace = True)\n",
    "temp_yield_data = pd.merge(temp_data, wheat_yield_data, on=['Year','Area'])\n",
    "pest_rain_data = pd.merge(rain,pest, on=['Year','Area'])\n",
    "data = pd.merge(temp_yield_data, pest_rain_data,  on=['Year','Area'])\n"
   ]
  },
  {
   "cell_type": "code",
   "execution_count": null,
   "id": "7334055d-e565-4cac-bc83-a82c0b3ef3c9",
   "metadata": {
    "tags": []
   },
   "outputs": [],
   "source": [
    "data.info()"
   ]
  },
  {
   "cell_type": "code",
   "execution_count": null,
   "id": "95b58da4-fa9a-4ba4-9d0b-0ae00fa474a5",
   "metadata": {
    "tags": []
   },
   "outputs": [],
   "source": [
    "data.head()"
   ]
  },
  {
   "cell_type": "code",
   "execution_count": null,
   "id": "ce2f4b7f-e412-488c-b67d-83527ac44143",
   "metadata": {
    "tags": []
   },
   "outputs": [],
   "source": [
    "data.shape"
   ]
  },
  {
   "cell_type": "code",
   "execution_count": null,
   "id": "3053dff4-aab4-4fcb-893b-49c92fd9d080",
   "metadata": {
    "tags": []
   },
   "outputs": [],
   "source": [
    "data['Area'].unique().size"
   ]
  },
  {
   "cell_type": "markdown",
   "id": "ec182334-d5d6-4978-8cc8-a57a064f9233",
   "metadata": {},
   "source": [
    "Vediamo che, dopo il merge, ci restano i dati realtivi soltanto a 82 stati. Questo è dovuto al fatto che alcuni stati non sono presenti in cerit dataset. Di seguito, anche la lista degli stati presenti nel dataset finale ottenuto:"
   ]
  },
  {
   "cell_type": "code",
   "execution_count": null,
   "id": "30d32007-e295-4e87-99b3-4e7a059464dd",
   "metadata": {
    "tags": []
   },
   "outputs": [],
   "source": [
    "data['Area'].unique()"
   ]
  },
  {
   "cell_type": "code",
   "execution_count": null,
   "id": "5f22548a-904d-4841-b78a-8d6b8dfa969b",
   "metadata": {
    "tags": []
   },
   "outputs": [],
   "source": [
    "data['value_in_hg/ha'].describe()"
   ]
  },
  {
   "cell_type": "code",
   "execution_count": null,
   "id": "4f057733-3370-4a3f-80fc-cfe07a1d5405",
   "metadata": {
    "tags": []
   },
   "outputs": [],
   "source": [
    "years = data['Year'].unique()\n",
    "\n",
    "plt.figure()\n",
    "plt.suptitle('Produzione media annuale dei primi 10 paesi', fontsize=15)\n",
    "\n",
    "plt.xlabel('Ettogrammi per ettare prodotti')\n",
    "plt.ylabel('Paese')\n",
    "plt.show()"
   ]
  },
  {
   "cell_type": "markdown",
   "id": "f2bcec54-c937-47c8-83b6-c6505e002de1",
   "metadata": {},
   "source": [
    "Di seguito creiamo una funzione che mostra i dati (yield, pioggia, temperatura, pesticidi) di un paese specifico. L'obiettivo è quello di capire se ci sia qualche correlazione tra le feature."
   ]
  },
  {
   "cell_type": "code",
   "execution_count": null,
   "id": "c0080e4e-fe82-4114-92c2-50350fd40eb5",
   "metadata": {},
   "outputs": [],
   "source": [
    "def show_data_of_country(data, country):\n",
    "    data_of_country = data[data[\"Area\"] == country]\n",
    "    years = data_of_country['Year']\n",
    "    rain = data_of_country['average_rain_fall_mm_per_year']\n",
    "    temp = data_of_country['avg_temp']\n",
    "    _yield = data_of_country['value_in_hg/ha']\n",
    "    pest = data_of_country['pesticides_in_t']\n",
    "    \n",
    "    fig, axes = plt.subplots(nrows=2, ncols=2, figsize=(15, 10))\n",
    "    \n",
    "    # Pioggia\n",
    "    axes[0, 0].plot(years, rain, marker='o', linestyle='-', color='b')\n",
    "    axes[0, 0].set_title(f\"Average Rainfall for {country}\")\n",
    "    axes[0, 0].set_xlabel('Year')\n",
    "    axes[0, 0].set_ylabel('Average Rainfall (mm)')\n",
    "    axes[0, 0].grid(True)\n",
    "\n",
    "    # Temperatura\n",
    "    axes[0, 1].plot(years, temp, marker='o', linestyle='-', color='r')\n",
    "    axes[0, 1].set_title(f\"Average Temperature for {country}\")\n",
    "    axes[0, 1].set_xlabel('Year')\n",
    "    axes[0, 1].set_ylabel('Average Temperature (°C)')\n",
    "    axes[0, 1].grid(True)\n",
    "\n",
    "    #  Yield\n",
    "    axes[1, 0].plot(years, _yield, marker='o', linestyle='-', color='g')\n",
    "    axes[1, 0].set_title(f\"Crop Yield for {country}\")\n",
    "    axes[1, 0].set_xlabel('Year')\n",
    "    axes[1, 0].set_ylabel('Yield (hg/ha)')\n",
    "    axes[1, 0].grid(True)\n",
    "\n",
    "    #  Pesticidi\n",
    "    axes[1, 1].plot(years, pest, marker='o', linestyle='-', color='m')\n",
    "    axes[1, 1].set_title(f\"Pesticides Usage for {country}\")\n",
    "    axes[1, 1].set_xlabel('Year')\n",
    "    axes[1, 1].set_ylabel('Pesticides (t)')\n",
    "    axes[1, 1].grid(True)\n",
    "\n",
    "    plt.tight_layout()\n",
    "    \n",
    "    \n",
    "    plt.show()\n",
    "    "
   ]
  },
  {
   "cell_type": "code",
   "execution_count": null,
   "id": "763f7d84-3ae8-4476-b89f-073e15880862",
   "metadata": {
    "tags": []
   },
   "outputs": [],
   "source": [
    "show_data_of_country(data, 'Belgium')\n",
    "show_data_of_country(data, 'Germany')\n",
    "show_data_of_country(data, 'Zimbabwe')"
   ]
  },
  {
   "cell_type": "markdown",
   "id": "a198bc2b-3a48-4aa6-a8e4-b3cb54764e24",
   "metadata": {
    "tags": []
   },
   "source": [
    "La funzione `show_data_of_country` prende come argomento il nome del paese che vogliamo esaminare e il frame contenente i dati. La funzione genera 4 grafici diversi, ognuno dei quali ha lungo l'asse x la lista degli anni per cui esistono osservazioni. Il primo grafico indica la quantità media di pioggia caduta negli anni, il secondo grafico indica la temperatura media negli anni, il terzo indica lo yield(raccolta) negli anni e l'ultimo indica l'utilizzo dei pesticidi(in tonnellate) negli anni.\n",
    "\n",
    "Di sopra possiamo vedere i grafici relativi a 3 paesi: Germania, Belgio e Zimbabwe. Come possiamo notare, dai grafici risulta difficile trovare qualche correlazione tra le feature."
   ]
  },
  {
   "cell_type": "code",
   "execution_count": null,
   "id": "0ea82dc4-9030-4eda-a85b-37bbf7e2c4ac",
   "metadata": {
    "tags": []
   },
   "outputs": [],
   "source": [
    "def show_global_data(data):\n",
    "    years = data['Year'].unique()\n",
    "    grouped_data = data.groupby('Year')\n",
    "    global_rain = grouped_data['average_rain_fall_mm_per_year'].mean()\n",
    "    global_pest = grouped_data['pesticides_in_t'].mean()\n",
    "    global_temp = grouped_data['avg_temp'].mean()\n",
    "    global_yield = grouped_data['value_in_hg/ha'].mean()\n",
    "    \n",
    "    # Create a figure and axes with 2x2 subplots\n",
    "    fig, axes = plt.subplots(nrows=2, ncols=2, figsize=(15, 10))\n",
    "    \n",
    "    # First subplot: Rainfall\n",
    "    axes[0, 0].plot(years, global_rain, marker='o', linestyle='-', color='b')\n",
    "    axes[0, 0].set_title(\"Global Average Rainfall\")\n",
    "    axes[0, 0].set_xlabel('Year')\n",
    "    axes[0, 0].set_ylabel('Average Rainfall (mm)')\n",
    "    axes[0, 0].grid(True)\n",
    "\n",
    "    # Second subplot: Temperature\n",
    "    axes[0, 1].plot(years, global_temp, marker='o', linestyle='-', color='r')\n",
    "    axes[0, 1].set_title(\"Global Average Temperature\")\n",
    "    axes[0, 1].set_xlabel('Year')\n",
    "    axes[0, 1].set_ylabel('Average Temperature (°C)')\n",
    "    axes[0, 1].grid(True)\n",
    "\n",
    "    # Third subplot: Yield\n",
    "    axes[1, 0].plot(years, global_yield, marker='o', linestyle='-', color='g')\n",
    "    axes[1, 0].set_title(\"Global Crop Yield\")\n",
    "    axes[1, 0].set_xlabel('Year')\n",
    "    axes[1, 0].set_ylabel('Yield (hg/ha)')\n",
    "    axes[1, 0].grid(True)\n",
    "\n",
    "    # Fourth subplot: Pesticides\n",
    "    axes[1, 1].plot(years, global_pest, marker='o', linestyle='-', color='m')\n",
    "    axes[1, 1].set_title(\"Global Pesticides Usage\")\n",
    "    axes[1, 1].set_xlabel('Year')\n",
    "    axes[1, 1].set_ylabel('Pesticides (t)')\n",
    "    axes[1, 1].grid(True)\n",
    "\n",
    "    # Adjust layout to prevent overlap\n",
    "    plt.tight_layout()\n",
    "    \n",
    "    # Show the plot\n",
    "    plt.show()"
   ]
  },
  {
   "cell_type": "code",
   "execution_count": null,
   "id": "b93c92e2-1927-4674-89e2-bafc5ee1486e",
   "metadata": {
    "tags": []
   },
   "outputs": [],
   "source": [
    "show_global_data(data)"
   ]
  },
  {
   "cell_type": "markdown",
   "id": "c052f520-a569-4619-932a-254baba56f06",
   "metadata": {},
   "source": [
    "Abbiamo definito anche un'altra funzione, chiamata `show_global_data`, la quale mostra le stesse informazioni di `show_data_of_country` però a scala globale. Osservando i grafici, in particolare il grafico dello yield e dei pesticidi, possiamo notare che sembra esserci una correlazione tra la produzione del grano e la quantità dei pesticidi utilizzati. Infatti, sembra che lo yield aumenti con l'aumentare dell' utilizzo dei pesticidi. Infatti, l'utilizzo dei pesticidi aumenta lo yield, proteggendo il grano da insetti o malattie che potrebbero danneggiarne la coltivazione."
   ]
  },
  {
   "cell_type": "markdown",
   "id": "a3bc35da-233c-4cc2-8aeb-fa05a6c476df",
   "metadata": {},
   "source": [
    "Vogliamo aggiungere nuove features, considerando ad esempio lo yield medio di un determinato paese negli anni, oppure la quantità media di pesticidi usati in passato. Dunque, aggiungiamo nuove colonne al dataset:"
   ]
  },
  {
   "cell_type": "code",
   "execution_count": 215,
   "id": "a50ec3ea-80c6-4607-a2fc-19e49c8fddd5",
   "metadata": {
    "tags": []
   },
   "outputs": [],
   "source": [
    "def create_new_features(data, year):\n",
    "    new_features_by_country = {}\n",
    "    \n",
    "    # Itera per ogni paese unico\n",
    "    for country in data['Area'].unique():\n",
    "        country_data = data[data['Area'] == country]\n",
    "        country_data_filtered = country_data[country_data['Year'] < year]\n",
    "        \n",
    "        # Inizializza un dizionario per le caratteristiche del paese corrente\n",
    "        new_features = {}\n",
    "        \n",
    "        # Calcola le caratteristiche per ogni colonna tranne 'Area' e 'Year'\n",
    "        for column in country_data_filtered.columns:\n",
    "            if column not in ['Area', 'Year']:\n",
    "                feature_name = f'{column}_'\n",
    "                feature_data = country_data_filtered[column]\n",
    "                new_features[feature_name + 'mean'] = feature_data.mean()\n",
    "                new_features[feature_name + 'std'] = feature_data.std()\n",
    "                new_features[feature_name + 'variation'] = feature_data.max() - feature_data.min()\n",
    "        \n",
    "        # Aggiungi le caratteristiche calcolate per il paese corrente al dizionario principale\n",
    "        new_features_by_country[country] = new_features\n",
    "    \n",
    "    return new_features_by_country"
   ]
  },
  {
   "cell_type": "code",
   "execution_count": 216,
   "id": "8ad1fc9f-5f46-4899-83ca-582e9a569725",
   "metadata": {
    "tags": []
   },
   "outputs": [],
   "source": [
    "features = create_new_features(data,2013)"
   ]
  },
  {
   "cell_type": "code",
   "execution_count": 218,
   "id": "42d2ec87-6b09-4b41-b52b-3245051a0a2f",
   "metadata": {
    "tags": []
   },
   "outputs": [],
   "source": [
    "#features"
   ]
  },
  {
   "cell_type": "markdown",
   "id": "1b4cb6e7-115a-4d07-90f1-ead66c8ff9b6",
   "metadata": {},
   "source": [
    "Abbiamo deciso di aggiungere ulteriori features, derivate da quelle già presenti. In particolare, ci sembra interessante come il modello potrebbe giovare dal conoscere lo yield precedente ad"
   ]
  },
  {
   "cell_type": "code",
   "execution_count": 226,
   "id": "aa4bc270-8c80-4dbc-96c0-617c8d377c74",
   "metadata": {
    "tags": []
   },
   "outputs": [],
   "source": [
    "def add_lagged_features(df, lag=1):\n",
    "    # Lista delle colonne per cui vogliamo aggiungere le feature lag\n",
    "    columns_to_lag = ['value_in_hg/ha']\n",
    "    \n",
    "    # Ciclo attraverso ogni colonna per creare le versioni ritardate (lagged)\n",
    "    for column in columns_to_lag:\n",
    "        for i in range(1, lag + 1):\n",
    "            df[f'{column}_lag_{i}'] = df.groupby('Area')[column].shift(i)\n",
    "    \n",
    "    return df\n",
    "\n",
    "# Supponiamo di avere un dataframe chiamato \"data\"\n",
    "# Esegui la funzione per aggiungere le feature lag\n",
    "data_with_lags = add_lagged_features(data, lag=5)"
   ]
  },
  {
   "cell_type": "code",
   "execution_count": 227,
   "id": "c41671e1-3566-4083-ac88-d00f9daf11dd",
   "metadata": {
    "tags": []
   },
   "outputs": [
    {
     "data": {
      "text/html": [
       "<div>\n",
       "<style scoped>\n",
       "    .dataframe tbody tr th:only-of-type {\n",
       "        vertical-align: middle;\n",
       "    }\n",
       "\n",
       "    .dataframe tbody tr th {\n",
       "        vertical-align: top;\n",
       "    }\n",
       "\n",
       "    .dataframe thead th {\n",
       "        text-align: right;\n",
       "    }\n",
       "</style>\n",
       "<table border=\"1\" class=\"dataframe\">\n",
       "  <thead>\n",
       "    <tr style=\"text-align: right;\">\n",
       "      <th></th>\n",
       "      <th>Year</th>\n",
       "      <th>Area</th>\n",
       "      <th>avg_temp</th>\n",
       "      <th>value_in_hg/ha</th>\n",
       "      <th>average_rain_fall_mm_per_year</th>\n",
       "      <th>pesticides_in_t</th>\n",
       "      <th>value_in_hg/ha_lag_1</th>\n",
       "      <th>value_in_hg/ha_lag_2</th>\n",
       "      <th>value_in_hg/ha_lag_3</th>\n",
       "      <th>value_in_hg/ha_lag_4</th>\n",
       "      <th>value_in_hg/ha_lag_5</th>\n",
       "    </tr>\n",
       "  </thead>\n",
       "  <tbody>\n",
       "    <tr>\n",
       "      <th>0</th>\n",
       "      <td>1990</td>\n",
       "      <td>Turkey</td>\n",
       "      <td>19.22</td>\n",
       "      <td>21227</td>\n",
       "      <td>593.0</td>\n",
       "      <td>29918.0</td>\n",
       "      <td>NaN</td>\n",
       "      <td>NaN</td>\n",
       "      <td>NaN</td>\n",
       "      <td>NaN</td>\n",
       "      <td>NaN</td>\n",
       "    </tr>\n",
       "    <tr>\n",
       "      <th>1</th>\n",
       "      <td>1991</td>\n",
       "      <td>Turkey</td>\n",
       "      <td>18.94</td>\n",
       "      <td>21288</td>\n",
       "      <td>593.0</td>\n",
       "      <td>24343.0</td>\n",
       "      <td>21227.0</td>\n",
       "      <td>NaN</td>\n",
       "      <td>NaN</td>\n",
       "      <td>NaN</td>\n",
       "      <td>NaN</td>\n",
       "    </tr>\n",
       "    <tr>\n",
       "      <th>2</th>\n",
       "      <td>1992</td>\n",
       "      <td>Turkey</td>\n",
       "      <td>17.68</td>\n",
       "      <td>20405</td>\n",
       "      <td>593.0</td>\n",
       "      <td>27110.0</td>\n",
       "      <td>21288.0</td>\n",
       "      <td>21227.0</td>\n",
       "      <td>NaN</td>\n",
       "      <td>NaN</td>\n",
       "      <td>NaN</td>\n",
       "    </tr>\n",
       "    <tr>\n",
       "      <th>3</th>\n",
       "      <td>1993</td>\n",
       "      <td>Turkey</td>\n",
       "      <td>18.82</td>\n",
       "      <td>21642</td>\n",
       "      <td>593.0</td>\n",
       "      <td>28042.0</td>\n",
       "      <td>20405.0</td>\n",
       "      <td>21288.0</td>\n",
       "      <td>21227.0</td>\n",
       "      <td>NaN</td>\n",
       "      <td>NaN</td>\n",
       "    </tr>\n",
       "    <tr>\n",
       "      <th>4</th>\n",
       "      <td>1994</td>\n",
       "      <td>Turkey</td>\n",
       "      <td>19.76</td>\n",
       "      <td>17975</td>\n",
       "      <td>593.0</td>\n",
       "      <td>24219.0</td>\n",
       "      <td>21642.0</td>\n",
       "      <td>20405.0</td>\n",
       "      <td>21288.0</td>\n",
       "      <td>21227.0</td>\n",
       "      <td>NaN</td>\n",
       "    </tr>\n",
       "  </tbody>\n",
       "</table>\n",
       "</div>"
      ],
      "text/plain": [
       "   Year    Area  avg_temp  value_in_hg/ha  average_rain_fall_mm_per_year  \\\n",
       "0  1990  Turkey     19.22           21227                          593.0   \n",
       "1  1991  Turkey     18.94           21288                          593.0   \n",
       "2  1992  Turkey     17.68           20405                          593.0   \n",
       "3  1993  Turkey     18.82           21642                          593.0   \n",
       "4  1994  Turkey     19.76           17975                          593.0   \n",
       "\n",
       "   pesticides_in_t  value_in_hg/ha_lag_1  value_in_hg/ha_lag_2  \\\n",
       "0          29918.0                   NaN                   NaN   \n",
       "1          24343.0               21227.0                   NaN   \n",
       "2          27110.0               21288.0               21227.0   \n",
       "3          28042.0               20405.0               21288.0   \n",
       "4          24219.0               21642.0               20405.0   \n",
       "\n",
       "   value_in_hg/ha_lag_3  value_in_hg/ha_lag_4  value_in_hg/ha_lag_5  \n",
       "0                   NaN                   NaN                   NaN  \n",
       "1                   NaN                   NaN                   NaN  \n",
       "2                   NaN                   NaN                   NaN  \n",
       "3               21227.0                   NaN                   NaN  \n",
       "4               21288.0               21227.0                   NaN  "
      ]
     },
     "execution_count": 227,
     "metadata": {},
     "output_type": "execute_result"
    }
   ],
   "source": [
    "data_with_lags.head()"
   ]
  },
  {
   "cell_type": "code",
   "execution_count": 228,
   "id": "acd570d8-dede-4cf6-9393-4cc032704736",
   "metadata": {
    "tags": []
   },
   "outputs": [
    {
     "data": {
      "text/plain": [
       "(1810, 11)"
      ]
     },
     "execution_count": 228,
     "metadata": {},
     "output_type": "execute_result"
    }
   ],
   "source": [
    "data_with_lags.shape"
   ]
  },
  {
   "cell_type": "code",
   "execution_count": 232,
   "id": "90d8f2d5-7a5f-48c1-ba2d-0b8499fd4d38",
   "metadata": {
    "tags": []
   },
   "outputs": [
    {
     "data": {
      "text/plain": [
       "(1403, 11)"
      ]
     },
     "execution_count": 232,
     "metadata": {},
     "output_type": "execute_result"
    }
   ],
   "source": [
    "data_with_lags = data_with_lags.dropna()\n",
    "data_with_lags.shape"
   ]
  },
  {
   "cell_type": "code",
   "execution_count": 233,
   "id": "a59433e5-78dc-4196-ad0a-36316eda2056",
   "metadata": {
    "tags": []
   },
   "outputs": [
    {
     "data": {
      "text/html": [
       "<div>\n",
       "<style scoped>\n",
       "    .dataframe tbody tr th:only-of-type {\n",
       "        vertical-align: middle;\n",
       "    }\n",
       "\n",
       "    .dataframe tbody tr th {\n",
       "        vertical-align: top;\n",
       "    }\n",
       "\n",
       "    .dataframe thead th {\n",
       "        text-align: right;\n",
       "    }\n",
       "</style>\n",
       "<table border=\"1\" class=\"dataframe\">\n",
       "  <thead>\n",
       "    <tr style=\"text-align: right;\">\n",
       "      <th></th>\n",
       "      <th>Year</th>\n",
       "      <th>Area</th>\n",
       "      <th>avg_temp</th>\n",
       "      <th>value_in_hg/ha</th>\n",
       "      <th>average_rain_fall_mm_per_year</th>\n",
       "      <th>pesticides_in_t</th>\n",
       "      <th>value_in_hg/ha_lag_1</th>\n",
       "      <th>value_in_hg/ha_lag_2</th>\n",
       "      <th>value_in_hg/ha_lag_3</th>\n",
       "      <th>value_in_hg/ha_lag_4</th>\n",
       "      <th>value_in_hg/ha_lag_5</th>\n",
       "    </tr>\n",
       "  </thead>\n",
       "  <tbody>\n",
       "    <tr>\n",
       "      <th>5</th>\n",
       "      <td>1995</td>\n",
       "      <td>Turkey</td>\n",
       "      <td>19.15</td>\n",
       "      <td>19315</td>\n",
       "      <td>593.0</td>\n",
       "      <td>27328.0</td>\n",
       "      <td>17975.0</td>\n",
       "      <td>21642.0</td>\n",
       "      <td>20405.0</td>\n",
       "      <td>21288.0</td>\n",
       "      <td>21227.0</td>\n",
       "    </tr>\n",
       "    <tr>\n",
       "      <th>6</th>\n",
       "      <td>1996</td>\n",
       "      <td>Turkey</td>\n",
       "      <td>19.47</td>\n",
       "      <td>19852</td>\n",
       "      <td>593.0</td>\n",
       "      <td>30286.0</td>\n",
       "      <td>19315.0</td>\n",
       "      <td>17975.0</td>\n",
       "      <td>21642.0</td>\n",
       "      <td>20405.0</td>\n",
       "      <td>21288.0</td>\n",
       "    </tr>\n",
       "    <tr>\n",
       "      <th>7</th>\n",
       "      <td>1997</td>\n",
       "      <td>Turkey</td>\n",
       "      <td>18.65</td>\n",
       "      <td>20174</td>\n",
       "      <td>593.0</td>\n",
       "      <td>34431.0</td>\n",
       "      <td>19852.0</td>\n",
       "      <td>19315.0</td>\n",
       "      <td>17975.0</td>\n",
       "      <td>21642.0</td>\n",
       "      <td>20405.0</td>\n",
       "    </tr>\n",
       "    <tr>\n",
       "      <th>8</th>\n",
       "      <td>1998</td>\n",
       "      <td>Turkey</td>\n",
       "      <td>19.92</td>\n",
       "      <td>22564</td>\n",
       "      <td>593.0</td>\n",
       "      <td>30162.0</td>\n",
       "      <td>20174.0</td>\n",
       "      <td>19852.0</td>\n",
       "      <td>19315.0</td>\n",
       "      <td>17975.0</td>\n",
       "      <td>21642.0</td>\n",
       "    </tr>\n",
       "    <tr>\n",
       "      <th>9</th>\n",
       "      <td>1999</td>\n",
       "      <td>Turkey</td>\n",
       "      <td>20.02</td>\n",
       "      <td>19409</td>\n",
       "      <td>593.0</td>\n",
       "      <td>33089.0</td>\n",
       "      <td>22564.0</td>\n",
       "      <td>20174.0</td>\n",
       "      <td>19852.0</td>\n",
       "      <td>19315.0</td>\n",
       "      <td>17975.0</td>\n",
       "    </tr>\n",
       "  </tbody>\n",
       "</table>\n",
       "</div>"
      ],
      "text/plain": [
       "   Year    Area  avg_temp  value_in_hg/ha  average_rain_fall_mm_per_year  \\\n",
       "5  1995  Turkey     19.15           19315                          593.0   \n",
       "6  1996  Turkey     19.47           19852                          593.0   \n",
       "7  1997  Turkey     18.65           20174                          593.0   \n",
       "8  1998  Turkey     19.92           22564                          593.0   \n",
       "9  1999  Turkey     20.02           19409                          593.0   \n",
       "\n",
       "   pesticides_in_t  value_in_hg/ha_lag_1  value_in_hg/ha_lag_2  \\\n",
       "5          27328.0               17975.0               21642.0   \n",
       "6          30286.0               19315.0               17975.0   \n",
       "7          34431.0               19852.0               19315.0   \n",
       "8          30162.0               20174.0               19852.0   \n",
       "9          33089.0               22564.0               20174.0   \n",
       "\n",
       "   value_in_hg/ha_lag_3  value_in_hg/ha_lag_4  value_in_hg/ha_lag_5  \n",
       "5               20405.0               21288.0               21227.0  \n",
       "6               21642.0               20405.0               21288.0  \n",
       "7               17975.0               21642.0               20405.0  \n",
       "8               19315.0               17975.0               21642.0  \n",
       "9               19852.0               19315.0               17975.0  "
      ]
     },
     "execution_count": 233,
     "metadata": {},
     "output_type": "execute_result"
    }
   ],
   "source": [
    "data_with_lags.head()"
   ]
  },
  {
   "cell_type": "code",
   "execution_count": 267,
   "id": "f3e82ce7-94a9-4681-94a9-4b6fffebca24",
   "metadata": {
    "tags": []
   },
   "outputs": [
    {
     "data": {
      "text/plain": [
       "'\\n# Supponiamo di avere un dataframe \"data_with_lags\"\\n# Definisci le colonne di input e l\\'etichetta (target)\\ninput_columns = [col for col in data_with_lags.columns if col not in [\\'Year\\', \\'value_in_hg/ha\\']]\\ntarget_column = \\'value_in_hg/ha\\'\\ninput_columns\\n# Seleziona le features e il target\\nX = data_with_lags[input_columns]\\ny = data_with_lags[target_column]\\nX\\n'"
      ]
     },
     "execution_count": 267,
     "metadata": {},
     "output_type": "execute_result"
    }
   ],
   "source": [
    "import pandas as pd\n",
    "import sklearn\n",
    "from sklearn.linear_model import LinearRegression\n",
    "from sklearn.preprocessing import OneHotEncoder\n",
    "\n",
    "\"\"\"\n",
    "# Supponiamo di avere un dataframe \"data_with_lags\"\n",
    "# Definisci le colonne di input e l'etichetta (target)\n",
    "input_columns = [col for col in data_with_lags.columns if col not in ['Year', 'value_in_hg/ha']]\n",
    "target_column = 'value_in_hg/ha'\n",
    "input_columns\n",
    "# Seleziona le features e il target\n",
    "X = data_with_lags[input_columns]\n",
    "y = data_with_lags[target_column]\n",
    "X\n",
    "\"\"\""
   ]
  },
  {
   "cell_type": "code",
   "execution_count": 293,
   "id": "d4f9630c-103d-4c11-9b9e-40cfa9346d32",
   "metadata": {
    "tags": []
   },
   "outputs": [
    {
     "data": {
      "text/html": [
       "<div>\n",
       "<style scoped>\n",
       "    .dataframe tbody tr th:only-of-type {\n",
       "        vertical-align: middle;\n",
       "    }\n",
       "\n",
       "    .dataframe tbody tr th {\n",
       "        vertical-align: top;\n",
       "    }\n",
       "\n",
       "    .dataframe thead th {\n",
       "        text-align: right;\n",
       "    }\n",
       "</style>\n",
       "<table border=\"1\" class=\"dataframe\">\n",
       "  <thead>\n",
       "    <tr style=\"text-align: right;\">\n",
       "      <th></th>\n",
       "      <th>avg_temp</th>\n",
       "      <th>average_rain_fall_mm_per_year</th>\n",
       "      <th>pesticides_in_t</th>\n",
       "      <th>value_in_hg/ha_lag_1</th>\n",
       "      <th>value_in_hg/ha_lag_2</th>\n",
       "      <th>value_in_hg/ha_lag_3</th>\n",
       "      <th>value_in_hg/ha_lag_4</th>\n",
       "      <th>value_in_hg/ha_lag_5</th>\n",
       "      <th>Country_Albania</th>\n",
       "      <th>Country_Algeria</th>\n",
       "      <th>...</th>\n",
       "      <th>Country_Tajikistan</th>\n",
       "      <th>Country_Thailand</th>\n",
       "      <th>Country_Tunisia</th>\n",
       "      <th>Country_Turkey</th>\n",
       "      <th>Country_Uganda</th>\n",
       "      <th>Country_Ukraine</th>\n",
       "      <th>Country_United Kingdom</th>\n",
       "      <th>Country_Uruguay</th>\n",
       "      <th>Country_Zambia</th>\n",
       "      <th>Country_Zimbabwe</th>\n",
       "    </tr>\n",
       "  </thead>\n",
       "  <tbody>\n",
       "    <tr>\n",
       "      <th>0</th>\n",
       "      <td>19.22</td>\n",
       "      <td>593.0</td>\n",
       "      <td>29918.0</td>\n",
       "      <td>NaN</td>\n",
       "      <td>NaN</td>\n",
       "      <td>NaN</td>\n",
       "      <td>NaN</td>\n",
       "      <td>NaN</td>\n",
       "      <td>False</td>\n",
       "      <td>False</td>\n",
       "      <td>...</td>\n",
       "      <td>False</td>\n",
       "      <td>False</td>\n",
       "      <td>False</td>\n",
       "      <td>True</td>\n",
       "      <td>False</td>\n",
       "      <td>False</td>\n",
       "      <td>False</td>\n",
       "      <td>False</td>\n",
       "      <td>False</td>\n",
       "      <td>False</td>\n",
       "    </tr>\n",
       "    <tr>\n",
       "      <th>1</th>\n",
       "      <td>18.94</td>\n",
       "      <td>593.0</td>\n",
       "      <td>24343.0</td>\n",
       "      <td>21227.0</td>\n",
       "      <td>NaN</td>\n",
       "      <td>NaN</td>\n",
       "      <td>NaN</td>\n",
       "      <td>NaN</td>\n",
       "      <td>False</td>\n",
       "      <td>False</td>\n",
       "      <td>...</td>\n",
       "      <td>False</td>\n",
       "      <td>False</td>\n",
       "      <td>False</td>\n",
       "      <td>True</td>\n",
       "      <td>False</td>\n",
       "      <td>False</td>\n",
       "      <td>False</td>\n",
       "      <td>False</td>\n",
       "      <td>False</td>\n",
       "      <td>False</td>\n",
       "    </tr>\n",
       "    <tr>\n",
       "      <th>2</th>\n",
       "      <td>17.68</td>\n",
       "      <td>593.0</td>\n",
       "      <td>27110.0</td>\n",
       "      <td>21288.0</td>\n",
       "      <td>21227.0</td>\n",
       "      <td>NaN</td>\n",
       "      <td>NaN</td>\n",
       "      <td>NaN</td>\n",
       "      <td>False</td>\n",
       "      <td>False</td>\n",
       "      <td>...</td>\n",
       "      <td>False</td>\n",
       "      <td>False</td>\n",
       "      <td>False</td>\n",
       "      <td>True</td>\n",
       "      <td>False</td>\n",
       "      <td>False</td>\n",
       "      <td>False</td>\n",
       "      <td>False</td>\n",
       "      <td>False</td>\n",
       "      <td>False</td>\n",
       "    </tr>\n",
       "    <tr>\n",
       "      <th>3</th>\n",
       "      <td>18.82</td>\n",
       "      <td>593.0</td>\n",
       "      <td>28042.0</td>\n",
       "      <td>20405.0</td>\n",
       "      <td>21288.0</td>\n",
       "      <td>21227.0</td>\n",
       "      <td>NaN</td>\n",
       "      <td>NaN</td>\n",
       "      <td>False</td>\n",
       "      <td>False</td>\n",
       "      <td>...</td>\n",
       "      <td>False</td>\n",
       "      <td>False</td>\n",
       "      <td>False</td>\n",
       "      <td>True</td>\n",
       "      <td>False</td>\n",
       "      <td>False</td>\n",
       "      <td>False</td>\n",
       "      <td>False</td>\n",
       "      <td>False</td>\n",
       "      <td>False</td>\n",
       "    </tr>\n",
       "    <tr>\n",
       "      <th>4</th>\n",
       "      <td>19.76</td>\n",
       "      <td>593.0</td>\n",
       "      <td>24219.0</td>\n",
       "      <td>21642.0</td>\n",
       "      <td>20405.0</td>\n",
       "      <td>21288.0</td>\n",
       "      <td>21227.0</td>\n",
       "      <td>NaN</td>\n",
       "      <td>False</td>\n",
       "      <td>False</td>\n",
       "      <td>...</td>\n",
       "      <td>False</td>\n",
       "      <td>False</td>\n",
       "      <td>False</td>\n",
       "      <td>True</td>\n",
       "      <td>False</td>\n",
       "      <td>False</td>\n",
       "      <td>False</td>\n",
       "      <td>False</td>\n",
       "      <td>False</td>\n",
       "      <td>False</td>\n",
       "    </tr>\n",
       "  </tbody>\n",
       "</table>\n",
       "<p>5 rows × 90 columns</p>\n",
       "</div>"
      ],
      "text/plain": [
       "   avg_temp  average_rain_fall_mm_per_year  pesticides_in_t  \\\n",
       "0     19.22                          593.0          29918.0   \n",
       "1     18.94                          593.0          24343.0   \n",
       "2     17.68                          593.0          27110.0   \n",
       "3     18.82                          593.0          28042.0   \n",
       "4     19.76                          593.0          24219.0   \n",
       "\n",
       "   value_in_hg/ha_lag_1  value_in_hg/ha_lag_2  value_in_hg/ha_lag_3  \\\n",
       "0                   NaN                   NaN                   NaN   \n",
       "1               21227.0                   NaN                   NaN   \n",
       "2               21288.0               21227.0                   NaN   \n",
       "3               20405.0               21288.0               21227.0   \n",
       "4               21642.0               20405.0               21288.0   \n",
       "\n",
       "   value_in_hg/ha_lag_4  value_in_hg/ha_lag_5  Country_Albania  \\\n",
       "0                   NaN                   NaN            False   \n",
       "1                   NaN                   NaN            False   \n",
       "2                   NaN                   NaN            False   \n",
       "3                   NaN                   NaN            False   \n",
       "4               21227.0                   NaN            False   \n",
       "\n",
       "   Country_Algeria  ...  Country_Tajikistan  Country_Thailand  \\\n",
       "0            False  ...               False             False   \n",
       "1            False  ...               False             False   \n",
       "2            False  ...               False             False   \n",
       "3            False  ...               False             False   \n",
       "4            False  ...               False             False   \n",
       "\n",
       "   Country_Tunisia  Country_Turkey  Country_Uganda  Country_Ukraine  \\\n",
       "0            False            True           False            False   \n",
       "1            False            True           False            False   \n",
       "2            False            True           False            False   \n",
       "3            False            True           False            False   \n",
       "4            False            True           False            False   \n",
       "\n",
       "   Country_United Kingdom  Country_Uruguay  Country_Zambia  Country_Zimbabwe  \n",
       "0                   False            False           False             False  \n",
       "1                   False            False           False             False  \n",
       "2                   False            False           False             False  \n",
       "3                   False            False           False             False  \n",
       "4                   False            False           False             False  \n",
       "\n",
       "[5 rows x 90 columns]"
      ]
     },
     "execution_count": 293,
     "metadata": {},
     "output_type": "execute_result"
    }
   ],
   "source": [
    "data_hot = pd.get_dummies(data, columns = ['Area'], prefix = ['Country'])\n",
    "X = data_hot.loc[:,data_hot.columns != 'value_in_hg/ha']\n",
    "y = data_hot['value_in_hg/ha']\n",
    "X = X.drop(['Year'], axis = 1)\n",
    "X.head()"
   ]
  },
  {
   "cell_type": "code",
   "execution_count": 280,
   "id": "65bf789a-5e99-4ecb-a403-616ca5be098a",
   "metadata": {
    "tags": []
   },
   "outputs": [
    {
     "data": {
      "text/plain": [
       "5       19315\n",
       "6       19852\n",
       "7       20174\n",
       "8       22564\n",
       "9       19409\n",
       "        ...  \n",
       "1805    51896\n",
       "1806    40415\n",
       "1807    52237\n",
       "1808    53473\n",
       "1809    48846\n",
       "Name: value_in_hg/ha, Length: 1403, dtype: int64"
      ]
     },
     "execution_count": 280,
     "metadata": {},
     "output_type": "execute_result"
    }
   ],
   "source": [
    "y"
   ]
  },
  {
   "cell_type": "code",
   "execution_count": 294,
   "id": "41a7332a-9127-4783-8944-60bd82bf8c17",
   "metadata": {
    "tags": []
   },
   "outputs": [
    {
     "data": {
      "text/plain": [
       "array([[0.61538462, 0.16995923, 0.08134724, ..., 0.        , 0.        ,\n",
       "        0.        ],\n",
       "       [0.60576923, 0.16995923, 0.06618862, ..., 0.        , 0.        ,\n",
       "        0.        ],\n",
       "       [0.5625    , 0.16995923, 0.07371219, ..., 0.        , 0.        ,\n",
       "        0.        ],\n",
       "       ...,\n",
       "       [0.33379121, 0.33301976, 0.00445497, ..., 0.        , 0.        ,\n",
       "        0.        ],\n",
       "       [0.33722527, 0.33301976, 0.00472342, ..., 0.        , 0.        ,\n",
       "        0.        ],\n",
       "       [0.35302198, 0.33301976, 0.0049919 , ..., 0.        , 0.        ,\n",
       "        0.        ]])"
      ]
     },
     "execution_count": 294,
     "metadata": {},
     "output_type": "execute_result"
    }
   ],
   "source": [
    "from sklearn.preprocessing import MinMaxScaler\n",
    "scaler = MinMaxScaler()\n",
    "X = scaler.fit_transform(X)\n",
    "X"
   ]
  },
  {
   "cell_type": "code",
   "execution_count": 295,
   "id": "d504a6bc-4d6d-4102-b6d4-78de2df17456",
   "metadata": {
    "tags": []
   },
   "outputs": [],
   "source": [
    "from sklearn.model_selection import train_test_split\n",
    "train_data,test_data, train_labels, test_labels = train_test_split(X, y, test_size = 0.2, random_state = 42)"
   ]
  },
  {
   "cell_type": "code",
   "execution_count": 250,
   "id": "765ad896-a13c-4706-9ffa-649b4601b98a",
   "metadata": {
    "tags": []
   },
   "outputs": [
    {
     "data": {
      "text/plain": [
       "array([-2.89807218e+01, -1.57355692e-01,  3.31151319e-03,  3.11664341e-01,\n",
       "        2.06837247e-01,  2.19451895e-01,  1.61592648e-01,  9.84064674e-02])"
      ]
     },
     "execution_count": 250,
     "metadata": {},
     "output_type": "execute_result"
    }
   ],
   "source": [
    "model.coef_"
   ]
  },
  {
   "cell_type": "code",
   "execution_count": 296,
   "id": "ef5288a5-0f8e-4832-a6c0-018a24d22aec",
   "metadata": {
    "tags": []
   },
   "outputs": [
    {
     "ename": "ValueError",
     "evalue": "Input X contains NaN.\nLinearRegression does not accept missing values encoded as NaN natively. For supervised learning, you might want to consider sklearn.ensemble.HistGradientBoostingClassifier and Regressor which accept missing values encoded as NaNs natively. Alternatively, it is possible to preprocess the data, for instance by using an imputer transformer in a pipeline or drop samples with missing values. See https://scikit-learn.org/stable/modules/impute.html You can find a list of all estimators that handle NaN values at the following page: https://scikit-learn.org/stable/modules/impute.html#estimators-that-handle-nan-values",
     "output_type": "error",
     "traceback": [
      "\u001b[1;31m---------------------------------------------------------------------------\u001b[0m",
      "\u001b[1;31mValueError\u001b[0m                                Traceback (most recent call last)",
      "Cell \u001b[1;32mIn[296], line 2\u001b[0m\n\u001b[0;32m      1\u001b[0m model \u001b[38;5;241m=\u001b[39m LinearRegression()\n\u001b[1;32m----> 2\u001b[0m \u001b[43mmodel\u001b[49m\u001b[38;5;241;43m.\u001b[39;49m\u001b[43mfit\u001b[49m\u001b[43m(\u001b[49m\u001b[43mtrain_data\u001b[49m\u001b[43m,\u001b[49m\u001b[43m \u001b[49m\u001b[43mtrain_labels\u001b[49m\u001b[43m)\u001b[49m\n",
      "File \u001b[1;32m~\\AppData\\Local\\Programs\\Python\\Python311\\Lib\\site-packages\\sklearn\\base.py:1474\u001b[0m, in \u001b[0;36m_fit_context.<locals>.decorator.<locals>.wrapper\u001b[1;34m(estimator, *args, **kwargs)\u001b[0m\n\u001b[0;32m   1467\u001b[0m     estimator\u001b[38;5;241m.\u001b[39m_validate_params()\n\u001b[0;32m   1469\u001b[0m \u001b[38;5;28;01mwith\u001b[39;00m config_context(\n\u001b[0;32m   1470\u001b[0m     skip_parameter_validation\u001b[38;5;241m=\u001b[39m(\n\u001b[0;32m   1471\u001b[0m         prefer_skip_nested_validation \u001b[38;5;129;01mor\u001b[39;00m global_skip_validation\n\u001b[0;32m   1472\u001b[0m     )\n\u001b[0;32m   1473\u001b[0m ):\n\u001b[1;32m-> 1474\u001b[0m     \u001b[38;5;28;01mreturn\u001b[39;00m \u001b[43mfit_method\u001b[49m\u001b[43m(\u001b[49m\u001b[43mestimator\u001b[49m\u001b[43m,\u001b[49m\u001b[43m \u001b[49m\u001b[38;5;241;43m*\u001b[39;49m\u001b[43margs\u001b[49m\u001b[43m,\u001b[49m\u001b[43m \u001b[49m\u001b[38;5;241;43m*\u001b[39;49m\u001b[38;5;241;43m*\u001b[39;49m\u001b[43mkwargs\u001b[49m\u001b[43m)\u001b[49m\n",
      "File \u001b[1;32m~\\AppData\\Local\\Programs\\Python\\Python311\\Lib\\site-packages\\sklearn\\linear_model\\_base.py:578\u001b[0m, in \u001b[0;36mLinearRegression.fit\u001b[1;34m(self, X, y, sample_weight)\u001b[0m\n\u001b[0;32m    574\u001b[0m n_jobs_ \u001b[38;5;241m=\u001b[39m \u001b[38;5;28mself\u001b[39m\u001b[38;5;241m.\u001b[39mn_jobs\n\u001b[0;32m    576\u001b[0m accept_sparse \u001b[38;5;241m=\u001b[39m \u001b[38;5;28;01mFalse\u001b[39;00m \u001b[38;5;28;01mif\u001b[39;00m \u001b[38;5;28mself\u001b[39m\u001b[38;5;241m.\u001b[39mpositive \u001b[38;5;28;01melse\u001b[39;00m [\u001b[38;5;124m\"\u001b[39m\u001b[38;5;124mcsr\u001b[39m\u001b[38;5;124m\"\u001b[39m, \u001b[38;5;124m\"\u001b[39m\u001b[38;5;124mcsc\u001b[39m\u001b[38;5;124m\"\u001b[39m, \u001b[38;5;124m\"\u001b[39m\u001b[38;5;124mcoo\u001b[39m\u001b[38;5;124m\"\u001b[39m]\n\u001b[1;32m--> 578\u001b[0m X, y \u001b[38;5;241m=\u001b[39m \u001b[38;5;28;43mself\u001b[39;49m\u001b[38;5;241;43m.\u001b[39;49m\u001b[43m_validate_data\u001b[49m\u001b[43m(\u001b[49m\n\u001b[0;32m    579\u001b[0m \u001b[43m    \u001b[49m\u001b[43mX\u001b[49m\u001b[43m,\u001b[49m\u001b[43m \u001b[49m\u001b[43my\u001b[49m\u001b[43m,\u001b[49m\u001b[43m \u001b[49m\u001b[43maccept_sparse\u001b[49m\u001b[38;5;241;43m=\u001b[39;49m\u001b[43maccept_sparse\u001b[49m\u001b[43m,\u001b[49m\u001b[43m \u001b[49m\u001b[43my_numeric\u001b[49m\u001b[38;5;241;43m=\u001b[39;49m\u001b[38;5;28;43;01mTrue\u001b[39;49;00m\u001b[43m,\u001b[49m\u001b[43m \u001b[49m\u001b[43mmulti_output\u001b[49m\u001b[38;5;241;43m=\u001b[39;49m\u001b[38;5;28;43;01mTrue\u001b[39;49;00m\n\u001b[0;32m    580\u001b[0m \u001b[43m\u001b[49m\u001b[43m)\u001b[49m\n\u001b[0;32m    582\u001b[0m has_sw \u001b[38;5;241m=\u001b[39m sample_weight \u001b[38;5;129;01mis\u001b[39;00m \u001b[38;5;129;01mnot\u001b[39;00m \u001b[38;5;28;01mNone\u001b[39;00m\n\u001b[0;32m    583\u001b[0m \u001b[38;5;28;01mif\u001b[39;00m has_sw:\n",
      "File \u001b[1;32m~\\AppData\\Local\\Programs\\Python\\Python311\\Lib\\site-packages\\sklearn\\base.py:650\u001b[0m, in \u001b[0;36mBaseEstimator._validate_data\u001b[1;34m(self, X, y, reset, validate_separately, cast_to_ndarray, **check_params)\u001b[0m\n\u001b[0;32m    648\u001b[0m         y \u001b[38;5;241m=\u001b[39m check_array(y, input_name\u001b[38;5;241m=\u001b[39m\u001b[38;5;124m\"\u001b[39m\u001b[38;5;124my\u001b[39m\u001b[38;5;124m\"\u001b[39m, \u001b[38;5;241m*\u001b[39m\u001b[38;5;241m*\u001b[39mcheck_y_params)\n\u001b[0;32m    649\u001b[0m     \u001b[38;5;28;01melse\u001b[39;00m:\n\u001b[1;32m--> 650\u001b[0m         X, y \u001b[38;5;241m=\u001b[39m \u001b[43mcheck_X_y\u001b[49m\u001b[43m(\u001b[49m\u001b[43mX\u001b[49m\u001b[43m,\u001b[49m\u001b[43m \u001b[49m\u001b[43my\u001b[49m\u001b[43m,\u001b[49m\u001b[43m \u001b[49m\u001b[38;5;241;43m*\u001b[39;49m\u001b[38;5;241;43m*\u001b[39;49m\u001b[43mcheck_params\u001b[49m\u001b[43m)\u001b[49m\n\u001b[0;32m    651\u001b[0m     out \u001b[38;5;241m=\u001b[39m X, y\n\u001b[0;32m    653\u001b[0m \u001b[38;5;28;01mif\u001b[39;00m \u001b[38;5;129;01mnot\u001b[39;00m no_val_X \u001b[38;5;129;01mand\u001b[39;00m check_params\u001b[38;5;241m.\u001b[39mget(\u001b[38;5;124m\"\u001b[39m\u001b[38;5;124mensure_2d\u001b[39m\u001b[38;5;124m\"\u001b[39m, \u001b[38;5;28;01mTrue\u001b[39;00m):\n",
      "File \u001b[1;32m~\\AppData\\Local\\Programs\\Python\\Python311\\Lib\\site-packages\\sklearn\\utils\\validation.py:1263\u001b[0m, in \u001b[0;36mcheck_X_y\u001b[1;34m(X, y, accept_sparse, accept_large_sparse, dtype, order, copy, force_all_finite, ensure_2d, allow_nd, multi_output, ensure_min_samples, ensure_min_features, y_numeric, estimator)\u001b[0m\n\u001b[0;32m   1258\u001b[0m         estimator_name \u001b[38;5;241m=\u001b[39m _check_estimator_name(estimator)\n\u001b[0;32m   1259\u001b[0m     \u001b[38;5;28;01mraise\u001b[39;00m \u001b[38;5;167;01mValueError\u001b[39;00m(\n\u001b[0;32m   1260\u001b[0m         \u001b[38;5;124mf\u001b[39m\u001b[38;5;124m\"\u001b[39m\u001b[38;5;132;01m{\u001b[39;00mestimator_name\u001b[38;5;132;01m}\u001b[39;00m\u001b[38;5;124m requires y to be passed, but the target y is None\u001b[39m\u001b[38;5;124m\"\u001b[39m\n\u001b[0;32m   1261\u001b[0m     )\n\u001b[1;32m-> 1263\u001b[0m X \u001b[38;5;241m=\u001b[39m \u001b[43mcheck_array\u001b[49m\u001b[43m(\u001b[49m\n\u001b[0;32m   1264\u001b[0m \u001b[43m    \u001b[49m\u001b[43mX\u001b[49m\u001b[43m,\u001b[49m\n\u001b[0;32m   1265\u001b[0m \u001b[43m    \u001b[49m\u001b[43maccept_sparse\u001b[49m\u001b[38;5;241;43m=\u001b[39;49m\u001b[43maccept_sparse\u001b[49m\u001b[43m,\u001b[49m\n\u001b[0;32m   1266\u001b[0m \u001b[43m    \u001b[49m\u001b[43maccept_large_sparse\u001b[49m\u001b[38;5;241;43m=\u001b[39;49m\u001b[43maccept_large_sparse\u001b[49m\u001b[43m,\u001b[49m\n\u001b[0;32m   1267\u001b[0m \u001b[43m    \u001b[49m\u001b[43mdtype\u001b[49m\u001b[38;5;241;43m=\u001b[39;49m\u001b[43mdtype\u001b[49m\u001b[43m,\u001b[49m\n\u001b[0;32m   1268\u001b[0m \u001b[43m    \u001b[49m\u001b[43morder\u001b[49m\u001b[38;5;241;43m=\u001b[39;49m\u001b[43morder\u001b[49m\u001b[43m,\u001b[49m\n\u001b[0;32m   1269\u001b[0m \u001b[43m    \u001b[49m\u001b[43mcopy\u001b[49m\u001b[38;5;241;43m=\u001b[39;49m\u001b[43mcopy\u001b[49m\u001b[43m,\u001b[49m\n\u001b[0;32m   1270\u001b[0m \u001b[43m    \u001b[49m\u001b[43mforce_all_finite\u001b[49m\u001b[38;5;241;43m=\u001b[39;49m\u001b[43mforce_all_finite\u001b[49m\u001b[43m,\u001b[49m\n\u001b[0;32m   1271\u001b[0m \u001b[43m    \u001b[49m\u001b[43mensure_2d\u001b[49m\u001b[38;5;241;43m=\u001b[39;49m\u001b[43mensure_2d\u001b[49m\u001b[43m,\u001b[49m\n\u001b[0;32m   1272\u001b[0m \u001b[43m    \u001b[49m\u001b[43mallow_nd\u001b[49m\u001b[38;5;241;43m=\u001b[39;49m\u001b[43mallow_nd\u001b[49m\u001b[43m,\u001b[49m\n\u001b[0;32m   1273\u001b[0m \u001b[43m    \u001b[49m\u001b[43mensure_min_samples\u001b[49m\u001b[38;5;241;43m=\u001b[39;49m\u001b[43mensure_min_samples\u001b[49m\u001b[43m,\u001b[49m\n\u001b[0;32m   1274\u001b[0m \u001b[43m    \u001b[49m\u001b[43mensure_min_features\u001b[49m\u001b[38;5;241;43m=\u001b[39;49m\u001b[43mensure_min_features\u001b[49m\u001b[43m,\u001b[49m\n\u001b[0;32m   1275\u001b[0m \u001b[43m    \u001b[49m\u001b[43mestimator\u001b[49m\u001b[38;5;241;43m=\u001b[39;49m\u001b[43mestimator\u001b[49m\u001b[43m,\u001b[49m\n\u001b[0;32m   1276\u001b[0m \u001b[43m    \u001b[49m\u001b[43minput_name\u001b[49m\u001b[38;5;241;43m=\u001b[39;49m\u001b[38;5;124;43m\"\u001b[39;49m\u001b[38;5;124;43mX\u001b[39;49m\u001b[38;5;124;43m\"\u001b[39;49m\u001b[43m,\u001b[49m\n\u001b[0;32m   1277\u001b[0m \u001b[43m\u001b[49m\u001b[43m)\u001b[49m\n\u001b[0;32m   1279\u001b[0m y \u001b[38;5;241m=\u001b[39m _check_y(y, multi_output\u001b[38;5;241m=\u001b[39mmulti_output, y_numeric\u001b[38;5;241m=\u001b[39my_numeric, estimator\u001b[38;5;241m=\u001b[39mestimator)\n\u001b[0;32m   1281\u001b[0m check_consistent_length(X, y)\n",
      "File \u001b[1;32m~\\AppData\\Local\\Programs\\Python\\Python311\\Lib\\site-packages\\sklearn\\utils\\validation.py:1049\u001b[0m, in \u001b[0;36mcheck_array\u001b[1;34m(array, accept_sparse, accept_large_sparse, dtype, order, copy, force_all_finite, ensure_2d, allow_nd, ensure_min_samples, ensure_min_features, estimator, input_name)\u001b[0m\n\u001b[0;32m   1043\u001b[0m     \u001b[38;5;28;01mraise\u001b[39;00m \u001b[38;5;167;01mValueError\u001b[39;00m(\n\u001b[0;32m   1044\u001b[0m         \u001b[38;5;124m\"\u001b[39m\u001b[38;5;124mFound array with dim \u001b[39m\u001b[38;5;132;01m%d\u001b[39;00m\u001b[38;5;124m. \u001b[39m\u001b[38;5;132;01m%s\u001b[39;00m\u001b[38;5;124m expected <= 2.\u001b[39m\u001b[38;5;124m\"\u001b[39m\n\u001b[0;32m   1045\u001b[0m         \u001b[38;5;241m%\u001b[39m (array\u001b[38;5;241m.\u001b[39mndim, estimator_name)\n\u001b[0;32m   1046\u001b[0m     )\n\u001b[0;32m   1048\u001b[0m \u001b[38;5;28;01mif\u001b[39;00m force_all_finite:\n\u001b[1;32m-> 1049\u001b[0m     \u001b[43m_assert_all_finite\u001b[49m\u001b[43m(\u001b[49m\n\u001b[0;32m   1050\u001b[0m \u001b[43m        \u001b[49m\u001b[43marray\u001b[49m\u001b[43m,\u001b[49m\n\u001b[0;32m   1051\u001b[0m \u001b[43m        \u001b[49m\u001b[43minput_name\u001b[49m\u001b[38;5;241;43m=\u001b[39;49m\u001b[43minput_name\u001b[49m\u001b[43m,\u001b[49m\n\u001b[0;32m   1052\u001b[0m \u001b[43m        \u001b[49m\u001b[43mestimator_name\u001b[49m\u001b[38;5;241;43m=\u001b[39;49m\u001b[43mestimator_name\u001b[49m\u001b[43m,\u001b[49m\n\u001b[0;32m   1053\u001b[0m \u001b[43m        \u001b[49m\u001b[43mallow_nan\u001b[49m\u001b[38;5;241;43m=\u001b[39;49m\u001b[43mforce_all_finite\u001b[49m\u001b[43m \u001b[49m\u001b[38;5;241;43m==\u001b[39;49m\u001b[43m \u001b[49m\u001b[38;5;124;43m\"\u001b[39;49m\u001b[38;5;124;43mallow-nan\u001b[39;49m\u001b[38;5;124;43m\"\u001b[39;49m\u001b[43m,\u001b[49m\n\u001b[0;32m   1054\u001b[0m \u001b[43m    \u001b[49m\u001b[43m)\u001b[49m\n\u001b[0;32m   1056\u001b[0m \u001b[38;5;28;01mif\u001b[39;00m copy:\n\u001b[0;32m   1057\u001b[0m     \u001b[38;5;28;01mif\u001b[39;00m _is_numpy_namespace(xp):\n\u001b[0;32m   1058\u001b[0m         \u001b[38;5;66;03m# only make a copy if `array` and `array_orig` may share memory`\u001b[39;00m\n",
      "File \u001b[1;32m~\\AppData\\Local\\Programs\\Python\\Python311\\Lib\\site-packages\\sklearn\\utils\\validation.py:126\u001b[0m, in \u001b[0;36m_assert_all_finite\u001b[1;34m(X, allow_nan, msg_dtype, estimator_name, input_name)\u001b[0m\n\u001b[0;32m    123\u001b[0m \u001b[38;5;28;01mif\u001b[39;00m first_pass_isfinite:\n\u001b[0;32m    124\u001b[0m     \u001b[38;5;28;01mreturn\u001b[39;00m\n\u001b[1;32m--> 126\u001b[0m \u001b[43m_assert_all_finite_element_wise\u001b[49m\u001b[43m(\u001b[49m\n\u001b[0;32m    127\u001b[0m \u001b[43m    \u001b[49m\u001b[43mX\u001b[49m\u001b[43m,\u001b[49m\n\u001b[0;32m    128\u001b[0m \u001b[43m    \u001b[49m\u001b[43mxp\u001b[49m\u001b[38;5;241;43m=\u001b[39;49m\u001b[43mxp\u001b[49m\u001b[43m,\u001b[49m\n\u001b[0;32m    129\u001b[0m \u001b[43m    \u001b[49m\u001b[43mallow_nan\u001b[49m\u001b[38;5;241;43m=\u001b[39;49m\u001b[43mallow_nan\u001b[49m\u001b[43m,\u001b[49m\n\u001b[0;32m    130\u001b[0m \u001b[43m    \u001b[49m\u001b[43mmsg_dtype\u001b[49m\u001b[38;5;241;43m=\u001b[39;49m\u001b[43mmsg_dtype\u001b[49m\u001b[43m,\u001b[49m\n\u001b[0;32m    131\u001b[0m \u001b[43m    \u001b[49m\u001b[43mestimator_name\u001b[49m\u001b[38;5;241;43m=\u001b[39;49m\u001b[43mestimator_name\u001b[49m\u001b[43m,\u001b[49m\n\u001b[0;32m    132\u001b[0m \u001b[43m    \u001b[49m\u001b[43minput_name\u001b[49m\u001b[38;5;241;43m=\u001b[39;49m\u001b[43minput_name\u001b[49m\u001b[43m,\u001b[49m\n\u001b[0;32m    133\u001b[0m \u001b[43m\u001b[49m\u001b[43m)\u001b[49m\n",
      "File \u001b[1;32m~\\AppData\\Local\\Programs\\Python\\Python311\\Lib\\site-packages\\sklearn\\utils\\validation.py:175\u001b[0m, in \u001b[0;36m_assert_all_finite_element_wise\u001b[1;34m(X, xp, allow_nan, msg_dtype, estimator_name, input_name)\u001b[0m\n\u001b[0;32m    158\u001b[0m \u001b[38;5;28;01mif\u001b[39;00m estimator_name \u001b[38;5;129;01mand\u001b[39;00m input_name \u001b[38;5;241m==\u001b[39m \u001b[38;5;124m\"\u001b[39m\u001b[38;5;124mX\u001b[39m\u001b[38;5;124m\"\u001b[39m \u001b[38;5;129;01mand\u001b[39;00m has_nan_error:\n\u001b[0;32m    159\u001b[0m     \u001b[38;5;66;03m# Improve the error message on how to handle missing values in\u001b[39;00m\n\u001b[0;32m    160\u001b[0m     \u001b[38;5;66;03m# scikit-learn.\u001b[39;00m\n\u001b[0;32m    161\u001b[0m     msg_err \u001b[38;5;241m+\u001b[39m\u001b[38;5;241m=\u001b[39m (\n\u001b[0;32m    162\u001b[0m         \u001b[38;5;124mf\u001b[39m\u001b[38;5;124m\"\u001b[39m\u001b[38;5;130;01m\\n\u001b[39;00m\u001b[38;5;132;01m{\u001b[39;00mestimator_name\u001b[38;5;132;01m}\u001b[39;00m\u001b[38;5;124m does not accept missing values\u001b[39m\u001b[38;5;124m\"\u001b[39m\n\u001b[0;32m    163\u001b[0m         \u001b[38;5;124m\"\u001b[39m\u001b[38;5;124m encoded as NaN natively. For supervised learning, you might want\u001b[39m\u001b[38;5;124m\"\u001b[39m\n\u001b[1;32m   (...)\u001b[0m\n\u001b[0;32m    173\u001b[0m         \u001b[38;5;124m\"\u001b[39m\u001b[38;5;124m#estimators-that-handle-nan-values\u001b[39m\u001b[38;5;124m\"\u001b[39m\n\u001b[0;32m    174\u001b[0m     )\n\u001b[1;32m--> 175\u001b[0m \u001b[38;5;28;01mraise\u001b[39;00m \u001b[38;5;167;01mValueError\u001b[39;00m(msg_err)\n",
      "\u001b[1;31mValueError\u001b[0m: Input X contains NaN.\nLinearRegression does not accept missing values encoded as NaN natively. For supervised learning, you might want to consider sklearn.ensemble.HistGradientBoostingClassifier and Regressor which accept missing values encoded as NaNs natively. Alternatively, it is possible to preprocess the data, for instance by using an imputer transformer in a pipeline or drop samples with missing values. See https://scikit-learn.org/stable/modules/impute.html You can find a list of all estimators that handle NaN values at the following page: https://scikit-learn.org/stable/modules/impute.html#estimators-that-handle-nan-values"
     ]
    }
   ],
   "source": [
    "model = LinearRegression()\n",
    "model.fit(train_data, train_labels)"
   ]
  },
  {
   "cell_type": "code",
   "execution_count": 288,
   "id": "5f80eb89-fefb-4a50-b5ca-3ffcee3add09",
   "metadata": {
    "tags": []
   },
   "outputs": [
    {
     "data": {
      "text/plain": [
       "0.9529120889931264"
      ]
     },
     "execution_count": 288,
     "metadata": {},
     "output_type": "execute_result"
    }
   ],
   "source": [
    "model.score(test_data, test_labels)"
   ]
  },
  {
   "cell_type": "code",
   "execution_count": 291,
   "id": "3468c8d9-95e1-47f2-9058-a407e2108a30",
   "metadata": {
    "tags": []
   },
   "outputs": [],
   "source": [
    "from sklearn.metrics import mean_absolute_error, mean_squared_error, r2_score, mean_absolute_percentage_error\n",
    "def print_eval(X, y, model):\n",
    "    preds = model.predict(X)\n",
    "    mse = mean_squared_error(y, preds)\n",
    "    re = mean_absolute_percentage_error(y, preds)\n",
    "    r2 = r2_score(y, preds)\n",
    "    print(f\"   Mean squared error: {mse:.5}\")\n",
    "    print(f\"       Relative error: {re:.5%}\")\n",
    "    print(f\"R-squared coefficient: {r2:.5}\")"
   ]
  },
  {
   "cell_type": "code",
   "execution_count": 292,
   "id": "2c30373b-3b2d-4c56-8d12-1bfe6d77a8fc",
   "metadata": {
    "tags": []
   },
   "outputs": [
    {
     "name": "stdout",
     "output_type": "stream",
     "text": [
      "   Mean squared error: 2.1088e+07\n",
      "       Relative error: 13.63447%\n",
      "R-squared coefficient: 0.95291\n"
     ]
    }
   ],
   "source": [
    "\n",
    "print_eval(test_data, test_labels, model)"
   ]
  },
  {
   "cell_type": "code",
   "execution_count": 252,
   "id": "e2bc915c-14dd-4f18-8083-60868791b410",
   "metadata": {
    "tags": []
   },
   "outputs": [],
   "source": [
    "def plot_model_on_data(X, y, model=None):\n",
    "    plt.figure(figsize=(10, 7))\n",
    "    plt.scatter(X, y)\n",
    "    if model is not None:\n",
    "        xlim, ylim = plt.xlim(), plt.ylim()\n",
    "        line_x = np.linspace(xlim[0], xlim[1], 100)\n",
    "        line_x_df = pd.DataFrame(line_x[:, None], columns=X.columns)\n",
    "        line_y = model.predict(line_x_df)\n",
    "        plt.plot(line_x, line_y, c=\"red\", lw=3)\n",
    "        plt.xlim(xlim); plt.ylim(ylim)\n",
    "    plt.grid()\n",
    "    plt.xlabel(\"Temperatura (°C)\"); plt.ylabel(\"Consumi (GW)\")"
   ]
  },
  {
   "cell_type": "code",
   "execution_count": null,
   "id": "aa5822c7-a92b-4d7e-addf-149484f82a82",
   "metadata": {
    "tags": []
   },
   "outputs": [],
   "source": []
  },
  {
   "cell_type": "code",
   "execution_count": null,
   "id": "55c55772-549b-442c-8d45-bc8409c1dc7b",
   "metadata": {},
   "outputs": [],
   "source": []
  }
 ],
 "metadata": {
  "kernelspec": {
   "display_name": "Python 3 (ipykernel)",
   "language": "python",
   "name": "python3"
  },
  "language_info": {
   "codemirror_mode": {
    "name": "ipython",
    "version": 3
   },
   "file_extension": ".py",
   "mimetype": "text/x-python",
   "name": "python",
   "nbconvert_exporter": "python",
   "pygments_lexer": "ipython3",
   "version": "3.11.2"
  }
 },
 "nbformat": 4,
 "nbformat_minor": 5
}
